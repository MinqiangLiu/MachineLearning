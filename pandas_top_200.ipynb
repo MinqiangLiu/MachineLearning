{
  "cells": [
    {
      "cell_type": "markdown",
      "metadata": {},
      "source": [
        "# Pandas 常用方法示例\n",
        "本 Notebook 罗列了 Pandas 中大约 200 个常用方法或函数的最简示例。每个示例单独放在一个 cell 中，以便独立查看和运行。\n",
        "\n",
        "**Tips：**\n",
        "- 这些示例大多只演示基础用法；\n",
        "- 部分方法有重复或相似功能，仅作快速参考；\n",
        "- 在实际生产环境中，请结合官方文档与具体需求；\n",
        "- 某些示例需要外部文件或数据库才能完整运行，示例中多为简单演示。"
      ]
    },
    {
      "cell_type": "code",
      "execution_count": 2,
      "metadata": {},
      "outputs": [
        {
          "name": "stdout",
          "output_type": "stream",
          "text": [
            "Initial df:\n",
            "    A  B  C          D\n",
            "0  1  4  x 2021-01-01\n",
            "1  2  5  x 2021-01-02\n",
            "2  3  6  y 2021-01-03\n",
            "3  4  7  y 2021-01-04\n",
            "4  5  8  z 2021-01-05\n",
            "\n",
            "Initial s:\n",
            " 0    10\n",
            "1    20\n",
            "2    30\n",
            "3    40\n",
            "4    50\n",
            "Name: S, dtype: int64\n"
          ]
        }
      ],
      "source": [
        "# 全局导入\n",
        "import pandas as pd\n",
        "import numpy as np\n",
        "import datetime\n",
        "\n",
        "# 在多数示例中，我们会用到以下 df 和 s:\n",
        "df = pd.DataFrame({\n",
        "    'A': [1, 2, 3, 4, 5],\n",
        "    'B': [4, 5, 6, 7, 8],\n",
        "    'C': [\"x\", \"x\", \"y\", \"y\", \"z\"],\n",
        "    'D': pd.date_range(\"2021-01-01\", periods=5, freq=\"D\")\n",
        "})\n",
        "\n",
        "s = pd.Series([10, 20, 30, 40, 50], name=\"S\")\n",
        "\n",
        "print(\"Initial df:\\n\", df)\n",
        "print(\"\\nInitial s:\\n\", s)"
      ]
    },
    {
      "cell_type": "markdown",
      "metadata": {},
      "source": [
        "## 1. 基础创建和导入导出"
      ]
    },
    {
      "cell_type": "code",
      "execution_count": 3,
      "metadata": {},
      "outputs": [
        {
          "name": "stdout",
          "output_type": "stream",
          "text": [
            "x    10\n",
            "y    20\n",
            "z    30\n",
            "Name: ExampleSeries, dtype: int64\n"
          ]
        }
      ],
      "source": [
        "# 1. pd.Series\n",
        "ser = pd.Series([10, 20, 30], index=[\"x\", \"y\", \"z\"], name=\"ExampleSeries\")\n",
        "print(ser)"
      ]
    },
    {
      "cell_type": "code",
      "execution_count": 4,
      "metadata": {},
      "outputs": [
        {
          "name": "stdout",
          "output_type": "stream",
          "text": [
            "   col1   col2 col3\n",
            "0     1   True    a\n",
            "1     2  False    b\n",
            "2     3   True    c\n"
          ]
        }
      ],
      "source": [
        "# 2. pd.DataFrame\n",
        "df2 = pd.DataFrame({\n",
        "    \"col1\": [1, 2, 3],\n",
        "    \"col2\": [True, False, True],\n",
        "    \"col3\": [\"a\", \"b\", \"c\"]\n",
        "})\n",
        "print(df2)"
      ]
    },
    {
      "cell_type": "code",
      "execution_count": 5,
      "metadata": {},
      "outputs": [
        {
          "name": "stdout",
          "output_type": "stream",
          "text": [
            "pd.read_csv(\"path_to_file.csv\") # 读取 CSV 文件到 DataFrame\n"
          ]
        }
      ],
      "source": [
        "# 3. pd.read_csv (示例，仅打印函数用法)\n",
        "print('pd.read_csv(\"path_to_file.csv\") # 读取 CSV 文件到 DataFrame')"
      ]
    },
    {
      "cell_type": "code",
      "execution_count": 6,
      "metadata": {},
      "outputs": [
        {
          "name": "stdout",
          "output_type": "stream",
          "text": [
            "pd.read_excel(\"file.xlsx\", sheet_name=\"Sheet1\")\n"
          ]
        }
      ],
      "source": [
        "# 4. pd.read_excel (示例)\n",
        "print('pd.read_excel(\"file.xlsx\", sheet_name=\"Sheet1\")')"
      ]
    },
    {
      "cell_type": "code",
      "execution_count": 7,
      "metadata": {},
      "outputs": [
        {
          "name": "stdout",
          "output_type": "stream",
          "text": [
            "pd.read_table(\"data.txt\", sep=\"\t\")\n"
          ]
        }
      ],
      "source": [
        "# 5. pd.read_table\n",
        "print('pd.read_table(\"data.txt\", sep=\"\\t\")')"
      ]
    },
    {
      "cell_type": "code",
      "execution_count": 8,
      "metadata": {},
      "outputs": [
        {
          "name": "stdout",
          "output_type": "stream",
          "text": [
            "pd.read_json(\"data.json\")\n"
          ]
        }
      ],
      "source": [
        "# 6. pd.read_json\n",
        "print('pd.read_json(\"data.json\")')"
      ]
    },
    {
      "cell_type": "code",
      "execution_count": 9,
      "metadata": {},
      "outputs": [
        {
          "name": "stdout",
          "output_type": "stream",
          "text": [
            "dfs = pd.read_html(\"http://example.com\")  # 返回 DataFrame 列表\n"
          ]
        }
      ],
      "source": [
        "# 7. pd.read_html\n",
        "print('dfs = pd.read_html(\"http://example.com\")  # 返回 DataFrame 列表')"
      ]
    },
    {
      "cell_type": "code",
      "execution_count": 10,
      "metadata": {},
      "outputs": [
        {
          "name": "stdout",
          "output_type": "stream",
          "text": [
            "pd.read_sql(\"SELECT * FROM table\", con=some_db_connection)\n"
          ]
        }
      ],
      "source": [
        "# 8. pd.read_sql (示例)\n",
        "print('pd.read_sql(\"SELECT * FROM table\", con=some_db_connection)')"
      ]
    },
    {
      "cell_type": "code",
      "execution_count": 11,
      "metadata": {},
      "outputs": [
        {
          "name": "stdout",
          "output_type": "stream",
          "text": [
            "导出 df 为 CSV: out.csv (index=False)\n"
          ]
        }
      ],
      "source": [
        "# 9. DataFrame.to_csv\n",
        "df.to_csv(\"out.csv\", index=False)\n",
        "print('导出 df 为 CSV: out.csv (index=False)')"
      ]
    },
    {
      "cell_type": "code",
      "execution_count": 12,
      "metadata": {},
      "outputs": [
        {
          "name": "stdout",
          "output_type": "stream",
          "text": [
            "导出 df 为 Excel: out.xlsx\n"
          ]
        }
      ],
      "source": [
        "# Install openpyxl package\n",
        "# %pip install openpyxl\n",
        "\n",
        "# 10. DataFrame.to_excel\n",
        "df.to_excel(\"out.xlsx\", sheet_name=\"Sheet1\", index=False)\n",
        "print('导出 df 为 Excel: out.xlsx')"
      ]
    },
    {
      "cell_type": "code",
      "execution_count": 13,
      "metadata": {},
      "outputs": [
        {
          "name": "stdout",
          "output_type": "stream",
          "text": [
            "[{\"A\":1,\"B\":4,\"C\":\"x\",\"D\":1609459200000},{\"A\":2,\"B\":5,\"C\":\"x\",\"D\":1609545600000},{\"A\":3,\"B\":6,\"C\":\"y\",\"D\":1609632000000},{\"A\":4,\"B\":7,\"C\":\"y\",\"D\":1609718400000},{\"A\":5,\"B\":8,\"C\":\"z\",\"D\":1609804800000}]\n"
          ]
        }
      ],
      "source": [
        "# 11. DataFrame.to_json\n",
        "json_str = df.to_json(orient=\"records\")\n",
        "print(json_str)"
      ]
    },
    {
      "cell_type": "code",
      "execution_count": 14,
      "metadata": {},
      "outputs": [
        {
          "name": "stdout",
          "output_type": "stream",
          "text": [
            "df.to_sql('table_name', con=connection, if_exists='replace')\n"
          ]
        }
      ],
      "source": [
        "# 12. DataFrame.to_sql (示例)\n",
        "print(\"df.to_sql('table_name', con=connection, if_exists='replace')\")"
      ]
    },
    {
      "cell_type": "markdown",
      "metadata": {},
      "source": [
        "## 2. 查看数据与基本信息"
      ]
    },
    {
      "cell_type": "code",
      "execution_count": 15,
      "metadata": {},
      "outputs": [
        {
          "name": "stdout",
          "output_type": "stream",
          "text": [
            "   A  B  C          D\n",
            "0  1  4  x 2021-01-01\n",
            "1  2  5  x 2021-01-02\n",
            "2  3  6  y 2021-01-03\n"
          ]
        }
      ],
      "source": [
        "# 13. DataFrame.head\n",
        "print(df.head(3))"
      ]
    },
    {
      "cell_type": "code",
      "execution_count": 16,
      "metadata": {},
      "outputs": [
        {
          "name": "stdout",
          "output_type": "stream",
          "text": [
            "   A  B  C          D\n",
            "3  4  7  y 2021-01-04\n",
            "4  5  8  z 2021-01-05\n"
          ]
        }
      ],
      "source": [
        "# 14. DataFrame.tail\n",
        "print(df.tail(2))"
      ]
    },
    {
      "cell_type": "code",
      "execution_count": 17,
      "metadata": {},
      "outputs": [
        {
          "name": "stdout",
          "output_type": "stream",
          "text": [
            "<class 'pandas.core.frame.DataFrame'>\n",
            "RangeIndex: 5 entries, 0 to 4\n",
            "Data columns (total 4 columns):\n",
            " #   Column  Non-Null Count  Dtype         \n",
            "---  ------  --------------  -----         \n",
            " 0   A       5 non-null      int64         \n",
            " 1   B       5 non-null      int64         \n",
            " 2   C       5 non-null      object        \n",
            " 3   D       5 non-null      datetime64[ns]\n",
            "dtypes: datetime64[ns](1), int64(2), object(1)\n",
            "memory usage: 292.0+ bytes\n"
          ]
        }
      ],
      "source": [
        "# 15. DataFrame.info\n",
        "df.info()"
      ]
    },
    {
      "cell_type": "code",
      "execution_count": 18,
      "metadata": {},
      "outputs": [
        {
          "name": "stdout",
          "output_type": "stream",
          "text": [
            "              A         B                    D\n",
            "count  5.000000  5.000000                    5\n",
            "mean   3.000000  6.000000  2021-01-03 00:00:00\n",
            "min    1.000000  4.000000  2021-01-01 00:00:00\n",
            "25%    2.000000  5.000000  2021-01-02 00:00:00\n",
            "50%    3.000000  6.000000  2021-01-03 00:00:00\n",
            "75%    4.000000  7.000000  2021-01-04 00:00:00\n",
            "max    5.000000  8.000000  2021-01-05 00:00:00\n",
            "std    1.581139  1.581139                  NaN\n"
          ]
        }
      ],
      "source": [
        "# 16. DataFrame.describe\n",
        "print(df.describe())"
      ]
    },
    {
      "cell_type": "code",
      "execution_count": 19,
      "metadata": {},
      "outputs": [
        {
          "name": "stdout",
          "output_type": "stream",
          "text": [
            "(5, 4)\n"
          ]
        }
      ],
      "source": [
        "# 17. DataFrame.shape\n",
        "print(df.shape)"
      ]
    },
    {
      "cell_type": "code",
      "execution_count": 20,
      "metadata": {},
      "outputs": [
        {
          "name": "stdout",
          "output_type": "stream",
          "text": [
            "RangeIndex(start=0, stop=5, step=1)\n"
          ]
        }
      ],
      "source": [
        "# 18. DataFrame.index\n",
        "print(df.index)"
      ]
    },
    {
      "cell_type": "code",
      "execution_count": 21,
      "metadata": {},
      "outputs": [
        {
          "name": "stdout",
          "output_type": "stream",
          "text": [
            "Index(['A', 'B', 'C', 'D'], dtype='object')\n"
          ]
        }
      ],
      "source": [
        "# 19. DataFrame.columns\n",
        "print(df.columns)"
      ]
    },
    {
      "cell_type": "code",
      "execution_count": 22,
      "metadata": {},
      "outputs": [
        {
          "name": "stdout",
          "output_type": "stream",
          "text": [
            "[[1 4 'x' Timestamp('2021-01-01 00:00:00')]\n",
            " [2 5 'x' Timestamp('2021-01-02 00:00:00')]\n",
            " [3 6 'y' Timestamp('2021-01-03 00:00:00')]\n",
            " [4 7 'y' Timestamp('2021-01-04 00:00:00')]\n",
            " [5 8 'z' Timestamp('2021-01-05 00:00:00')]]\n"
          ]
        }
      ],
      "source": [
        "# 20. DataFrame.values\n",
        "print(df.values)"
      ]
    },
    {
      "cell_type": "code",
      "execution_count": 23,
      "metadata": {},
      "outputs": [
        {
          "name": "stdout",
          "output_type": "stream",
          "text": [
            "A             int64\n",
            "B             int64\n",
            "C            object\n",
            "D    datetime64[ns]\n",
            "dtype: object\n"
          ]
        }
      ],
      "source": [
        "# 21. DataFrame.dtypes\n",
        "print(df.dtypes)"
      ]
    },
    {
      "cell_type": "code",
      "execution_count": 24,
      "metadata": {},
      "outputs": [
        {
          "name": "stdout",
          "output_type": "stream",
          "text": [
            "   A  B\n",
            "0  1  4\n",
            "1  2  5\n",
            "2  3  6\n",
            "3  4  7\n",
            "4  5  8\n"
          ]
        }
      ],
      "source": [
        "# 22. DataFrame.select_dtypes\n",
        "df_num = df.select_dtypes(include=[np.number])\n",
        "print(df_num)"
      ]
    },
    {
      "cell_type": "code",
      "execution_count": 25,
      "metadata": {},
      "outputs": [
        {
          "name": "stdout",
          "output_type": "stream",
          "text": [
            "A           float64\n",
            "B             int64\n",
            "C            object\n",
            "D    datetime64[ns]\n",
            "dtype: object\n"
          ]
        }
      ],
      "source": [
        "# 23. DataFrame.astype\n",
        "df_new = df.astype({'A': 'float'})\n",
        "print(df_new.dtypes)"
      ]
    },
    {
      "cell_type": "code",
      "execution_count": 26,
      "metadata": {},
      "outputs": [
        {
          "name": "stdout",
          "output_type": "stream",
          "text": [
            "df\n",
            "    A  B  C          D\n",
            "0  1  4  x 2021-01-01\n",
            "1  2  5  x 2021-01-02\n",
            "2  3  6  y 2021-01-03\n",
            "3  4  7  y 2021-01-04\n",
            "4  5  8  z 2021-01-05\n",
            "df_copy\n",
            "     A  B  C          D\n",
            "0  10  4  x 2021-01-01\n",
            "1  20  5  x 2021-01-02\n",
            "2  30  6  y 2021-01-03\n",
            "3  40  7  y 2021-01-04\n",
            "4  50  8  z 2021-01-05\n"
          ]
        }
      ],
      "source": [
        "# 24. DataFrame.copy\n",
        "df_copy = df.copy()\n",
        "df_copy['A'] = df_copy['A']*10\n",
        "print(\"df\\n\", df)\n",
        "print(\"df_copy\\n\", df_copy)"
      ]
    },
    {
      "cell_type": "markdown",
      "metadata": {},
      "source": [
        "## 3. 缺失值处理"
      ]
    },
    {
      "cell_type": "code",
      "execution_count": 27,
      "metadata": {},
      "outputs": [
        {
          "name": "stdout",
          "output_type": "stream",
          "text": [
            "       A      B      C      D\n",
            "0  False  False  False  False\n",
            "1  False  False  False  False\n",
            "2  False  False  False  False\n",
            "3  False  False  False  False\n",
            "4  False  False  False  False\n"
          ]
        }
      ],
      "source": [
        "# 25. DataFrame.isna\n",
        "print(df.isna())"
      ]
    },
    {
      "cell_type": "code",
      "execution_count": 28,
      "metadata": {},
      "outputs": [
        {
          "name": "stdout",
          "output_type": "stream",
          "text": [
            "      A     B     C     D\n",
            "0  True  True  True  True\n",
            "1  True  True  True  True\n",
            "2  True  True  True  True\n",
            "3  True  True  True  True\n",
            "4  True  True  True  True\n"
          ]
        }
      ],
      "source": [
        "# 26. DataFrame.notna\n",
        "print(df.notna())"
      ]
    },
    {
      "cell_type": "code",
      "execution_count": 29,
      "metadata": {},
      "outputs": [
        {
          "name": "stdout",
          "output_type": "stream",
          "text": [
            "     A    B\n",
            "0  1.0  4.0\n"
          ]
        }
      ],
      "source": [
        "# 27. DataFrame.dropna\n",
        "df_na = pd.DataFrame({\n",
        "  'A': [1, np.nan, 3],\n",
        "  'B': [4, 5, np.nan]\n",
        "})\n",
        "print(df_na.dropna())"
      ]
    },
    {
      "cell_type": "code",
      "execution_count": 30,
      "metadata": {},
      "outputs": [
        {
          "name": "stdout",
          "output_type": "stream",
          "text": [
            "     A    B\n",
            "0  1.0  4.0\n",
            "1  0.0  5.0\n",
            "2  3.0  0.0\n"
          ]
        }
      ],
      "source": [
        "# 28. DataFrame.fillna\n",
        "print(df_na.fillna(0))"
      ]
    },
    {
      "cell_type": "code",
      "execution_count": 31,
      "metadata": {},
      "outputs": [
        {
          "name": "stdout",
          "output_type": "stream",
          "text": [
            "   col1  col2\n",
            "0   1.0   NaN\n",
            "1   2.0   3.0\n",
            "2   NaN   4.0\n",
            "3   4.0   NaN\n"
          ]
        }
      ],
      "source": [
        "# 29. DataFrame.replace\n",
        "df_replace = pd.DataFrame({'col1':[1,2,999,4], 'col2':[999,3,4,999]})\n",
        "print(df_replace.replace(999, np.nan))"
      ]
    },
    {
      "cell_type": "markdown",
      "metadata": {},
      "source": [
        "## 4. 重复值与去重"
      ]
    },
    {
      "cell_type": "code",
      "execution_count": 32,
      "metadata": {},
      "outputs": [
        {
          "name": "stdout",
          "output_type": "stream",
          "text": [
            "0    False\n",
            "1     True\n",
            "2    False\n",
            "3    False\n",
            "4    False\n",
            "dtype: bool\n"
          ]
        }
      ],
      "source": [
        "# 30. DataFrame.duplicated\n",
        "df_dup = pd.DataFrame({\n",
        "    'X': [1,1,2,2,3],\n",
        "    'Y': [10,10,20,21,30]\n",
        "})\n",
        "print(df_dup.duplicated())"
      ]
    },
    {
      "cell_type": "code",
      "execution_count": 33,
      "metadata": {},
      "outputs": [
        {
          "name": "stdout",
          "output_type": "stream",
          "text": [
            "   X   Y\n",
            "0  1  10\n",
            "2  2  20\n",
            "3  2  21\n",
            "4  3  30\n"
          ]
        }
      ],
      "source": [
        "# 31. DataFrame.drop_duplicates\n",
        "print(df_dup.drop_duplicates())"
      ]
    },
    {
      "cell_type": "markdown",
      "metadata": {},
      "source": [
        "## 5. 重命名与排序"
      ]
    },
    {
      "cell_type": "code",
      "execution_count": 34,
      "metadata": {},
      "outputs": [
        {
          "name": "stdout",
          "output_type": "stream",
          "text": [
            "   A_new  B  C          D\n",
            "0      1  4  x 2021-01-01\n",
            "1      2  5  x 2021-01-02\n",
            "2      3  6  y 2021-01-03\n",
            "3      4  7  y 2021-01-04\n",
            "4      5  8  z 2021-01-05\n"
          ]
        }
      ],
      "source": [
        "# 32. DataFrame.rename\n",
        "df_rename = df.rename(columns={'A': 'A_new'})\n",
        "print(df_rename.head())"
      ]
    },
    {
      "cell_type": "code",
      "execution_count": 35,
      "metadata": {},
      "outputs": [
        {
          "name": "stdout",
          "output_type": "stream",
          "text": [
            "   A  B  C          D\n",
            "4  5  8  z 2021-01-05\n",
            "3  4  7  y 2021-01-04\n",
            "2  3  6  y 2021-01-03\n",
            "1  2  5  x 2021-01-02\n",
            "0  1  4  x 2021-01-01\n"
          ]
        }
      ],
      "source": [
        "# 33. DataFrame.sort_values\n",
        "print(df.sort_values(by='B', ascending=False))"
      ]
    },
    {
      "cell_type": "code",
      "execution_count": 36,
      "metadata": {},
      "outputs": [
        {
          "name": "stdout",
          "output_type": "stream",
          "text": [
            "   A  B  C          D\n",
            "0  1  4  x 2021-01-01\n",
            "1  2  5  x 2021-01-02\n",
            "2  3  6  y 2021-01-03\n",
            "3  4  7  y 2021-01-04\n",
            "4  5  8  z 2021-01-05\n"
          ]
        }
      ],
      "source": [
        "# 34. DataFrame.sort_index\n",
        "df_sort_idx = df.sample(frac=1, random_state=1)  # 打乱\n",
        "print(df_sort_idx.sort_index())"
      ]
    },
    {
      "cell_type": "code",
      "execution_count": 37,
      "metadata": {},
      "outputs": [
        {
          "name": "stdout",
          "output_type": "stream",
          "text": [
            "   A  B  C          D\n",
            "0  3  6  y 2021-01-03\n",
            "1  2  5  x 2021-01-02\n",
            "2  5  8  z 2021-01-05\n",
            "3  1  4  x 2021-01-01\n",
            "4  4  7  y 2021-01-04\n"
          ]
        }
      ],
      "source": [
        "# 35. DataFrame.reset_index\n",
        "df_reset = df_sort_idx.reset_index(drop=True)\n",
        "print(df_reset)"
      ]
    },
    {
      "cell_type": "code",
      "execution_count": 38,
      "metadata": {},
      "outputs": [
        {
          "name": "stdout",
          "output_type": "stream",
          "text": [
            "   A  B          D\n",
            "C                 \n",
            "x  1  4 2021-01-01\n",
            "x  2  5 2021-01-02\n",
            "y  3  6 2021-01-03\n",
            "y  4  7 2021-01-04\n",
            "z  5  8 2021-01-05\n"
          ]
        }
      ],
      "source": [
        "# 36. DataFrame.set_index\n",
        "df_set = df.set_index('C')\n",
        "print(df_set)"
      ]
    },
    {
      "cell_type": "markdown",
      "metadata": {},
      "source": [
        "## 6. 索引与选择数据"
      ]
    },
    {
      "cell_type": "code",
      "execution_count": 39,
      "metadata": {},
      "outputs": [
        {
          "name": "stdout",
          "output_type": "stream",
          "text": [
            "   A  C\n",
            "0  1  x\n",
            "1  2  x\n",
            "2  3  y\n"
          ]
        }
      ],
      "source": [
        "# 37. DataFrame.loc\n",
        "print(df.loc[0:2, ['A','C']])"
      ]
    },
    {
      "cell_type": "code",
      "execution_count": 40,
      "metadata": {},
      "outputs": [
        {
          "name": "stdout",
          "output_type": "stream",
          "text": [
            "   A  B\n",
            "1  2  5\n",
            "2  3  6\n"
          ]
        }
      ],
      "source": [
        "# 38. DataFrame.iloc\n",
        "print(df.iloc[1:3, 0:2])"
      ]
    },
    {
      "cell_type": "code",
      "execution_count": 41,
      "metadata": {},
      "outputs": [
        {
          "name": "stdout",
          "output_type": "stream",
          "text": [
            "1\n"
          ]
        }
      ],
      "source": [
        "# 39. DataFrame.at (基于标签的快速定位)\n",
        "print(df.at[0, 'A'])"
      ]
    },
    {
      "cell_type": "code",
      "execution_count": 42,
      "metadata": {},
      "outputs": [
        {
          "name": "stdout",
          "output_type": "stream",
          "text": [
            "4\n"
          ]
        }
      ],
      "source": [
        "# 40. DataFrame.iat (基于整数位置)\n",
        "print(df.iat[0, 1])"
      ]
    },
    {
      "cell_type": "code",
      "execution_count": 43,
      "metadata": {},
      "outputs": [
        {
          "name": "stdout",
          "output_type": "stream",
          "text": [
            "   A  B  C          D\n",
            "2  3  6  y 2021-01-03\n",
            "3  4  7  y 2021-01-04\n"
          ]
        }
      ],
      "source": [
        "# 41. DataFrame.query\n",
        "df_query = df.query(\"A > 2 and B < 8\")\n",
        "print(df_query)"
      ]
    },
    {
      "cell_type": "code",
      "execution_count": 44,
      "metadata": {},
      "outputs": [
        {
          "name": "stdout",
          "output_type": "stream",
          "text": [
            "   A  B  C          D   E\n",
            "0  1  4  x 2021-01-01   5\n",
            "1  2  5  x 2021-01-02   7\n",
            "2  3  6  y 2021-01-03   9\n",
            "3  4  7  y 2021-01-04  11\n",
            "4  5  8  z 2021-01-05  13\n"
          ]
        }
      ],
      "source": [
        "# 42. DataFrame.eval\n",
        "df_eval = df.eval(\"E = A + B\")\n",
        "print(df_eval)"
      ]
    },
    {
      "cell_type": "code",
      "execution_count": 45,
      "metadata": {},
      "outputs": [
        {
          "name": "stdout",
          "output_type": "stream",
          "text": [
            "   A  B  C          D  AA\n",
            "0  1  4  x 2021-01-01  10\n",
            "1  2  5  x 2021-01-02  20\n",
            "2  3  6  y 2021-01-03  30\n",
            "3  4  7  y 2021-01-04  40\n",
            "4  5  8  z 2021-01-05  50\n"
          ]
        }
      ],
      "source": [
        "# 43. DataFrame.assign\n",
        "df_assign = df.assign(AA = df['A']*10)\n",
        "print(df_assign)"
      ]
    },
    {
      "cell_type": "code",
      "execution_count": 46,
      "metadata": {},
      "outputs": [
        {
          "name": "stdout",
          "output_type": "stream",
          "text": [
            "A    3.0\n",
            "B    6.0\n",
            "dtype: float64\n"
          ]
        }
      ],
      "source": [
        "# 44. DataFrame.apply\n",
        "print(df[['A','B']].apply(np.mean))"
      ]
    },
    {
      "cell_type": "code",
      "execution_count": 47,
      "metadata": {},
      "outputs": [
        {
          "name": "stdout",
          "output_type": "stream",
          "text": [
            "       A      B\n",
            "0  val_1  val_4\n",
            "1  val_2  val_5\n",
            "2  val_3  val_6\n",
            "3  val_4  val_7\n",
            "4  val_5  val_8\n"
          ]
        },
        {
          "name": "stderr",
          "output_type": "stream",
          "text": [
            "C:\\Users\\minqliu\\AppData\\Local\\Temp\\ipykernel_39108\\1386170597.py:2: FutureWarning: DataFrame.applymap has been deprecated. Use DataFrame.map instead.\n",
            "  df_str = df[['A','B']].applymap(lambda x: f\"val_{x}\")\n"
          ]
        }
      ],
      "source": [
        "# 45. DataFrame.applymap\n",
        "df_str = df[['A','B']].applymap(lambda x: f\"val_{x}\")\n",
        "print(df_str)"
      ]
    },
    {
      "cell_type": "code",
      "execution_count": 48,
      "metadata": {},
      "outputs": [
        {
          "name": "stdout",
          "output_type": "stream",
          "text": [
            "        A    B\n",
            "min   1.0  4.0\n",
            "max   5.0  8.0\n",
            "mean  3.0  6.0\n"
          ]
        }
      ],
      "source": [
        "# 46. DataFrame.aggregate / agg\n",
        "print(df[['A','B']].agg(['min','max','mean']))"
      ]
    },
    {
      "cell_type": "code",
      "execution_count": 49,
      "metadata": {},
      "outputs": [
        {
          "name": "stdout",
          "output_type": "stream",
          "text": [
            "    A   B\n",
            "0  11  14\n",
            "1  12  15\n",
            "2  13  16\n",
            "3  14  17\n",
            "4  15  18\n"
          ]
        }
      ],
      "source": [
        "# 47. DataFrame.transform\n",
        "print(df[['A','B']].transform(lambda x: x+10))"
      ]
    },
    {
      "cell_type": "markdown",
      "metadata": {},
      "source": [
        "## 7. 分组与透视"
      ]
    },
    {
      "cell_type": "code",
      "execution_count": 50,
      "metadata": {},
      "outputs": [
        {
          "name": "stdout",
          "output_type": "stream",
          "text": [
            "C\n",
            "x    3\n",
            "y    7\n",
            "z    5\n",
            "Name: A, dtype: int64\n"
          ]
        }
      ],
      "source": [
        "# 48. DataFrame.groupby\n",
        "grouped = df.groupby('C')\n",
        "print(grouped['A'].sum())"
      ]
    },
    {
      "cell_type": "code",
      "execution_count": 51,
      "metadata": {},
      "outputs": [
        {
          "name": "stdout",
          "output_type": "stream",
          "text": [
            "bar  A  B\n",
            "foo      \n",
            "one  1  2\n",
            "two  3  4\n"
          ]
        }
      ],
      "source": [
        "# 49. DataFrame.pivot\n",
        "df_pivot = pd.DataFrame({\n",
        "    'foo': ['one','one','two','two'],\n",
        "    'bar': ['A','B','A','B'],\n",
        "    'val': [1,2,3,4]\n",
        "})\n",
        "print(df_pivot.pivot(index='foo', columns='bar', values='val'))"
      ]
    },
    {
      "cell_type": "code",
      "execution_count": 52,
      "metadata": {},
      "outputs": [
        {
          "name": "stdout",
          "output_type": "stream",
          "text": [
            "B    one  two\n",
            "A            \n",
            "bar    3    4\n",
            "foo    1    2\n"
          ]
        }
      ],
      "source": [
        "# 50. DataFrame.pivot_table\n",
        "df_pivot_table = pd.DataFrame({\n",
        "    'A': ['foo','foo','bar','bar'],\n",
        "    'B': ['one','two','one','two'],\n",
        "    'C': [1,2,3,4]\n",
        "})\n",
        "pt = df_pivot_table.pivot_table(index='A', columns='B', values='C', aggfunc='sum')\n",
        "print(pt)"
      ]
    },
    {
      "cell_type": "code",
      "execution_count": 53,
      "metadata": {},
      "outputs": [
        {
          "name": "stdout",
          "output_type": "stream",
          "text": [
            "   C variable  value\n",
            "0  x        A      1\n",
            "1  x        A      2\n",
            "2  y        A      3\n",
            "3  y        A      4\n",
            "4  z        A      5\n",
            "5  x        B      4\n",
            "6  x        B      5\n",
            "7  y        B      6\n",
            "8  y        B      7\n",
            "9  z        B      8\n"
          ]
        }
      ],
      "source": [
        "# 51. DataFrame.melt\n",
        "df_melt = pd.melt(df, id_vars=['C'], value_vars=['A','B'])\n",
        "print(df_melt)"
      ]
    },
    {
      "cell_type": "code",
      "execution_count": 54,
      "metadata": {},
      "outputs": [
        {
          "name": "stdout",
          "output_type": "stream",
          "text": [
            "0  A                      1\n",
            "   B                      4\n",
            "   C                      x\n",
            "   D    2021-01-01 00:00:00\n",
            "1  A                      2\n",
            "   B                      5\n",
            "   C                      x\n",
            "   D    2021-01-02 00:00:00\n",
            "2  A                      3\n",
            "   B                      6\n",
            "   C                      y\n",
            "   D    2021-01-03 00:00:00\n",
            "3  A                      4\n",
            "   B                      7\n",
            "   C                      y\n",
            "   D    2021-01-04 00:00:00\n",
            "4  A                      5\n",
            "   B                      8\n",
            "   C                      z\n",
            "   D    2021-01-05 00:00:00\n",
            "dtype: object\n"
          ]
        }
      ],
      "source": [
        "# 52. DataFrame.stack\n",
        "df_stacked = df.stack()\n",
        "print(df_stacked)"
      ]
    },
    {
      "cell_type": "code",
      "execution_count": 55,
      "metadata": {},
      "outputs": [
        {
          "name": "stdout",
          "output_type": "stream",
          "text": [
            "   A  B  C                    D\n",
            "0  1  4  x  2021-01-01 00:00:00\n",
            "1  2  5  x  2021-01-02 00:00:00\n",
            "2  3  6  y  2021-01-03 00:00:00\n",
            "3  4  7  y  2021-01-04 00:00:00\n",
            "4  5  8  z  2021-01-05 00:00:00\n"
          ]
        }
      ],
      "source": [
        "# 53. DataFrame.unstack\n",
        "print(df_stacked.unstack())"
      ]
    },
    {
      "cell_type": "code",
      "execution_count": 56,
      "metadata": {},
      "outputs": [
        {
          "name": "stdout",
          "output_type": "stream",
          "text": [
            "   key  left_val  right_val\n",
            "0    2        20        200\n",
            "1    3        30        300\n"
          ]
        }
      ],
      "source": [
        "# 54. DataFrame.merge\n",
        "df_left = pd.DataFrame({'key':[1,2,3], 'left_val':[10,20,30]})\n",
        "df_right = pd.DataFrame({'key':[2,3,4], 'right_val':[200,300,400]})\n",
        "df_merged = pd.merge(df_left, df_right, on='key', how='inner')\n",
        "print(df_merged)"
      ]
    },
    {
      "cell_type": "code",
      "execution_count": 57,
      "metadata": {},
      "outputs": [
        {
          "name": "stdout",
          "output_type": "stream",
          "text": [
            "     left_val  right_val\n",
            "key                     \n",
            "2          20        200\n",
            "3          30        300\n"
          ]
        }
      ],
      "source": [
        "# 55. DataFrame.join\n",
        "df_left2 = df_left.set_index('key')\n",
        "df_right2 = df_right.set_index('key')\n",
        "df_joined = df_left2.join(df_right2, how='inner')\n",
        "print(df_joined)"
      ]
    },
    {
      "cell_type": "code",
      "execution_count": 58,
      "metadata": {},
      "outputs": [
        {
          "name": "stdout",
          "output_type": "stream",
          "text": [
            "   col\n",
            "0    1\n",
            "1    2\n",
            "2    3\n",
            "3    4\n"
          ]
        }
      ],
      "source": [
        "# 56. pd.concat\n",
        "df_a = pd.DataFrame({'col':[1,2]})\n",
        "df_b = pd.DataFrame({'col':[3,4]})\n",
        "df_cat = pd.concat([df_a, df_b], ignore_index=True)\n",
        "print(df_cat)"
      ]
    },
    {
      "cell_type": "code",
      "execution_count": 59,
      "metadata": {},
      "outputs": [
        {
          "name": "stdout",
          "output_type": "stream",
          "text": [
            "     A  B\n",
            "0  1.0  3\n",
            "1  6.0  4\n"
          ]
        }
      ],
      "source": [
        "# 57. DataFrame.combine_first\n",
        "df1 = pd.DataFrame({'A':[1,np.nan], 'B':[3,4]})\n",
        "df2 = pd.DataFrame({'A':[5,6]})\n",
        "df_combined = df1.combine_first(df2)\n",
        "print(df_combined)"
      ]
    },
    {
      "cell_type": "code",
      "execution_count": 60,
      "metadata": {},
      "outputs": [
        {
          "name": "stdout",
          "output_type": "stream",
          "text": [
            "left:\n",
            "       X     Y\n",
            "0  10.0  30.0\n",
            "1  20.0  40.0\n",
            "2   NaN   NaN\n",
            "3   NaN   NaN\n",
            "\n",
            "right:\n",
            "        X   Y\n",
            "0    NaN NaN\n",
            "1  100.0 NaN\n",
            "2  200.0 NaN\n",
            "3  300.0 NaN\n"
          ]
        }
      ],
      "source": [
        "# 58. DataFrame.align\n",
        "df3 = pd.DataFrame({'X':[10,20], 'Y':[30,40]}, index=[0,1])\n",
        "df4 = pd.DataFrame({'X':[100,200,300]}, index=[1,2,3])\n",
        "left, right = df3.align(df4, join='outer')\n",
        "print('left:\\n', left)\n",
        "print('\\nright:\\n', right)"
      ]
    },
    {
      "cell_type": "code",
      "execution_count": 61,
      "metadata": {},
      "outputs": [
        {
          "name": "stdout",
          "output_type": "stream",
          "text": [
            "   A    B\n",
            "C        \n",
            "x  3  4.5\n",
            "y  7  6.5\n",
            "z  5  8.0\n"
          ]
        }
      ],
      "source": [
        "# 59. DataFrame.groupby().agg\n",
        "print(df.groupby('C').agg({'A':'sum','B':'mean'}))"
      ]
    },
    {
      "cell_type": "code",
      "execution_count": 62,
      "metadata": {},
      "outputs": [
        {
          "name": "stdout",
          "output_type": "stream",
          "text": [
            "C\n",
            "x     3.0\n",
            "y     7.0\n",
            "z    10.0\n",
            "dtype: float64\n"
          ]
        },
        {
          "name": "stderr",
          "output_type": "stream",
          "text": [
            "C:\\Users\\minqliu\\AppData\\Local\\Temp\\ipykernel_39108\\3754642921.py:4: DeprecationWarning: DataFrameGroupBy.apply operated on the grouping columns. This behavior is deprecated, and in a future version of pandas the grouping columns will be excluded from the operation. Either pass `include_groups=False` to exclude the groupings or explicitly select the grouping columns after groupby to silence this warning.\n",
            "  res = df.groupby('C').apply(custom_func)\n"
          ]
        }
      ],
      "source": [
        "# 60. DataFrame.groupby().apply\n",
        "def custom_func(x):\n",
        "    return x['A'].mean() * 2\n",
        "res = df.groupby('C').apply(custom_func)\n",
        "print(res)"
      ]
    },
    {
      "cell_type": "code",
      "execution_count": 63,
      "metadata": {},
      "outputs": [
        {
          "name": "stdout",
          "output_type": "stream",
          "text": [
            "   A  B  C          D  A_mean\n",
            "0  1  4  x 2021-01-01     1.5\n",
            "1  2  5  x 2021-01-02     1.5\n",
            "2  3  6  y 2021-01-03     3.5\n",
            "3  4  7  y 2021-01-04     3.5\n",
            "4  5  8  z 2021-01-05     5.0\n"
          ]
        }
      ],
      "source": [
        "# 61. DataFrame.groupby().transform\n",
        "df['A_mean'] = df.groupby('C')['A'].transform('mean')\n",
        "print(df)"
      ]
    },
    {
      "cell_type": "code",
      "execution_count": 64,
      "metadata": {},
      "outputs": [
        {
          "name": "stdout",
          "output_type": "stream",
          "text": [
            "C\n",
            "x    2\n",
            "y    2\n",
            "z    1\n",
            "dtype: int64\n"
          ]
        }
      ],
      "source": [
        "# 62. DataFrame.groupby().size\n",
        "print(df.groupby('C').size())"
      ]
    },
    {
      "cell_type": "code",
      "execution_count": 65,
      "metadata": {},
      "outputs": [
        {
          "name": "stdout",
          "output_type": "stream",
          "text": [
            "   count  mean       std  min   25%  50%   75%  max\n",
            "C                                                  \n",
            "x    2.0   1.5  0.707107  1.0  1.25  1.5  1.75  2.0\n",
            "y    2.0   3.5  0.707107  3.0  3.25  3.5  3.75  4.0\n",
            "z    1.0   5.0       NaN  5.0  5.00  5.0  5.00  5.0\n"
          ]
        }
      ],
      "source": [
        "# 63. DataFrame.groupby().describe\n",
        "print(df.groupby('C')['A'].describe())"
      ]
    },
    {
      "cell_type": "markdown",
      "metadata": {},
      "source": [
        "## 8. 统计分析"
      ]
    },
    {
      "cell_type": "code",
      "execution_count": 66,
      "metadata": {},
      "outputs": [
        {
          "name": "stdout",
          "output_type": "stream",
          "text": [
            "               A         B    A_mean\n",
            "A       1.000000  1.000000  0.948683\n",
            "B       1.000000  1.000000  0.948683\n",
            "A_mean  0.948683  0.948683  1.000000\n"
          ]
        }
      ],
      "source": [
        "# 64. DataFrame.corr\n",
        "print(df.select_dtypes(include=[np.number]).corr())"
      ]
    },
    {
      "cell_type": "code",
      "execution_count": 67,
      "metadata": {},
      "outputs": [
        {
          "name": "stdout",
          "output_type": "stream",
          "text": [
            "           A     B  A_mean\n",
            "A       2.50  2.50    2.25\n",
            "B       2.50  2.50    2.25\n",
            "A_mean  2.25  2.25    2.25\n"
          ]
        }
      ],
      "source": [
        "# 65. DataFrame.cov\n",
        "print(df.select_dtypes(include=[np.number]).cov())"
      ]
    },
    {
      "cell_type": "code",
      "execution_count": 68,
      "metadata": {},
      "outputs": [
        {
          "name": "stdout",
          "output_type": "stream",
          "text": [
            "A         1.0\n",
            "B         1.0\n",
            "A_mean    NaN\n",
            "C         NaN\n",
            "D         NaN\n",
            "dtype: float64\n"
          ]
        }
      ],
      "source": [
        "# 66. DataFrame.corrwith\n",
        "df_extra = df[['A','B']]\n",
        "print(df.corrwith(df_extra))"
      ]
    },
    {
      "cell_type": "code",
      "execution_count": 69,
      "metadata": {},
      "outputs": [
        {
          "name": "stdout",
          "output_type": "stream",
          "text": [
            "   A  B\n",
            "0  1  4\n",
            "1  2  5\n",
            "2  3  6\n",
            "3  4  7\n",
            "4  5  8\n"
          ]
        }
      ],
      "source": [
        "# 67. DataFrame.cummax\n",
        "print(df[['A','B']].cummax())"
      ]
    },
    {
      "cell_type": "code",
      "execution_count": 70,
      "metadata": {},
      "outputs": [
        {
          "name": "stdout",
          "output_type": "stream",
          "text": [
            "   A  B\n",
            "0  1  4\n",
            "1  1  4\n",
            "2  1  4\n",
            "3  1  4\n",
            "4  1  4\n"
          ]
        }
      ],
      "source": [
        "# 68. DataFrame.cummin\n",
        "print(df[['A','B']].cummin())"
      ]
    },
    {
      "cell_type": "code",
      "execution_count": 71,
      "metadata": {},
      "outputs": [
        {
          "name": "stdout",
          "output_type": "stream",
          "text": [
            "     A     B\n",
            "0    1     4\n",
            "1    2    20\n",
            "2    6   120\n",
            "3   24   840\n",
            "4  120  6720\n"
          ]
        }
      ],
      "source": [
        "# 69. DataFrame.cumprod\n",
        "print(df[['A','B']].cumprod())"
      ]
    },
    {
      "cell_type": "code",
      "execution_count": 72,
      "metadata": {},
      "outputs": [
        {
          "name": "stdout",
          "output_type": "stream",
          "text": [
            "    A   B\n",
            "0   1   4\n",
            "1   3   9\n",
            "2   6  15\n",
            "3  10  22\n",
            "4  15  30\n"
          ]
        }
      ],
      "source": [
        "# 70. DataFrame.cumsum\n",
        "print(df[['A','B']].cumsum())"
      ]
    },
    {
      "cell_type": "code",
      "execution_count": 73,
      "metadata": {},
      "outputs": [
        {
          "name": "stdout",
          "output_type": "stream",
          "text": [
            "     A    B\n",
            "0  NaN  NaN\n",
            "1  1.0  1.0\n",
            "2  1.0  1.0\n",
            "3  1.0  1.0\n",
            "4  1.0  1.0\n"
          ]
        }
      ],
      "source": [
        "# 71. DataFrame.diff\n",
        "print(df[['A','B']].diff())"
      ]
    },
    {
      "cell_type": "code",
      "execution_count": 74,
      "metadata": {},
      "outputs": [
        {
          "name": "stdout",
          "output_type": "stream",
          "text": [
            "     A    B\n",
            "0  1.0  1.0\n",
            "1  2.0  2.0\n",
            "2  3.0  3.0\n",
            "3  4.0  4.0\n",
            "4  5.0  5.0\n"
          ]
        }
      ],
      "source": [
        "# 72. DataFrame.rank\n",
        "print(df[['A','B']].rank())"
      ]
    },
    {
      "cell_type": "code",
      "execution_count": 75,
      "metadata": {},
      "outputs": [
        {
          "name": "stdout",
          "output_type": "stream",
          "text": [
            "      x     y\n",
            "0  1.12  3.57\n",
            "1  2.35  5.00\n"
          ]
        }
      ],
      "source": [
        "# 73. DataFrame.round\n",
        "df_float = pd.DataFrame({'x':[1.1234,2.3456],'y':[3.5678,4.9999]})\n",
        "print(df_float.round(2))"
      ]
    },
    {
      "cell_type": "code",
      "execution_count": 76,
      "metadata": {},
      "outputs": [
        {
          "name": "stdout",
          "output_type": "stream",
          "text": [
            "   A  B  C          D  A_mean\n",
            "1  2  5  x 2021-01-02     1.5\n",
            "4  5  8  z 2021-01-05     5.0\n"
          ]
        }
      ],
      "source": [
        "# 74. DataFrame.sample\n",
        "print(df.sample(n=2, random_state=42))"
      ]
    },
    {
      "cell_type": "code",
      "execution_count": 77,
      "metadata": {},
      "outputs": [
        {
          "name": "stdout",
          "output_type": "stream",
          "text": [
            "   A  B  C          D  A_mean\n",
            "4  5  8  z 2021-01-05     5.0\n",
            "3  4  7  y 2021-01-04     3.5\n"
          ]
        }
      ],
      "source": [
        "# 75. DataFrame.nlargest\n",
        "print(df.nlargest(2, 'A'))"
      ]
    },
    {
      "cell_type": "code",
      "execution_count": 78,
      "metadata": {},
      "outputs": [
        {
          "name": "stdout",
          "output_type": "stream",
          "text": [
            "   A  B  C          D  A_mean\n",
            "0  1  4  x 2021-01-01     1.5\n",
            "1  2  5  x 2021-01-02     1.5\n"
          ]
        }
      ],
      "source": [
        "# 76. DataFrame.nsmallest\n",
        "print(df.nsmallest(2, 'B'))"
      ]
    },
    {
      "cell_type": "code",
      "execution_count": 79,
      "metadata": {},
      "outputs": [
        {
          "name": "stdout",
          "output_type": "stream",
          "text": [
            "       A     B\n",
            "0  False  True\n",
            "1  False  True\n",
            "2  False  True\n",
            "3   True  True\n",
            "4   True  True\n",
            "A    True\n",
            "B    True\n",
            "dtype: bool\n"
          ]
        }
      ],
      "source": [
        "# 77. DataFrame.any\n",
        "print(df[['A','B']] > 3)\n",
        "print((df[['A','B']] > 3).any())"
      ]
    },
    {
      "cell_type": "code",
      "execution_count": 80,
      "metadata": {},
      "outputs": [
        {
          "name": "stdout",
          "output_type": "stream",
          "text": [
            "A    True\n",
            "B    True\n",
            "dtype: bool\n"
          ]
        }
      ],
      "source": [
        "# 78. DataFrame.all\n",
        "print((df[['A','B']] > 0).all())"
      ]
    },
    {
      "cell_type": "code",
      "execution_count": 81,
      "metadata": {},
      "outputs": [
        {
          "name": "stdout",
          "output_type": "stream",
          "text": [
            "A    4\n",
            "B    4\n",
            "dtype: int64\n"
          ]
        }
      ],
      "source": [
        "# 79. DataFrame.idxmax\n",
        "print(df[['A','B']].idxmax())"
      ]
    },
    {
      "cell_type": "code",
      "execution_count": 82,
      "metadata": {},
      "outputs": [
        {
          "name": "stdout",
          "output_type": "stream",
          "text": [
            "A    0\n",
            "B    0\n",
            "dtype: int64\n"
          ]
        }
      ],
      "source": [
        "# 80. DataFrame.idxmin\n",
        "print(df[['A','B']].idxmin())"
      ]
    },
    {
      "cell_type": "code",
      "execution_count": 83,
      "metadata": {},
      "outputs": [
        {
          "name": "stdout",
          "output_type": "stream",
          "text": [
            "Index     132\n",
            "A          40\n",
            "B          40\n",
            "C          40\n",
            "D          40\n",
            "A_mean     40\n",
            "dtype: int64\n"
          ]
        }
      ],
      "source": [
        "# 81. DataFrame.memory_usage\n",
        "print(df.memory_usage())"
      ]
    },
    {
      "cell_type": "code",
      "execution_count": 84,
      "metadata": {},
      "outputs": [
        {
          "name": "stdout",
          "output_type": "stream",
          "text": [
            "       x      y      z\n",
            "0   True  False  False\n",
            "1   True  False  False\n",
            "2  False   True  False\n",
            "3  False   True  False\n",
            "4  False  False   True\n"
          ]
        }
      ],
      "source": [
        "# 82. pd.get_dummies\n",
        "df_dum = pd.get_dummies(df['C'])\n",
        "print(df_dum)"
      ]
    },
    {
      "cell_type": "code",
      "execution_count": 85,
      "metadata": {},
      "outputs": [
        {
          "name": "stdout",
          "output_type": "stream",
          "text": [
            "[[1 4 'x' Timestamp('2021-01-01 00:00:00') 1.5]\n",
            " [2 5 'x' Timestamp('2021-01-02 00:00:00') 1.5]\n",
            " [3 6 'y' Timestamp('2021-01-03 00:00:00') 3.5]\n",
            " [4 7 'y' Timestamp('2021-01-04 00:00:00') 3.5]\n",
            " [5 8 'z' Timestamp('2021-01-05 00:00:00') 5.0]]\n"
          ]
        }
      ],
      "source": [
        "# 83. DataFrame.to_numpy\n",
        "arr_np = df.to_numpy()\n",
        "print(arr_np)"
      ]
    },
    {
      "cell_type": "code",
      "execution_count": 86,
      "metadata": {},
      "outputs": [
        {
          "data": {
            "text/html": [
              "<style type=\"text/css\">\n",
              "#T_7da88_row4_col0, #T_7da88_row4_col1, #T_7da88_row4_col2, #T_7da88_row4_col3, #T_7da88_row4_col4 {\n",
              "  background-color: yellow;\n",
              "}\n",
              "</style>\n",
              "<table id=\"T_7da88\">\n",
              "  <thead>\n",
              "    <tr>\n",
              "      <th class=\"blank level0\" >&nbsp;</th>\n",
              "      <th id=\"T_7da88_level0_col0\" class=\"col_heading level0 col0\" >A</th>\n",
              "      <th id=\"T_7da88_level0_col1\" class=\"col_heading level0 col1\" >B</th>\n",
              "      <th id=\"T_7da88_level0_col2\" class=\"col_heading level0 col2\" >C</th>\n",
              "      <th id=\"T_7da88_level0_col3\" class=\"col_heading level0 col3\" >D</th>\n",
              "      <th id=\"T_7da88_level0_col4\" class=\"col_heading level0 col4\" >A_mean</th>\n",
              "    </tr>\n",
              "  </thead>\n",
              "  <tbody>\n",
              "    <tr>\n",
              "      <th id=\"T_7da88_level0_row0\" class=\"row_heading level0 row0\" >0</th>\n",
              "      <td id=\"T_7da88_row0_col0\" class=\"data row0 col0\" >1</td>\n",
              "      <td id=\"T_7da88_row0_col1\" class=\"data row0 col1\" >4</td>\n",
              "      <td id=\"T_7da88_row0_col2\" class=\"data row0 col2\" >x</td>\n",
              "      <td id=\"T_7da88_row0_col3\" class=\"data row0 col3\" >2021-01-01 00:00:00</td>\n",
              "      <td id=\"T_7da88_row0_col4\" class=\"data row0 col4\" >1.500000</td>\n",
              "    </tr>\n",
              "    <tr>\n",
              "      <th id=\"T_7da88_level0_row1\" class=\"row_heading level0 row1\" >1</th>\n",
              "      <td id=\"T_7da88_row1_col0\" class=\"data row1 col0\" >2</td>\n",
              "      <td id=\"T_7da88_row1_col1\" class=\"data row1 col1\" >5</td>\n",
              "      <td id=\"T_7da88_row1_col2\" class=\"data row1 col2\" >x</td>\n",
              "      <td id=\"T_7da88_row1_col3\" class=\"data row1 col3\" >2021-01-02 00:00:00</td>\n",
              "      <td id=\"T_7da88_row1_col4\" class=\"data row1 col4\" >1.500000</td>\n",
              "    </tr>\n",
              "    <tr>\n",
              "      <th id=\"T_7da88_level0_row2\" class=\"row_heading level0 row2\" >2</th>\n",
              "      <td id=\"T_7da88_row2_col0\" class=\"data row2 col0\" >3</td>\n",
              "      <td id=\"T_7da88_row2_col1\" class=\"data row2 col1\" >6</td>\n",
              "      <td id=\"T_7da88_row2_col2\" class=\"data row2 col2\" >y</td>\n",
              "      <td id=\"T_7da88_row2_col3\" class=\"data row2 col3\" >2021-01-03 00:00:00</td>\n",
              "      <td id=\"T_7da88_row2_col4\" class=\"data row2 col4\" >3.500000</td>\n",
              "    </tr>\n",
              "    <tr>\n",
              "      <th id=\"T_7da88_level0_row3\" class=\"row_heading level0 row3\" >3</th>\n",
              "      <td id=\"T_7da88_row3_col0\" class=\"data row3 col0\" >4</td>\n",
              "      <td id=\"T_7da88_row3_col1\" class=\"data row3 col1\" >7</td>\n",
              "      <td id=\"T_7da88_row3_col2\" class=\"data row3 col2\" >y</td>\n",
              "      <td id=\"T_7da88_row3_col3\" class=\"data row3 col3\" >2021-01-04 00:00:00</td>\n",
              "      <td id=\"T_7da88_row3_col4\" class=\"data row3 col4\" >3.500000</td>\n",
              "    </tr>\n",
              "    <tr>\n",
              "      <th id=\"T_7da88_level0_row4\" class=\"row_heading level0 row4\" >4</th>\n",
              "      <td id=\"T_7da88_row4_col0\" class=\"data row4 col0\" >5</td>\n",
              "      <td id=\"T_7da88_row4_col1\" class=\"data row4 col1\" >8</td>\n",
              "      <td id=\"T_7da88_row4_col2\" class=\"data row4 col2\" >z</td>\n",
              "      <td id=\"T_7da88_row4_col3\" class=\"data row4 col3\" >2021-01-05 00:00:00</td>\n",
              "      <td id=\"T_7da88_row4_col4\" class=\"data row4 col4\" >5.000000</td>\n",
              "    </tr>\n",
              "  </tbody>\n",
              "</table>\n"
            ],
            "text/plain": [
              "<pandas.io.formats.style.Styler at 0x2097a97f910>"
            ]
          },
          "execution_count": 86,
          "metadata": {},
          "output_type": "execute_result"
        }
      ],
      "source": [
        "# Install Jinja2 package\n",
        "# %pip install Jinja2\n",
        "\n",
        "# 84. DataFrame.style (简单示例)\n",
        "styled = df.style.highlight_max(axis=0)\n",
        "styled"
      ]
    },
    {
      "cell_type": "code",
      "execution_count": 87,
      "metadata": {},
      "outputs": [
        {
          "name": "stdout",
          "output_type": "stream",
          "text": [
            "               A         B    C                    D  A_mean\n",
            "count   5.000000  5.000000    5                    5     5.0\n",
            "unique       NaN       NaN    3                  NaN     NaN\n",
            "top          NaN       NaN    x                  NaN     NaN\n",
            "freq         NaN       NaN    2                  NaN     NaN\n",
            "mean    3.000000  6.000000  NaN  2021-01-03 00:00:00     3.0\n",
            "min     1.000000  4.000000  NaN  2021-01-01 00:00:00     1.5\n",
            "25%     2.000000  5.000000  NaN  2021-01-02 00:00:00     1.5\n",
            "50%     3.000000  6.000000  NaN  2021-01-03 00:00:00     3.5\n",
            "75%     4.000000  7.000000  NaN  2021-01-04 00:00:00     3.5\n",
            "max     5.000000  8.000000  NaN  2021-01-05 00:00:00     5.0\n",
            "std     1.581139  1.581139  NaN                  NaN     1.5\n"
          ]
        }
      ],
      "source": [
        "# 85. DataFrame.describe(include='all')\n",
        "print(df.describe(include='all'))"
      ]
    },
    {
      "cell_type": "code",
      "execution_count": 88,
      "metadata": {},
      "outputs": [
        {
          "name": "stdout",
          "output_type": "stream",
          "text": [
            "A         5\n",
            "B         5\n",
            "C         5\n",
            "D         5\n",
            "A_mean    5\n",
            "dtype: int64\n"
          ]
        }
      ],
      "source": [
        "# 86. DataFrame.count\n",
        "print(df.count())"
      ]
    },
    {
      "cell_type": "code",
      "execution_count": 89,
      "metadata": {},
      "outputs": [
        {
          "name": "stdout",
          "output_type": "stream",
          "text": [
            "C\n",
            "x    2\n",
            "y    2\n",
            "z    1\n",
            "Name: count, dtype: int64\n"
          ]
        }
      ],
      "source": [
        "# 87. DataFrame.value_counts (Series专用，或对一列)\n",
        "print(df['C'].value_counts())"
      ]
    },
    {
      "cell_type": "code",
      "execution_count": 90,
      "metadata": {},
      "outputs": [
        {
          "name": "stdout",
          "output_type": "stream",
          "text": [
            "   A  B    C          D  A_mean\n",
            "0  1  4    x 2021-01-01     1.5\n",
            "1  2  5    y 2021-01-02     3.5\n",
            "2  3  6  NaN 2021-01-03     NaN\n",
            "3  4  7  NaN 2021-01-04     NaN\n",
            "4  5  8  NaN 2021-01-05     NaN\n"
          ]
        }
      ],
      "source": [
        "# 88. DataFrame.mode\n",
        "print(df.mode())"
      ]
    },
    {
      "cell_type": "code",
      "execution_count": 91,
      "metadata": {},
      "outputs": [
        {
          "name": "stdout",
          "output_type": "stream",
          "text": [
            "   A  B\n",
            "0  2  4\n",
            "1  2  4\n",
            "2  3  4\n",
            "3  4  4\n",
            "4  4  4\n"
          ]
        }
      ],
      "source": [
        "# 89. DataFrame.clip\n",
        "print(df[['A','B']].clip(lower=2, upper=4))"
      ]
    },
    {
      "cell_type": "code",
      "execution_count": 92,
      "metadata": {},
      "outputs": [
        {
          "name": "stdout",
          "output_type": "stream",
          "text": [
            "            A  B  C  A_mean\n",
            "D                          \n",
            "2021-01-01  1  4  x     1.5\n",
            "2021-01-02  2  5  x     1.5\n",
            "2021-01-03  3  6  y     3.5\n",
            "2021-01-04  4  7  y     3.5\n",
            "2021-01-05  5  8  z     5.0\n"
          ]
        }
      ],
      "source": [
        "# 90. DataFrame.between_time (示例需要时间索引)\n",
        "df_time = df.set_index('D')\n",
        "print(df_time.between_time('00:00', '23:59'))  # 只示例"
      ]
    },
    {
      "cell_type": "code",
      "execution_count": 93,
      "metadata": {},
      "outputs": [
        {
          "name": "stdout",
          "output_type": "stream",
          "text": [
            "(同 between_time 类似, 需特定时间)\n"
          ]
        }
      ],
      "source": [
        "# 91. DataFrame.at_time\n",
        "print(\"(同 between_time 类似, 需特定时间)\")"
      ]
    },
    {
      "cell_type": "code",
      "execution_count": 94,
      "metadata": {},
      "outputs": [
        {
          "name": "stdout",
          "output_type": "stream",
          "text": [
            "            A  B  C  A_mean\n",
            "D                          \n",
            "2021-01-01  1  4  x     1.5\n",
            "2021-01-02  2  5  x     1.5\n"
          ]
        },
        {
          "name": "stderr",
          "output_type": "stream",
          "text": [
            "C:\\Users\\minqliu\\AppData\\Local\\Temp\\ipykernel_39108\\3684921518.py:2: FutureWarning: first is deprecated and will be removed in a future version. Please create a mask and filter using `.loc` instead\n",
            "  df_first = df_time.first('2D')\n"
          ]
        }
      ],
      "source": [
        "# 92. DataFrame.first\n",
        "df_first = df_time.first('2D')\n",
        "print(df_first)"
      ]
    },
    {
      "cell_type": "code",
      "execution_count": 95,
      "metadata": {},
      "outputs": [
        {
          "name": "stdout",
          "output_type": "stream",
          "text": [
            "            A  B  C  A_mean\n",
            "D                          \n",
            "2021-01-04  4  7  y     3.5\n",
            "2021-01-05  5  8  z     5.0\n"
          ]
        },
        {
          "name": "stderr",
          "output_type": "stream",
          "text": [
            "C:\\Users\\minqliu\\AppData\\Local\\Temp\\ipykernel_39108\\1070510759.py:2: FutureWarning: last is deprecated and will be removed in a future version. Please create a mask and filter using `.loc` instead\n",
            "  df_last = df_time.last('2D')\n"
          ]
        }
      ],
      "source": [
        "# 93. DataFrame.last\n",
        "df_last = df_time.last('2D')\n",
        "print(df_last)"
      ]
    },
    {
      "cell_type": "code",
      "execution_count": 96,
      "metadata": {},
      "outputs": [
        {
          "name": "stdout",
          "output_type": "stream",
          "text": [
            "            A   B   C  A_mean\n",
            "D                            \n",
            "2021-01-01  3   9  xx     3.0\n",
            "2021-01-03  7  13  yy     7.0\n",
            "2021-01-05  5   8   z     5.0\n"
          ]
        }
      ],
      "source": [
        "# 94. DataFrame.resample (示例)\n",
        "df_resample = df_time.resample('2D').sum()\n",
        "print(df_resample)"
      ]
    },
    {
      "cell_type": "code",
      "execution_count": 97,
      "metadata": {},
      "outputs": [
        {
          "name": "stdout",
          "output_type": "stream",
          "text": [
            "     A     B\n",
            "0  NaN   NaN\n",
            "1  3.0   9.0\n",
            "2  5.0  11.0\n",
            "3  7.0  13.0\n",
            "4  9.0  15.0\n"
          ]
        }
      ],
      "source": [
        "# 95. DataFrame.rolling\n",
        "roll = df[['A','B']].rolling(window=2).sum()\n",
        "print(roll)"
      ]
    },
    {
      "cell_type": "code",
      "execution_count": 98,
      "metadata": {},
      "outputs": [
        {
          "name": "stdout",
          "output_type": "stream",
          "text": [
            "      A     B\n",
            "0   1.0   4.0\n",
            "1   3.0   9.0\n",
            "2   6.0  15.0\n",
            "3  10.0  22.0\n",
            "4  15.0  30.0\n"
          ]
        }
      ],
      "source": [
        "# 96. DataFrame.expanding\n",
        "exp = df[['A','B']].expanding().sum()\n",
        "print(exp)"
      ]
    },
    {
      "cell_type": "code",
      "execution_count": 99,
      "metadata": {},
      "outputs": [
        {
          "name": "stdout",
          "output_type": "stream",
          "text": [
            "          A         B\n",
            "0  1.000000  4.000000\n",
            "1  1.666667  4.666667\n",
            "2  2.428571  5.428571\n",
            "3  3.266667  6.266667\n",
            "4  4.161290  7.161290\n"
          ]
        }
      ],
      "source": [
        "# 97. DataFrame.ewm\n",
        "ewm_ = df[['A','B']].ewm(alpha=0.5).mean()\n",
        "print(ewm_)"
      ]
    },
    {
      "cell_type": "code",
      "execution_count": 100,
      "metadata": {},
      "outputs": [
        {
          "name": "stdout",
          "output_type": "stream",
          "text": [
            "DatetimeIndex(['2021-01-01', '2021-01-02', '2021-01-03', '2021-01-04',\n",
            "               '2021-01-05'],\n",
            "              dtype='datetime64[ns]', freq='D')\n"
          ]
        }
      ],
      "source": [
        "# 98. pd.date_range\n",
        "date_rng = pd.date_range(start='2021-01-01', periods=5, freq='D')\n",
        "print(date_rng)"
      ]
    },
    {
      "cell_type": "code",
      "execution_count": 101,
      "metadata": {},
      "outputs": [
        {
          "name": "stdout",
          "output_type": "stream",
          "text": [
            "DatetimeIndex(['2021-01-01', '2021-01-04', '2021-01-05', '2021-01-06',\n",
            "               '2021-01-07'],\n",
            "              dtype='datetime64[ns]', freq='B')\n"
          ]
        }
      ],
      "source": [
        "# 99. pd.bdate_range\n",
        "bdate_rng = pd.bdate_range(start='2021-01-01', periods=5)\n",
        "print(bdate_rng)"
      ]
    },
    {
      "cell_type": "code",
      "execution_count": 102,
      "metadata": {},
      "outputs": [
        {
          "name": "stdout",
          "output_type": "stream",
          "text": [
            "2 days 03:00:00\n"
          ]
        }
      ],
      "source": [
        "# 100. pd.Timedelta\n",
        "delta = pd.Timedelta(\"2 days 3 hours\")\n",
        "print(delta)"
      ]
    },
    {
      "cell_type": "code",
      "execution_count": 103,
      "metadata": {},
      "outputs": [
        {
          "name": "stdout",
          "output_type": "stream",
          "text": [
            "2023-05-20 10:30:00 2023 5 20\n"
          ]
        }
      ],
      "source": [
        "# 101. pd.Timestamp\n",
        "ts = pd.Timestamp(\"2023-05-20 10:30:00\")\n",
        "print(ts, ts.year, ts.month, ts.day)"
      ]
    },
    {
      "cell_type": "code",
      "execution_count": 104,
      "metadata": {},
      "outputs": [
        {
          "name": "stdout",
          "output_type": "stream",
          "text": [
            "DatetimeIndex(['2021-01-01', '2021-02-02', '2021-03-03'], dtype='datetime64[ns]', freq=None)\n"
          ]
        }
      ],
      "source": [
        "# 102. pd.to_datetime\n",
        "dt_series = pd.to_datetime(['2021-01-01','2021-02-02','2021-03-03'])\n",
        "print(dt_series)"
      ]
    },
    {
      "cell_type": "code",
      "execution_count": 105,
      "metadata": {},
      "outputs": [
        {
          "name": "stdout",
          "output_type": "stream",
          "text": [
            "TimedeltaIndex(['1 days 00:00:00', '2 days 02:00:00'], dtype='timedelta64[ns]', freq=None)\n"
          ]
        }
      ],
      "source": [
        "# 103. pd.to_timedelta\n",
        "td_series = pd.to_timedelta(['1 days','2 days 02:00:00'])\n",
        "print(td_series)"
      ]
    },
    {
      "cell_type": "code",
      "execution_count": 106,
      "metadata": {},
      "outputs": [
        {
          "name": "stdout",
          "output_type": "stream",
          "text": [
            "     A\n",
            "0  1.0\n",
            "1  2.0\n",
            "2  3.0\n",
            "3  4.0\n",
            "4  5.0\n"
          ]
        }
      ],
      "source": [
        "# 104. DataFrame.interpolate\n",
        "df_intp = pd.DataFrame({'A':[1, np.nan, 3, np.nan, 5]})\n",
        "print(df_intp.interpolate())"
      ]
    },
    {
      "cell_type": "code",
      "execution_count": 107,
      "metadata": {},
      "outputs": [
        {
          "name": "stdout",
          "output_type": "stream",
          "text": [
            "4 0\n"
          ]
        }
      ],
      "source": [
        "# 105. DataFrame.idxmax / idxmin (重复演示，也可对单列)\n",
        "print(df['A'].idxmax(), df['A'].idxmin())"
      ]
    },
    {
      "cell_type": "code",
      "execution_count": 108,
      "metadata": {},
      "outputs": [
        {
          "name": "stdout",
          "output_type": "stream",
          "text": [
            "   pref_A  pref_B pref_C     pref_D  pref_A_mean\n",
            "0       1       4      x 2021-01-01          1.5\n",
            "1       2       5      x 2021-01-02          1.5\n"
          ]
        }
      ],
      "source": [
        "# 106. DataFrame.add_prefix\n",
        "df_prefix = df.add_prefix('pref_')\n",
        "print(df_prefix.head(2))"
      ]
    },
    {
      "cell_type": "code",
      "execution_count": 109,
      "metadata": {},
      "outputs": [
        {
          "name": "stdout",
          "output_type": "stream",
          "text": [
            "   A_suf  B_suf C_suf      D_suf  A_mean_suf\n",
            "0      1      4     x 2021-01-01         1.5\n",
            "1      2      5     x 2021-01-02         1.5\n"
          ]
        }
      ],
      "source": [
        "# 107. DataFrame.add_suffix\n",
        "df_suffix = df.add_suffix('_suf')\n",
        "print(df_suffix.head(2))"
      ]
    },
    {
      "cell_type": "code",
      "execution_count": 110,
      "metadata": {},
      "outputs": [
        {
          "name": "stdout",
          "output_type": "stream",
          "text": [
            "     A\n",
            "0    1\n",
            "0    2\n",
            "1    3\n",
            "1    4\n",
            "2    5\n",
            "3  NaN\n"
          ]
        }
      ],
      "source": [
        "# 108. DataFrame.explode (针对列表/集合)\n",
        "df_ex = pd.DataFrame({\n",
        "    'A': [[1,2], [3,4], [5], []]\n",
        "})\n",
        "print(df_ex.explode('A'))"
      ]
    },
    {
      "cell_type": "code",
      "execution_count": 111,
      "metadata": {},
      "outputs": [
        {
          "name": "stdout",
          "output_type": "stream",
          "text": [
            "   A  B  C          D  A_mean  F\n",
            "0  1  4  x 2021-01-01     1.5  3\n",
            "1  2  5  x 2021-01-02     1.5  3\n",
            "2  3  6  y 2021-01-03     3.5  3\n",
            "3  4  7  y 2021-01-04     3.5  3\n",
            "4  5  8  z 2021-01-05     5.0  3\n"
          ]
        }
      ],
      "source": [
        "# 109. DataFrame.eval (已示例过，这里再次演示)\n",
        "df_eval2 = df.eval(\"F = B - A\")\n",
        "print(df_eval2)"
      ]
    },
    {
      "cell_type": "code",
      "execution_count": 112,
      "metadata": {},
      "outputs": [
        {
          "name": "stdout",
          "output_type": "stream",
          "text": [
            "A         1.0\n",
            "B         1.0\n",
            "A_mean    NaN\n",
            "C         NaN\n",
            "D         NaN\n",
            "dtype: float64\n"
          ]
        }
      ],
      "source": [
        "# 110. DataFrame.corrwith (再演示)\n",
        "print(df.corrwith(df[['A','B']]))"
      ]
    },
    {
      "cell_type": "code",
      "execution_count": 113,
      "metadata": {},
      "outputs": [
        {
          "name": "stdout",
          "output_type": "stream",
          "text": [
            "   C          D\n",
            "0  x 2021-01-01\n",
            "1  x 2021-01-02\n",
            "2  y 2021-01-03\n",
            "3  y 2021-01-04\n",
            "4  z 2021-01-05\n"
          ]
        }
      ],
      "source": [
        "# 111. DataFrame.select_dtypes (再次演示)\n",
        "print(df.select_dtypes(include=['object','category','datetime']))"
      ]
    },
    {
      "cell_type": "code",
      "execution_count": 114,
      "metadata": {},
      "outputs": [
        {
          "name": "stdout",
          "output_type": "stream",
          "text": [
            "   B  C          D  A_mean\n",
            "0  4  x 2021-01-01     1.5\n",
            "1  5  x 2021-01-02     1.5\n",
            "2  6  y 2021-01-03     3.5\n",
            "3  7  y 2021-01-04     3.5\n",
            "4  8  z 2021-01-05     5.0\n"
          ]
        }
      ],
      "source": [
        "# 112. DataFrame.drop\n",
        "df_drop = df.drop(columns=['A'])\n",
        "print(df_drop)"
      ]
    },
    {
      "cell_type": "code",
      "execution_count": 115,
      "metadata": {},
      "outputs": [
        {
          "name": "stdout",
          "output_type": "stream",
          "text": [
            "   A  A_mean\n",
            "0  1     1.5\n",
            "1  2     1.5\n",
            "2  3     3.5\n",
            "3  4     3.5\n",
            "4  5     5.0\n"
          ]
        }
      ],
      "source": [
        "# 113. DataFrame.filter\n",
        "df_filter = df.filter(like='A')\n",
        "print(df_filter)"
      ]
    },
    {
      "cell_type": "code",
      "execution_count": 116,
      "metadata": {},
      "outputs": [
        {
          "name": "stdout",
          "output_type": "stream",
          "text": [
            "   A  B  NewCol  C          D  A_mean\n",
            "0  1  4       8  x 2021-01-01     1.5\n",
            "1  2  5      10  x 2021-01-02     1.5\n",
            "2  3  6      12  y 2021-01-03     3.5\n",
            "3  4  7      14  y 2021-01-04     3.5\n",
            "4  5  8      16  z 2021-01-05     5.0\n"
          ]
        }
      ],
      "source": [
        "# 114. DataFrame.insert\n",
        "df_insert = df.copy()\n",
        "df_insert.insert(2, 'NewCol', df_insert['B']*2)\n",
        "print(df_insert)"
      ]
    },
    {
      "cell_type": "code",
      "execution_count": 117,
      "metadata": {},
      "outputs": [
        {
          "name": "stdout",
          "output_type": "stream",
          "text": [
            "popped:\n",
            " 0    x\n",
            "1    x\n",
            "2    y\n",
            "3    y\n",
            "4    z\n",
            "Name: C, dtype: object\n",
            "\n",
            "remaining df:\n",
            "    A  B          D  A_mean\n",
            "0  1  4 2021-01-01     1.5\n",
            "1  2  5 2021-01-02     1.5\n",
            "2  3  6 2021-01-03     3.5\n",
            "3  4  7 2021-01-04     3.5\n",
            "4  5  8 2021-01-05     5.0\n"
          ]
        }
      ],
      "source": [
        "# 115. DataFrame.pop\n",
        "df_pop = df.copy()\n",
        "popped = df_pop.pop('C')\n",
        "print('popped:\\n', popped)\n",
        "print('\\nremaining df:\\n', df_pop)"
      ]
    },
    {
      "cell_type": "code",
      "execution_count": 118,
      "metadata": {},
      "outputs": [
        {
          "name": "stdout",
          "output_type": "stream",
          "text": [
            "       A      B      C      D  A_mean\n",
            "0  False  False   True  False   False\n",
            "1  False  False   True  False   False\n",
            "2  False  False  False  False   False\n",
            "3  False  False  False  False   False\n",
            "4  False  False   True  False   False\n"
          ]
        }
      ],
      "source": [
        "# 116. DataFrame.isin\n",
        "print(df.isin({'C':['x','z']}))"
      ]
    },
    {
      "cell_type": "code",
      "execution_count": 119,
      "metadata": {},
      "outputs": [
        {
          "name": "stdout",
          "output_type": "stream",
          "text": [
            "   A  B\n",
            "0  2  4\n",
            "1  2  4\n",
            "2  3  4\n",
            "3  4  4\n",
            "4  4  4\n"
          ]
        }
      ],
      "source": [
        "# 117. DataFrame.clip (再次演示)\n",
        "print(df[['A','B']].clip(2,4))"
      ]
    },
    {
      "cell_type": "code",
      "execution_count": 120,
      "metadata": {},
      "outputs": [
        {
          "name": "stdout",
          "output_type": "stream",
          "text": [
            "        A    B\n",
            "0.25  2.0  5.0\n",
            "0.50  3.0  6.0\n",
            "0.75  4.0  7.0\n"
          ]
        }
      ],
      "source": [
        "# 118. DataFrame.quantile\n",
        "print(df[['A','B']].quantile([0.25, 0.5, 0.75]))"
      ]
    },
    {
      "cell_type": "code",
      "execution_count": 121,
      "metadata": {},
      "outputs": [
        {
          "name": "stdout",
          "output_type": "stream",
          "text": [
            "Index     132\n",
            "A          40\n",
            "B          40\n",
            "C         290\n",
            "D          40\n",
            "A_mean     40\n",
            "dtype: int64\n"
          ]
        }
      ],
      "source": [
        "# 119. DataFrame.memory_usage (再次)\n",
        "print(df.memory_usage(deep=True))"
      ]
    },
    {
      "cell_type": "code",
      "execution_count": 122,
      "metadata": {},
      "outputs": [
        {
          "name": "stdout",
          "output_type": "stream",
          "text": [
            "A         5\n",
            "B         5\n",
            "C         3\n",
            "D         5\n",
            "A_mean    3\n",
            "dtype: int64\n"
          ]
        }
      ],
      "source": [
        "# 120. DataFrame.nunique\n",
        "print(df.nunique())"
      ]
    },
    {
      "cell_type": "code",
      "execution_count": 123,
      "metadata": {},
      "outputs": [
        {
          "name": "stdout",
          "output_type": "stream",
          "text": [
            "True\n",
            "False\n"
          ]
        }
      ],
      "source": [
        "# 121. DataFrame.is_monotonic (Series有此属性)\n",
        "s_mono = pd.Series([1,2,2,3])\n",
        "print(s_mono.is_monotonic_increasing)  # True  (非递减)\n",
        "print(s_mono.is_monotonic_decreasing)  # False (非递增)"
      ]
    },
    {
      "cell_type": "code",
      "execution_count": 124,
      "metadata": {},
      "outputs": [
        {
          "name": "stdout",
          "output_type": "stream",
          "text": [
            "True\n"
          ]
        }
      ],
      "source": [
        "# 122. DataFrame.is_monotonic_increasing\n",
        "print(s_mono.is_monotonic_increasing)"
      ]
    },
    {
      "cell_type": "code",
      "execution_count": 125,
      "metadata": {},
      "outputs": [
        {
          "name": "stdout",
          "output_type": "stream",
          "text": [
            "True\n"
          ]
        }
      ],
      "source": [
        "# 123. DataFrame.is_monotonic_decreasing\n",
        "s_dec = pd.Series([5,4,4,2])\n",
        "print(s_dec.is_monotonic_decreasing)"
      ]
    },
    {
      "cell_type": "code",
      "execution_count": 126,
      "metadata": {},
      "outputs": [
        {
          "name": "stdout",
          "output_type": "stream",
          "text": [
            "   A  B   C                    D  A_mean\n",
            "0 -1 -1  -1                   -1    -1.0\n",
            "1 -1 -1  -1                   -1    -1.0\n",
            "2  3  6   y  2021-01-03 00:00:00     3.5\n",
            "3  4  7   y  2021-01-04 00:00:00     3.5\n",
            "4  5  8   z  2021-01-05 00:00:00     5.0\n"
          ]
        }
      ],
      "source": [
        "# 124. DataFrame.where\n",
        "df_where = df.where(df['A']>2, other=-1)\n",
        "print(df_where)"
      ]
    },
    {
      "cell_type": "code",
      "execution_count": 127,
      "metadata": {},
      "outputs": [
        {
          "name": "stdout",
          "output_type": "stream",
          "text": [
            "   A  B   C                    D  A_mean\n",
            "0  1  4   x  2021-01-01 00:00:00     1.5\n",
            "1  2  5   x  2021-01-02 00:00:00     1.5\n",
            "2 -1 -1  -1                   -1    -1.0\n",
            "3 -1 -1  -1                   -1    -1.0\n",
            "4 -1 -1  -1                   -1    -1.0\n"
          ]
        }
      ],
      "source": [
        "# 125. DataFrame.mask (where的反向)\n",
        "df_mask = df.mask(df['A']>2, other=-1)\n",
        "print(df_mask)"
      ]
    },
    {
      "cell_type": "code",
      "execution_count": 128,
      "metadata": {},
      "outputs": [
        {
          "name": "stdout",
          "output_type": "stream",
          "text": [
            "   A  B  C          D  A_mean\n",
            "2  3  6  y 2021-01-03     3.5\n",
            "0  1  4  x 2021-01-01     1.5\n"
          ]
        }
      ],
      "source": [
        "# 126. DataFrame.sample (再演示)\n",
        "print(df.sample(frac=0.4, random_state=0))"
      ]
    },
    {
      "cell_type": "code",
      "execution_count": 129,
      "metadata": {},
      "outputs": [
        {
          "name": "stdout",
          "output_type": "stream",
          "text": [
            "True False\n"
          ]
        }
      ],
      "source": [
        "# 127. DataFrame.equals\n",
        "df_copy2 = df.copy()\n",
        "print(df.equals(df_copy2), df.equals(df.assign(A=999)))"
      ]
    },
    {
      "cell_type": "code",
      "execution_count": 130,
      "metadata": {},
      "outputs": [
        {
          "name": "stdout",
          "output_type": "stream",
          "text": [
            "0 1 4\n",
            "1 2 5\n",
            "2 3 6\n"
          ]
        }
      ],
      "source": [
        "# 128. DataFrame.iterrows\n",
        "for index, row in df.iterrows():\n",
        "    print(index, row['A'], row['B'])\n",
        "    if index>1:\n",
        "        break"
      ]
    },
    {
      "cell_type": "code",
      "execution_count": 131,
      "metadata": {},
      "outputs": [
        {
          "name": "stdout",
          "output_type": "stream",
          "text": [
            "Pandas(Index=0, A=1, B=4, C='x', D=Timestamp('2021-01-01 00:00:00'), A_mean=1.5)\n"
          ]
        }
      ],
      "source": [
        "# 129. DataFrame.itertuples\n",
        "for row in df.itertuples():\n",
        "    print(row)\n",
        "    break"
      ]
    },
    {
      "cell_type": "code",
      "execution_count": 132,
      "metadata": {},
      "outputs": [
        {
          "name": "stdout",
          "output_type": "stream",
          "text": [
            "A 0    1\n",
            "1    2\n",
            "Name: A, dtype: int64\n",
            "B 0    4\n",
            "1    5\n",
            "Name: B, dtype: int64\n",
            "C 0    x\n",
            "1    x\n",
            "Name: C, dtype: object\n",
            "D 0   2021-01-01\n",
            "1   2021-01-02\n",
            "Name: D, dtype: datetime64[ns]\n",
            "A_mean 0    1.5\n",
            "1    1.5\n",
            "Name: A_mean, dtype: float64\n"
          ]
        }
      ],
      "source": [
        "# 130. DataFrame.items\n",
        "for col_name, col_data in df.items():\n",
        "    print(col_name, col_data[:2])"
      ]
    },
    {
      "cell_type": "code",
      "execution_count": 133,
      "metadata": {},
      "outputs": [
        {
          "name": "stdout",
          "output_type": "stream",
          "text": [
            "A (5,)\n"
          ]
        }
      ],
      "source": [
        "# 131. DataFrame.iteritems (items 的别名)\n",
        "for col_name, col_data in df.items():\n",
        "    print(col_name, col_data.shape)\n",
        "    break\n"
      ]
    },
    {
      "cell_type": "code",
      "execution_count": 134,
      "metadata": {},
      "outputs": [
        {
          "name": "stdout",
          "output_type": "stream",
          "text": [
            "{'A': [1, 2, 3, 4, 5], 'B': [4, 5, 6, 7, 8], 'C': ['x', 'x', 'y', 'y', 'z'], 'D': [Timestamp('2021-01-01 00:00:00'), Timestamp('2021-01-02 00:00:00'), Timestamp('2021-01-03 00:00:00'), Timestamp('2021-01-04 00:00:00'), Timestamp('2021-01-05 00:00:00')], 'A_mean': [1.5, 1.5, 3.5, 3.5, 5.0]}\n"
          ]
        }
      ],
      "source": [
        "# 132. DataFrame.to_dict\n",
        "dict_data = df.to_dict('list')\n",
        "print(dict_data)"
      ]
    },
    {
      "cell_type": "code",
      "execution_count": 135,
      "metadata": {},
      "outputs": [
        {
          "name": "stdout",
          "output_type": "stream",
          "text": [
            "   A  B  C          D  A_mean\n",
            "0  1  4  x 2021-01-01     1.5\n",
            "1  2  5  x 2021-01-02     1.5\n",
            "2  3  6  y 2021-01-03     3.5\n",
            "3  4  7  y 2021-01-04     3.5\n",
            "4  5  8  z 2021-01-05     5.0\n"
          ]
        }
      ],
      "source": [
        "# 133. DataFrame.from_dict\n",
        "df_from_dict = pd.DataFrame.from_dict(dict_data)\n",
        "print(df_from_dict)"
      ]
    },
    {
      "cell_type": "code",
      "execution_count": 136,
      "metadata": {},
      "outputs": [
        {
          "name": "stdout",
          "output_type": "stream",
          "text": [
            "   num char\n",
            "0    1    x\n",
            "1    2    y\n"
          ]
        }
      ],
      "source": [
        "# 134. pd.DataFrame.from_records\n",
        "records = [(1, 'x'), (2, 'y')]\n",
        "df_rec = pd.DataFrame.from_records(records, columns=['num','char'])\n",
        "print(df_rec)"
      ]
    },
    {
      "cell_type": "code",
      "execution_count": 137,
      "metadata": {},
      "outputs": [
        {
          "name": "stdout",
          "output_type": "stream",
          "text": [
            "A         1.0\n",
            "B         4.0\n",
            "A_mean    1.5\n",
            "Name: (x, 2021-01-01 00:00:00), dtype: float64\n"
          ]
        }
      ],
      "source": [
        "# 135. DataFrame.xs (cross-section)\n",
        "df_xs = df.set_index(['C','D'])\n",
        "print(df_xs.xs(('x','2021-01-01')))  # row"
      ]
    },
    {
      "cell_type": "code",
      "execution_count": 138,
      "metadata": {},
      "outputs": [
        {
          "name": "stdout",
          "output_type": "stream",
          "text": [
            "   A  B  C          D  A_mean\n",
            "2  3  6  y 2021-01-03     3.5\n",
            "3  4  7  y 2021-01-04     3.5\n",
            "4  5  8  z 2021-01-05     5.0\n"
          ]
        }
      ],
      "source": [
        "# 136. DataFrame.query (再示例)\n",
        "print(df.query('B > 5'))"
      ]
    },
    {
      "cell_type": "code",
      "execution_count": 139,
      "metadata": {},
      "outputs": [
        {
          "name": "stdout",
          "output_type": "stream",
          "text": [
            "pd.read_pickle(\"file.pkl\")\n"
          ]
        }
      ],
      "source": [
        "# 137. pd.read_pickle (示例)\n",
        "print('pd.read_pickle(\"file.pkl\")')"
      ]
    },
    {
      "cell_type": "code",
      "execution_count": 140,
      "metadata": {},
      "outputs": [
        {
          "name": "stdout",
          "output_type": "stream",
          "text": [
            "df saved to df.pkl\n"
          ]
        }
      ],
      "source": [
        "# 138. DataFrame.to_pickle\n",
        "df.to_pickle('df.pkl')\n",
        "print('df saved to df.pkl')"
      ]
    },
    {
      "cell_type": "code",
      "execution_count": 141,
      "metadata": {},
      "outputs": [
        {
          "name": "stdout",
          "output_type": "stream",
          "text": [
            "with pd.ExcelWriter('multi_sheet.xlsx') as writer:\n",
            "    df.to_excel(writer, sheet_name='Sheet1')\n",
            "    df2.to_excel(writer, sheet_name='Sheet2')\n"
          ]
        }
      ],
      "source": [
        "# 139. pd.ExcelWriter (写多表)\n",
        "print(\"with pd.ExcelWriter('multi_sheet.xlsx') as writer:\")\n",
        "print(\"    df.to_excel(writer, sheet_name='Sheet1')\")\n",
        "print(\"    df2.to_excel(writer, sheet_name='Sheet2')\")"
      ]
    },
    {
      "cell_type": "code",
      "execution_count": 142,
      "metadata": {},
      "outputs": [
        {
          "name": "stdout",
          "output_type": "stream",
          "text": [
            "df.to_clipboard(index=False)\n"
          ]
        }
      ],
      "source": [
        "# 140. DataFrame.to_clipboard\n",
        "print(\"df.to_clipboard(index=False)\")"
      ]
    },
    {
      "cell_type": "code",
      "execution_count": 143,
      "metadata": {},
      "outputs": [
        {
          "name": "stdout",
          "output_type": "stream",
          "text": [
            "pd.read_clipboard()  # 从剪贴板读取 DataFrame\n"
          ]
        }
      ],
      "source": [
        "# 141. pd.read_clipboard\n",
        "print('pd.read_clipboard()  # 从剪贴板读取 DataFrame')"
      ]
    },
    {
      "cell_type": "code",
      "execution_count": 144,
      "metadata": {},
      "outputs": [
        {
          "name": "stdout",
          "output_type": "stream",
          "text": [
            "          A  B  C          D  A_mean\n",
            "NewIndex                            \n",
            "0         1  4  x 2021-01-01     1.5\n",
            "1         2  5  x 2021-01-02     1.5\n",
            "2         3  6  y 2021-01-03     3.5\n",
            "3         4  7  y 2021-01-04     3.5\n",
            "4         5  8  z 2021-01-05     5.0\n"
          ]
        }
      ],
      "source": [
        "# 142. DataFrame.rename_axis\n",
        "df_ra = df.copy()\n",
        "df_ra = df_ra.rename_axis('NewIndex')\n",
        "print(df_ra)"
      ]
    },
    {
      "cell_type": "code",
      "execution_count": 145,
      "metadata": {},
      "outputs": [
        {
          "name": "stdout",
          "output_type": "stream",
          "text": [
            "   A  B   Z\n",
            "0  1  4 NaN\n",
            "2  3  6 NaN\n",
            "4  5  8 NaN\n"
          ]
        }
      ],
      "source": [
        "# 143. DataFrame.reindex\n",
        "df_reindex = df.copy()\n",
        "df_reindex = df_reindex.reindex(index=[0,2,4], columns=['A','B','Z'])\n",
        "print(df_reindex)"
      ]
    },
    {
      "cell_type": "code",
      "execution_count": 146,
      "metadata": {},
      "outputs": [
        {
          "name": "stdout",
          "output_type": "stream",
          "text": [
            "   A0  B0 C0         D0  A_mean\n",
            "0   1   4  x 2021-01-01     1.5\n",
            "1   2   5  x 2021-01-02     1.5\n",
            "2   3   6  y 2021-01-03     3.5\n",
            "3   4   7  y 2021-01-04     3.5\n",
            "4   5   8  z 2021-01-05     5.0\n"
          ]
        }
      ],
      "source": [
        "# 144. DataFrame.set_axis\n",
        "df_sa = df.copy()\n",
        "df_sa = df_sa.set_axis(['A0','B0','C0','D0', 'A_mean'], axis='columns')\n",
        "print(df_sa)"
      ]
    },
    {
      "cell_type": "code",
      "execution_count": 147,
      "metadata": {},
      "outputs": [
        {
          "name": "stdout",
          "output_type": "stream",
          "text": [
            "   A  B\n",
            "0  2  5\n",
            "1  3  6\n",
            "2  4  7\n",
            "3  5  8\n",
            "4  6  9\n"
          ]
        }
      ],
      "source": [
        "# 145. DataFrame.pipe\n",
        "def plus_one(x):\n",
        "    return x+1\n",
        "\n",
        "res_pipe = df[['A','B']].pipe(plus_one)\n",
        "print(res_pipe)"
      ]
    },
    {
      "cell_type": "code",
      "execution_count": 148,
      "metadata": {},
      "outputs": [
        {
          "name": "stdout",
          "output_type": "stream",
          "text": [
            "True\n"
          ]
        }
      ],
      "source": [
        "# 146. DataFrame.equals (再次)\n",
        "df_temp = df.copy()\n",
        "print(df_temp.equals(df))"
      ]
    },
    {
      "cell_type": "markdown",
      "metadata": {},
      "source": [
        "## 9. 字符串操作（Series.str）"
      ]
    },
    {
      "cell_type": "code",
      "execution_count": 149,
      "metadata": {},
      "outputs": [
        {
          "name": "stdout",
          "output_type": "stream",
          "text": [
            "0    True\n",
            "1    True\n",
            "2    True\n",
            "3    True\n",
            "dtype: bool\n"
          ]
        }
      ],
      "source": [
        "# 147. Series.str.contains\n",
        "s_str = pd.Series(['apple','banana','grape','avocado'])\n",
        "print(s_str.str.contains('a'))"
      ]
    },
    {
      "cell_type": "code",
      "execution_count": 150,
      "metadata": {},
      "outputs": [
        {
          "name": "stdout",
          "output_type": "stream",
          "text": [
            "0      @pple\n",
            "1     b@n@n@\n",
            "2      gr@pe\n",
            "3    @voc@do\n",
            "dtype: object\n"
          ]
        }
      ],
      "source": [
        "# 148. Series.str.replace\n",
        "print(s_str.str.replace('a','@'))"
      ]
    },
    {
      "cell_type": "code",
      "execution_count": 151,
      "metadata": {},
      "outputs": [
        {
          "name": "stdout",
          "output_type": "stream",
          "text": [
            "0      [John, Doe]\n",
            "1    [Jane, Smith]\n",
            "dtype: object\n"
          ]
        }
      ],
      "source": [
        "# 149. Series.str.split\n",
        "s_names = pd.Series(['John Doe','Jane Smith'])\n",
        "print(s_names.str.split())"
      ]
    },
    {
      "cell_type": "code",
      "execution_count": 152,
      "metadata": {},
      "outputs": [
        {
          "name": "stdout",
          "output_type": "stream",
          "text": [
            "0    5\n",
            "1    6\n",
            "2    5\n",
            "3    7\n",
            "dtype: int64\n"
          ]
        }
      ],
      "source": [
        "# 150. Series.str.len\n",
        "print(s_str.str.len())"
      ]
    },
    {
      "cell_type": "code",
      "execution_count": 153,
      "metadata": {},
      "outputs": [
        {
          "name": "stdout",
          "output_type": "stream",
          "text": [
            "0    Hello\n",
            "1    World\n",
            "dtype: object\n"
          ]
        }
      ],
      "source": [
        "# 151. Series.str.strip\n",
        "s_space = pd.Series(['  Hello  ','  World'])\n",
        "print(s_space.str.strip())"
      ]
    },
    {
      "cell_type": "code",
      "execution_count": 154,
      "metadata": {},
      "outputs": [
        {
          "name": "stdout",
          "output_type": "stream",
          "text": [
            "0      APPLE\n",
            "1     BANANA\n",
            "2      GRAPE\n",
            "3    AVOCADO\n",
            "dtype: object\n",
            "0      Apple\n",
            "1     Banana\n",
            "2      Grape\n",
            "3    Avocado\n",
            "dtype: object\n"
          ]
        }
      ],
      "source": [
        "# 152. Series.str.lower / upper / title\n",
        "print(s_str.str.upper())\n",
        "print(s_str.str.title())"
      ]
    },
    {
      "cell_type": "markdown",
      "metadata": {},
      "source": [
        "## 10. 时间序列 (Series.dt)"
      ]
    },
    {
      "cell_type": "code",
      "execution_count": 155,
      "metadata": {},
      "outputs": [
        {
          "name": "stdout",
          "output_type": "stream",
          "text": [
            "0    2021\n",
            "1    2021\n",
            "2    2021\n",
            "dtype: int32 0    1\n",
            "1    2\n",
            "2    3\n",
            "dtype: int32 0    31\n",
            "1    28\n",
            "2    31\n",
            "dtype: int32\n"
          ]
        },
        {
          "name": "stderr",
          "output_type": "stream",
          "text": [
            "C:\\Users\\minqliu\\AppData\\Local\\Temp\\ipykernel_39108\\1938323960.py:2: FutureWarning: 'M' is deprecated and will be removed in a future version, please use 'ME' instead.\n",
            "  dates = pd.Series(pd.date_range('2021-01-01', periods=3, freq='M'))\n"
          ]
        }
      ],
      "source": [
        "# 153. Series.dt.year / month / day\n",
        "dates = pd.Series(pd.date_range('2021-01-01', periods=3, freq='M'))\n",
        "print(dates.dt.year, dates.dt.month, dates.dt.day)"
      ]
    },
    {
      "cell_type": "code",
      "execution_count": 156,
      "metadata": {},
      "outputs": [
        {
          "name": "stdout",
          "output_type": "stream",
          "text": [
            "0       Sunday\n",
            "1       Sunday\n",
            "2    Wednesday\n",
            "dtype: object\n"
          ]
        }
      ],
      "source": [
        "# 154. Series.dt.day_name\n",
        "print(dates.dt.day_name())"
      ]
    },
    {
      "cell_type": "code",
      "execution_count": 157,
      "metadata": {},
      "outputs": [
        {
          "name": "stdout",
          "output_type": "stream",
          "text": [
            "0    True\n",
            "1    True\n",
            "2    True\n",
            "dtype: bool\n"
          ]
        }
      ],
      "source": [
        "# 155. Series.dt.is_month_end\n",
        "print(dates.dt.is_month_end)"
      ]
    },
    {
      "cell_type": "code",
      "execution_count": 158,
      "metadata": {},
      "outputs": [
        {
          "name": "stdout",
          "output_type": "stream",
          "text": [
            "0   2021-01-01 10:00:00\n",
            "1   2021-01-02 23:00:00\n",
            "dtype: datetime64[ns]\n"
          ]
        },
        {
          "name": "stderr",
          "output_type": "stream",
          "text": [
            "C:\\Users\\minqliu\\AppData\\Local\\Temp\\ipykernel_39108\\1022869270.py:3: FutureWarning: 'H' is deprecated and will be removed in a future version, please use 'h' instead.\n",
            "  print(ts_floor.dt.floor('H'))\n"
          ]
        }
      ],
      "source": [
        "# 156. Series.dt.floor\n",
        "ts_floor = pd.Series(pd.to_datetime(['2021-01-01 10:15:30','2021-01-02 23:59:59']))\n",
        "print(ts_floor.dt.floor('H'))"
      ]
    },
    {
      "cell_type": "code",
      "execution_count": 159,
      "metadata": {},
      "outputs": [
        {
          "name": "stdout",
          "output_type": "stream",
          "text": [
            "0   2021-01-01 11:00:00\n",
            "1   2021-01-03 00:00:00\n",
            "dtype: datetime64[ns]\n"
          ]
        },
        {
          "name": "stderr",
          "output_type": "stream",
          "text": [
            "C:\\Users\\minqliu\\AppData\\Local\\Temp\\ipykernel_39108\\1764267752.py:2: FutureWarning: 'H' is deprecated and will be removed in a future version, please use 'h' instead.\n",
            "  print(ts_floor.dt.ceil('H'))\n"
          ]
        }
      ],
      "source": [
        "# 157. Series.dt.ceil\n",
        "print(ts_floor.dt.ceil('H'))"
      ]
    },
    {
      "cell_type": "markdown",
      "metadata": {},
      "source": [
        "## 11. 配置选项"
      ]
    },
    {
      "cell_type": "code",
      "execution_count": 160,
      "metadata": {},
      "outputs": [
        {
          "name": "stdout",
          "output_type": "stream",
          "text": [
            "set_option: display.max_rows=10\n"
          ]
        }
      ],
      "source": [
        "# 158. pd.set_option\n",
        "pd.set_option('display.max_rows', 10)\n",
        "print('set_option: display.max_rows=10')"
      ]
    },
    {
      "cell_type": "code",
      "execution_count": 161,
      "metadata": {},
      "outputs": [
        {
          "name": "stdout",
          "output_type": "stream",
          "text": [
            "reset_option: display.max_rows\n"
          ]
        }
      ],
      "source": [
        "# 159. pd.reset_option\n",
        "pd.reset_option('display.max_rows')\n",
        "print('reset_option: display.max_rows')"
      ]
    },
    {
      "cell_type": "code",
      "execution_count": 162,
      "metadata": {},
      "outputs": [
        {
          "name": "stdout",
          "output_type": "stream",
          "text": [
            "display.max_rows = 60\n"
          ]
        }
      ],
      "source": [
        "# 160. pd.get_option\n",
        "print('display.max_rows =', pd.get_option('display.max_rows'))"
      ]
    },
    {
      "cell_type": "code",
      "execution_count": 163,
      "metadata": {},
      "outputs": [
        {
          "name": "stdout",
          "output_type": "stream",
          "text": [
            "Max columns set to 8\n"
          ]
        }
      ],
      "source": [
        "# 161. pd.options.display (直接访问)\n",
        "pd.options.display.max_columns = 8\n",
        "print('Max columns set to 8')"
      ]
    },
    {
      "cell_type": "code",
      "execution_count": 164,
      "metadata": {},
      "outputs": [
        {
          "name": "stdout",
          "output_type": "stream",
          "text": [
            "chained_assignment set to None\n"
          ]
        }
      ],
      "source": [
        "# 162. pd.options.mode.chained_assignment\n",
        "pd.options.mode.chained_assignment = None\n",
        "print('chained_assignment set to None')"
      ]
    },
    {
      "cell_type": "markdown",
      "metadata": {},
      "source": [
        "## 12. 更多重复值检测"
      ]
    },
    {
      "cell_type": "code",
      "execution_count": 165,
      "metadata": {},
      "outputs": [
        {
          "name": "stdout",
          "output_type": "stream",
          "text": [
            "0    False\n",
            "1     True\n",
            "2    False\n",
            "dtype: bool\n"
          ]
        }
      ],
      "source": [
        "# 163. DataFrame.duplicated (重演)\n",
        "df_dup2 = pd.DataFrame({'col1':[1,1,2], 'col2':[3,3,4]})\n",
        "print(df_dup2.duplicated())"
      ]
    },
    {
      "cell_type": "code",
      "execution_count": 166,
      "metadata": {},
      "outputs": [
        {
          "name": "stdout",
          "output_type": "stream",
          "text": [
            "A         1.0\n",
            "B         1.0\n",
            "A_mean    NaN\n",
            "C         NaN\n",
            "D         NaN\n",
            "dtype: float64\n"
          ]
        }
      ],
      "source": [
        "# 164. DataFrame.corrwith (再演)\n",
        "print(df.corrwith(df[['A','B']]))"
      ]
    },
    {
      "cell_type": "markdown",
      "metadata": {},
      "source": [
        "## 13. 可视化 (简要)"
      ]
    },
    {
      "cell_type": "code",
      "execution_count": 167,
      "metadata": {},
      "outputs": [
        {
          "data": {
            "text/plain": [
              "array([[<Axes: title={'center': 'A'}>, <Axes: title={'center': 'B'}>]],\n",
              "      dtype=object)"
            ]
          },
          "execution_count": 167,
          "metadata": {},
          "output_type": "execute_result"
        },
        {
          "data": {
            "image/png": "[encoded data removed]",
            "text/plain": [
              "<Figure size 640x480 with 2 Axes>"
            ]
          },
          "metadata": {},
          "output_type": "display_data"
        }
      ],
      "source": [
        "# 165. DataFrame.hist (需要 matplotlib)\n",
        "%matplotlib inline\n",
        "df[['A','B']].hist()"
      ]
    },
    {
      "cell_type": "code",
      "execution_count": 168,
      "metadata": {},
      "outputs": [
        {
          "data": {
            "text/plain": [
              "<Axes: >"
            ]
          },
          "execution_count": 168,
          "metadata": {},
          "output_type": "execute_result"
        },
        {
          "data": {
            "image/png": "[encoded data removed]",
            "text/plain": [
              "<Figure size 640x480 with 1 Axes>"
            ]
          },
          "metadata": {},
          "output_type": "display_data"
        }
      ],
      "source": [
        "# 166. DataFrame.boxplot\n",
        "df[['A','B']].boxplot()"
      ]
    },
    {
      "cell_type": "code",
      "execution_count": 169,
      "metadata": {},
      "outputs": [
        {
          "data": {
            "text/plain": [
              "<Axes: >"
            ]
          },
          "execution_count": 169,
          "metadata": {},
          "output_type": "execute_result"
        },
        {
          "data": {
            "image/png": "[encoded data removed]",
            "text/plain": [
              "<Figure size 640x480 with 1 Axes>"
            ]
          },
          "metadata": {},
          "output_type": "display_data"
        }
      ],
      "source": [
        "# 167. DataFrame.plot\n",
        "df[['A','B']].plot()"
      ]
    },
    {
      "cell_type": "markdown",
      "metadata": {},
      "source": [
        "## 14. 数据转换与因子化"
      ]
    },
    {
      "cell_type": "code",
      "execution_count": 170,
      "metadata": {},
      "outputs": [
        {
          "name": "stdout",
          "output_type": "stream",
          "text": [
            "0    1.0\n",
            "1    2.0\n",
            "2    NaN\n",
            "3    4.0\n",
            "dtype: float64\n"
          ]
        }
      ],
      "source": [
        "# 168. pd.to_numeric\n",
        "s_num = pd.Series(['1','2','NaN','4'])\n",
        "print(pd.to_numeric(s_num, errors='coerce'))"
      ]
    },
    {
      "cell_type": "code",
      "execution_count": 171,
      "metadata": {},
      "outputs": [
        {
          "name": "stdout",
          "output_type": "stream",
          "text": [
            "[0 1 0 2] ['apple' 'banana' 'pear']\n"
          ]
        },
        {
          "name": "stderr",
          "output_type": "stream",
          "text": [
            "C:\\Users\\minqliu\\AppData\\Local\\Temp\\ipykernel_39108\\1803597563.py:2: FutureWarning: factorize with argument that is not not a Series, Index, ExtensionArray, or np.ndarray is deprecated and will raise in a future version.\n",
            "  labels, uniques = pd.factorize(['apple','banana','apple','pear'])\n"
          ]
        }
      ],
      "source": [
        "# 169. pd.factorize\n",
        "labels, uniques = pd.factorize(['apple','banana','apple','pear'])\n",
        "print(labels, uniques)"
      ]
    },
    {
      "cell_type": "code",
      "execution_count": 172,
      "metadata": {},
      "outputs": [
        {
          "name": "stdout",
          "output_type": "stream",
          "text": [
            "pd.merge_asof(left, right, on='time') # 时间序列上的合并\n"
          ]
        }
      ],
      "source": [
        "# 170. pd.merge_asof\n",
        "print(\"pd.merge_asof(left, right, on='time') # 时间序列上的合并\")"
      ]
    },
    {
      "cell_type": "code",
      "execution_count": 173,
      "metadata": {},
      "outputs": [
        {
          "name": "stdout",
          "output_type": "stream",
          "text": [
            "pd.merge_ordered(left, right, on='key') # 有序合并\n"
          ]
        }
      ],
      "source": [
        "# 171. pd.merge_ordered\n",
        "print(\"pd.merge_ordered(left, right, on='key') # 有序合并\")"
      ]
    },
    {
      "cell_type": "markdown",
      "metadata": {},
      "source": [
        "## 15. DataFrame 样式 (Styler)"
      ]
    },
    {
      "cell_type": "code",
      "execution_count": 174,
      "metadata": {},
      "outputs": [
        {
          "data": {
            "text/html": [
              "<style type=\"text/css\">\n",
              "#T_6aede_row4_col0, #T_6aede_row4_col1, #T_6aede_row4_col2, #T_6aede_row4_col3, #T_6aede_row4_col4 {\n",
              "  background-color: yellow;\n",
              "}\n",
              "</style>\n",
              "<table id=\"T_6aede\">\n",
              "  <thead>\n",
              "    <tr>\n",
              "      <th class=\"blank level0\" >&nbsp;</th>\n",
              "      <th id=\"T_6aede_level0_col0\" class=\"col_heading level0 col0\" >A</th>\n",
              "      <th id=\"T_6aede_level0_col1\" class=\"col_heading level0 col1\" >B</th>\n",
              "      <th id=\"T_6aede_level0_col2\" class=\"col_heading level0 col2\" >C</th>\n",
              "      <th id=\"T_6aede_level0_col3\" class=\"col_heading level0 col3\" >D</th>\n",
              "      <th id=\"T_6aede_level0_col4\" class=\"col_heading level0 col4\" >A_mean</th>\n",
              "    </tr>\n",
              "  </thead>\n",
              "  <tbody>\n",
              "    <tr>\n",
              "      <th id=\"T_6aede_level0_row0\" class=\"row_heading level0 row0\" >0</th>\n",
              "      <td id=\"T_6aede_row0_col0\" class=\"data row0 col0\" >1</td>\n",
              "      <td id=\"T_6aede_row0_col1\" class=\"data row0 col1\" >4</td>\n",
              "      <td id=\"T_6aede_row0_col2\" class=\"data row0 col2\" >x</td>\n",
              "      <td id=\"T_6aede_row0_col3\" class=\"data row0 col3\" >2021-01-01 00:00:00</td>\n",
              "      <td id=\"T_6aede_row0_col4\" class=\"data row0 col4\" >1.500000</td>\n",
              "    </tr>\n",
              "    <tr>\n",
              "      <th id=\"T_6aede_level0_row1\" class=\"row_heading level0 row1\" >1</th>\n",
              "      <td id=\"T_6aede_row1_col0\" class=\"data row1 col0\" >2</td>\n",
              "      <td id=\"T_6aede_row1_col1\" class=\"data row1 col1\" >5</td>\n",
              "      <td id=\"T_6aede_row1_col2\" class=\"data row1 col2\" >x</td>\n",
              "      <td id=\"T_6aede_row1_col3\" class=\"data row1 col3\" >2021-01-02 00:00:00</td>\n",
              "      <td id=\"T_6aede_row1_col4\" class=\"data row1 col4\" >1.500000</td>\n",
              "    </tr>\n",
              "    <tr>\n",
              "      <th id=\"T_6aede_level0_row2\" class=\"row_heading level0 row2\" >2</th>\n",
              "      <td id=\"T_6aede_row2_col0\" class=\"data row2 col0\" >3</td>\n",
              "      <td id=\"T_6aede_row2_col1\" class=\"data row2 col1\" >6</td>\n",
              "      <td id=\"T_6aede_row2_col2\" class=\"data row2 col2\" >y</td>\n",
              "      <td id=\"T_6aede_row2_col3\" class=\"data row2 col3\" >2021-01-03 00:00:00</td>\n",
              "      <td id=\"T_6aede_row2_col4\" class=\"data row2 col4\" >3.500000</td>\n",
              "    </tr>\n",
              "    <tr>\n",
              "      <th id=\"T_6aede_level0_row3\" class=\"row_heading level0 row3\" >3</th>\n",
              "      <td id=\"T_6aede_row3_col0\" class=\"data row3 col0\" >4</td>\n",
              "      <td id=\"T_6aede_row3_col1\" class=\"data row3 col1\" >7</td>\n",
              "      <td id=\"T_6aede_row3_col2\" class=\"data row3 col2\" >y</td>\n",
              "      <td id=\"T_6aede_row3_col3\" class=\"data row3 col3\" >2021-01-04 00:00:00</td>\n",
              "      <td id=\"T_6aede_row3_col4\" class=\"data row3 col4\" >3.500000</td>\n",
              "    </tr>\n",
              "    <tr>\n",
              "      <th id=\"T_6aede_level0_row4\" class=\"row_heading level0 row4\" >4</th>\n",
              "      <td id=\"T_6aede_row4_col0\" class=\"data row4 col0\" >5</td>\n",
              "      <td id=\"T_6aede_row4_col1\" class=\"data row4 col1\" >8</td>\n",
              "      <td id=\"T_6aede_row4_col2\" class=\"data row4 col2\" >z</td>\n",
              "      <td id=\"T_6aede_row4_col3\" class=\"data row4 col3\" >2021-01-05 00:00:00</td>\n",
              "      <td id=\"T_6aede_row4_col4\" class=\"data row4 col4\" >5.000000</td>\n",
              "    </tr>\n",
              "  </tbody>\n",
              "</table>\n"
            ],
            "text/plain": [
              "<pandas.io.formats.style.Styler at 0x2097d7e3cd0>"
            ]
          },
          "execution_count": 174,
          "metadata": {},
          "output_type": "execute_result"
        }
      ],
      "source": [
        "# 172. DataFrame.style.highlight_max\n",
        "df.style.highlight_max(axis=0)"
      ]
    },
    {
      "cell_type": "code",
      "execution_count": 175,
      "metadata": {},
      "outputs": [
        {
          "ename": "TypeError",
          "evalue": "'<=' not supported between instances of 'int' and 'str'",
          "output_type": "error",
          "traceback": [
            "\u001b[1;31m---------------------------------------------------------------------------\u001b[0m",
            "\u001b[1;31mTypeError\u001b[0m                                 Traceback (most recent call last)",
            "File \u001b[1;32m~\\AppData\\Local\\Packages\\PythonSoftwareFoundation.Python.3.11_qbz5n2kfra8p0\\LocalCache\\local-packages\\Python311\\site-packages\\IPython\\core\\formatters.py:406\u001b[0m, in \u001b[0;36mBaseFormatter.__call__\u001b[1;34m(self, obj)\u001b[0m\n\u001b[0;32m    404\u001b[0m     method \u001b[38;5;241m=\u001b[39m get_real_method(obj, \u001b[38;5;28mself\u001b[39m\u001b[38;5;241m.\u001b[39mprint_method)\n\u001b[0;32m    405\u001b[0m     \u001b[38;5;28;01mif\u001b[39;00m method \u001b[38;5;129;01mis\u001b[39;00m \u001b[38;5;129;01mnot\u001b[39;00m \u001b[38;5;28;01mNone\u001b[39;00m:\n\u001b[1;32m--> 406\u001b[0m         \u001b[38;5;28;01mreturn\u001b[39;00m \u001b[43mmethod\u001b[49m\u001b[43m(\u001b[49m\u001b[43m)\u001b[49m\n\u001b[0;32m    407\u001b[0m     \u001b[38;5;28;01mreturn\u001b[39;00m \u001b[38;5;28;01mNone\u001b[39;00m\n\u001b[0;32m    408\u001b[0m \u001b[38;5;28;01melse\u001b[39;00m:\n",
            "File \u001b[1;32m~\\AppData\\Local\\Packages\\PythonSoftwareFoundation.Python.3.11_qbz5n2kfra8p0\\LocalCache\\local-packages\\Python311\\site-packages\\pandas\\io\\formats\\style.py:405\u001b[0m, in \u001b[0;36mStyler._repr_html_\u001b[1;34m(self)\u001b[0m\n\u001b[0;32m    400\u001b[0m \u001b[38;5;250m\u001b[39m\u001b[38;5;124;03m\"\"\"\u001b[39;00m\n\u001b[0;32m    401\u001b[0m \u001b[38;5;124;03mHooks into Jupyter notebook rich display system, which calls _repr_html_ by\u001b[39;00m\n\u001b[0;32m    402\u001b[0m \u001b[38;5;124;03mdefault if an object is returned at the end of a cell.\u001b[39;00m\n\u001b[0;32m    403\u001b[0m \u001b[38;5;124;03m\"\"\"\u001b[39;00m\n\u001b[0;32m    404\u001b[0m \u001b[38;5;28;01mif\u001b[39;00m get_option(\u001b[38;5;124m\"\u001b[39m\u001b[38;5;124mstyler.render.repr\u001b[39m\u001b[38;5;124m\"\u001b[39m) \u001b[38;5;241m==\u001b[39m \u001b[38;5;124m\"\u001b[39m\u001b[38;5;124mhtml\u001b[39m\u001b[38;5;124m\"\u001b[39m:\n\u001b[1;32m--> 405\u001b[0m     \u001b[38;5;28;01mreturn\u001b[39;00m \u001b[38;5;28;43mself\u001b[39;49m\u001b[38;5;241;43m.\u001b[39;49m\u001b[43mto_html\u001b[49m\u001b[43m(\u001b[49m\u001b[43m)\u001b[49m\n\u001b[0;32m    406\u001b[0m \u001b[38;5;28;01mreturn\u001b[39;00m \u001b[38;5;28;01mNone\u001b[39;00m\n",
            "File \u001b[1;32m~\\AppData\\Local\\Packages\\PythonSoftwareFoundation.Python.3.11_qbz5n2kfra8p0\\LocalCache\\local-packages\\Python311\\site-packages\\pandas\\io\\formats\\style.py:1345\u001b[0m, in \u001b[0;36mStyler.to_html\u001b[1;34m(self, buf, table_uuid, table_attributes, sparse_index, sparse_columns, bold_headers, caption, max_rows, max_columns, encoding, doctype_html, exclude_styles, **kwargs)\u001b[0m\n\u001b[0;32m   1342\u001b[0m     obj\u001b[38;5;241m.\u001b[39mset_caption(caption)\n\u001b[0;32m   1344\u001b[0m \u001b[38;5;66;03m# Build HTML string..\u001b[39;00m\n\u001b[1;32m-> 1345\u001b[0m html \u001b[38;5;241m=\u001b[39m \u001b[43mobj\u001b[49m\u001b[38;5;241;43m.\u001b[39;49m\u001b[43m_render_html\u001b[49m\u001b[43m(\u001b[49m\n\u001b[0;32m   1346\u001b[0m \u001b[43m    \u001b[49m\u001b[43msparse_index\u001b[49m\u001b[38;5;241;43m=\u001b[39;49m\u001b[43msparse_index\u001b[49m\u001b[43m,\u001b[49m\n\u001b[0;32m   1347\u001b[0m \u001b[43m    \u001b[49m\u001b[43msparse_columns\u001b[49m\u001b[38;5;241;43m=\u001b[39;49m\u001b[43msparse_columns\u001b[49m\u001b[43m,\u001b[49m\n\u001b[0;32m   1348\u001b[0m \u001b[43m    \u001b[49m\u001b[43mmax_rows\u001b[49m\u001b[38;5;241;43m=\u001b[39;49m\u001b[43mmax_rows\u001b[49m\u001b[43m,\u001b[49m\n\u001b[0;32m   1349\u001b[0m \u001b[43m    \u001b[49m\u001b[43mmax_cols\u001b[49m\u001b[38;5;241;43m=\u001b[39;49m\u001b[43mmax_columns\u001b[49m\u001b[43m,\u001b[49m\n\u001b[0;32m   1350\u001b[0m \u001b[43m    \u001b[49m\u001b[43mexclude_styles\u001b[49m\u001b[38;5;241;43m=\u001b[39;49m\u001b[43mexclude_styles\u001b[49m\u001b[43m,\u001b[49m\n\u001b[0;32m   1351\u001b[0m \u001b[43m    \u001b[49m\u001b[43mencoding\u001b[49m\u001b[38;5;241;43m=\u001b[39;49m\u001b[43mencoding\u001b[49m\u001b[43m \u001b[49m\u001b[38;5;129;43;01mor\u001b[39;49;00m\u001b[43m \u001b[49m\u001b[43mget_option\u001b[49m\u001b[43m(\u001b[49m\u001b[38;5;124;43m\"\u001b[39;49m\u001b[38;5;124;43mstyler.render.encoding\u001b[39;49m\u001b[38;5;124;43m\"\u001b[39;49m\u001b[43m)\u001b[49m\u001b[43m,\u001b[49m\n\u001b[0;32m   1352\u001b[0m \u001b[43m    \u001b[49m\u001b[43mdoctype_html\u001b[49m\u001b[38;5;241;43m=\u001b[39;49m\u001b[43mdoctype_html\u001b[49m\u001b[43m,\u001b[49m\n\u001b[0;32m   1353\u001b[0m \u001b[43m    \u001b[49m\u001b[38;5;241;43m*\u001b[39;49m\u001b[38;5;241;43m*\u001b[39;49m\u001b[43mkwargs\u001b[49m\u001b[43m,\u001b[49m\n\u001b[0;32m   1354\u001b[0m \u001b[43m\u001b[49m\u001b[43m)\u001b[49m\n\u001b[0;32m   1356\u001b[0m \u001b[38;5;28;01mreturn\u001b[39;00m save_to_buffer(\n\u001b[0;32m   1357\u001b[0m     html, buf\u001b[38;5;241m=\u001b[39mbuf, encoding\u001b[38;5;241m=\u001b[39m(encoding \u001b[38;5;28;01mif\u001b[39;00m buf \u001b[38;5;129;01mis\u001b[39;00m \u001b[38;5;129;01mnot\u001b[39;00m \u001b[38;5;28;01mNone\u001b[39;00m \u001b[38;5;28;01melse\u001b[39;00m \u001b[38;5;28;01mNone\u001b[39;00m)\n\u001b[0;32m   1358\u001b[0m )\n",
            "File \u001b[1;32m~\\AppData\\Local\\Packages\\PythonSoftwareFoundation.Python.3.11_qbz5n2kfra8p0\\LocalCache\\local-packages\\Python311\\site-packages\\pandas\\io\\formats\\style_render.py:204\u001b[0m, in \u001b[0;36mStylerRenderer._render_html\u001b[1;34m(self, sparse_index, sparse_columns, max_rows, max_cols, **kwargs)\u001b[0m\n\u001b[0;32m    192\u001b[0m \u001b[38;5;28;01mdef\u001b[39;00m\u001b[38;5;250m \u001b[39m\u001b[38;5;21m_render_html\u001b[39m(\n\u001b[0;32m    193\u001b[0m     \u001b[38;5;28mself\u001b[39m,\n\u001b[0;32m    194\u001b[0m     sparse_index: \u001b[38;5;28mbool\u001b[39m,\n\u001b[1;32m   (...)\u001b[0m\n\u001b[0;32m    198\u001b[0m     \u001b[38;5;241m*\u001b[39m\u001b[38;5;241m*\u001b[39mkwargs,\n\u001b[0;32m    199\u001b[0m ) \u001b[38;5;241m-\u001b[39m\u001b[38;5;241m>\u001b[39m \u001b[38;5;28mstr\u001b[39m:\n\u001b[0;32m    200\u001b[0m \u001b[38;5;250m    \u001b[39m\u001b[38;5;124;03m\"\"\"\u001b[39;00m\n\u001b[0;32m    201\u001b[0m \u001b[38;5;124;03m    Renders the ``Styler`` including all applied styles to HTML.\u001b[39;00m\n\u001b[0;32m    202\u001b[0m \u001b[38;5;124;03m    Generates a dict with necessary kwargs passed to jinja2 template.\u001b[39;00m\n\u001b[0;32m    203\u001b[0m \u001b[38;5;124;03m    \"\"\"\u001b[39;00m\n\u001b[1;32m--> 204\u001b[0m     d \u001b[38;5;241m=\u001b[39m \u001b[38;5;28;43mself\u001b[39;49m\u001b[38;5;241;43m.\u001b[39;49m\u001b[43m_render\u001b[49m\u001b[43m(\u001b[49m\u001b[43msparse_index\u001b[49m\u001b[43m,\u001b[49m\u001b[43m \u001b[49m\u001b[43msparse_columns\u001b[49m\u001b[43m,\u001b[49m\u001b[43m \u001b[49m\u001b[43mmax_rows\u001b[49m\u001b[43m,\u001b[49m\u001b[43m \u001b[49m\u001b[43mmax_cols\u001b[49m\u001b[43m,\u001b[49m\u001b[43m \u001b[49m\u001b[38;5;124;43m\"\u001b[39;49m\u001b[38;5;124;43m&nbsp;\u001b[39;49m\u001b[38;5;124;43m\"\u001b[39;49m\u001b[43m)\u001b[49m\n\u001b[0;32m    205\u001b[0m     d\u001b[38;5;241m.\u001b[39mupdate(kwargs)\n\u001b[0;32m    206\u001b[0m     \u001b[38;5;28;01mreturn\u001b[39;00m \u001b[38;5;28mself\u001b[39m\u001b[38;5;241m.\u001b[39mtemplate_html\u001b[38;5;241m.\u001b[39mrender(\n\u001b[0;32m    207\u001b[0m         \u001b[38;5;241m*\u001b[39m\u001b[38;5;241m*\u001b[39md,\n\u001b[0;32m    208\u001b[0m         html_table_tpl\u001b[38;5;241m=\u001b[39m\u001b[38;5;28mself\u001b[39m\u001b[38;5;241m.\u001b[39mtemplate_html_table,\n\u001b[0;32m    209\u001b[0m         html_style_tpl\u001b[38;5;241m=\u001b[39m\u001b[38;5;28mself\u001b[39m\u001b[38;5;241m.\u001b[39mtemplate_html_style,\n\u001b[0;32m    210\u001b[0m     )\n",
            "File \u001b[1;32m~\\AppData\\Local\\Packages\\PythonSoftwareFoundation.Python.3.11_qbz5n2kfra8p0\\LocalCache\\local-packages\\Python311\\site-packages\\pandas\\io\\formats\\style_render.py:161\u001b[0m, in \u001b[0;36mStylerRenderer._render\u001b[1;34m(self, sparse_index, sparse_columns, max_rows, max_cols, blank)\u001b[0m\n\u001b[0;32m    147\u001b[0m \u001b[38;5;28;01mdef\u001b[39;00m\u001b[38;5;250m \u001b[39m\u001b[38;5;21m_render\u001b[39m(\n\u001b[0;32m    148\u001b[0m     \u001b[38;5;28mself\u001b[39m,\n\u001b[0;32m    149\u001b[0m     sparse_index: \u001b[38;5;28mbool\u001b[39m,\n\u001b[1;32m   (...)\u001b[0m\n\u001b[0;32m    153\u001b[0m     blank: \u001b[38;5;28mstr\u001b[39m \u001b[38;5;241m=\u001b[39m \u001b[38;5;124m\"\u001b[39m\u001b[38;5;124m\"\u001b[39m,\n\u001b[0;32m    154\u001b[0m ):\n\u001b[0;32m    155\u001b[0m \u001b[38;5;250m    \u001b[39m\u001b[38;5;124;03m\"\"\"\u001b[39;00m\n\u001b[0;32m    156\u001b[0m \u001b[38;5;124;03m    Computes and applies styles and then generates the general render dicts.\u001b[39;00m\n\u001b[0;32m    157\u001b[0m \n\u001b[0;32m    158\u001b[0m \u001b[38;5;124;03m    Also extends the `ctx` and `ctx_index` attributes with those of concatenated\u001b[39;00m\n\u001b[0;32m    159\u001b[0m \u001b[38;5;124;03m    stylers for use within `_translate_latex`\u001b[39;00m\n\u001b[0;32m    160\u001b[0m \u001b[38;5;124;03m    \"\"\"\u001b[39;00m\n\u001b[1;32m--> 161\u001b[0m     \u001b[38;5;28;43mself\u001b[39;49m\u001b[38;5;241;43m.\u001b[39;49m\u001b[43m_compute\u001b[49m\u001b[43m(\u001b[49m\u001b[43m)\u001b[49m\n\u001b[0;32m    162\u001b[0m     dxs \u001b[38;5;241m=\u001b[39m []\n\u001b[0;32m    163\u001b[0m     ctx_len \u001b[38;5;241m=\u001b[39m \u001b[38;5;28mlen\u001b[39m(\u001b[38;5;28mself\u001b[39m\u001b[38;5;241m.\u001b[39mindex)\n",
            "File \u001b[1;32m~\\AppData\\Local\\Packages\\PythonSoftwareFoundation.Python.3.11_qbz5n2kfra8p0\\LocalCache\\local-packages\\Python311\\site-packages\\pandas\\io\\formats\\style_render.py:256\u001b[0m, in \u001b[0;36mStylerRenderer._compute\u001b[1;34m(self)\u001b[0m\n\u001b[0;32m    254\u001b[0m r \u001b[38;5;241m=\u001b[39m \u001b[38;5;28mself\u001b[39m\n\u001b[0;32m    255\u001b[0m \u001b[38;5;28;01mfor\u001b[39;00m func, args, kwargs \u001b[38;5;129;01min\u001b[39;00m \u001b[38;5;28mself\u001b[39m\u001b[38;5;241m.\u001b[39m_todo:\n\u001b[1;32m--> 256\u001b[0m     r \u001b[38;5;241m=\u001b[39m \u001b[43mfunc\u001b[49m\u001b[43m(\u001b[49m\u001b[38;5;28;43mself\u001b[39;49m\u001b[43m)\u001b[49m\u001b[43m(\u001b[49m\u001b[38;5;241;43m*\u001b[39;49m\u001b[43margs\u001b[49m\u001b[43m,\u001b[49m\u001b[43m \u001b[49m\u001b[38;5;241;43m*\u001b[39;49m\u001b[38;5;241;43m*\u001b[39;49m\u001b[43mkwargs\u001b[49m\u001b[43m)\u001b[49m\n\u001b[0;32m    257\u001b[0m \u001b[38;5;28;01mreturn\u001b[39;00m r\n",
            "File \u001b[1;32m~\\AppData\\Local\\Packages\\PythonSoftwareFoundation.Python.3.11_qbz5n2kfra8p0\\LocalCache\\local-packages\\Python311\\site-packages\\pandas\\io\\formats\\style.py:1728\u001b[0m, in \u001b[0;36mStyler._apply\u001b[1;34m(self, func, axis, subset, **kwargs)\u001b[0m\n\u001b[0;32m   1726\u001b[0m         result \u001b[38;5;241m=\u001b[39m data\u001b[38;5;241m.\u001b[39mapply(func, axis\u001b[38;5;241m=\u001b[39m\u001b[38;5;241m0\u001b[39m, \u001b[38;5;241m*\u001b[39m\u001b[38;5;241m*\u001b[39mkwargs)\n\u001b[0;32m   1727\u001b[0m     \u001b[38;5;28;01melse\u001b[39;00m:\n\u001b[1;32m-> 1728\u001b[0m         result \u001b[38;5;241m=\u001b[39m \u001b[43mdata\u001b[49m\u001b[38;5;241;43m.\u001b[39;49m\u001b[43mT\u001b[49m\u001b[38;5;241;43m.\u001b[39;49m\u001b[43mapply\u001b[49m\u001b[43m(\u001b[49m\u001b[43mfunc\u001b[49m\u001b[43m,\u001b[49m\u001b[43m \u001b[49m\u001b[43maxis\u001b[49m\u001b[38;5;241;43m=\u001b[39;49m\u001b[38;5;241;43m0\u001b[39;49m\u001b[43m,\u001b[49m\u001b[43m \u001b[49m\u001b[38;5;241;43m*\u001b[39;49m\u001b[38;5;241;43m*\u001b[39;49m\u001b[43mkwargs\u001b[49m\u001b[43m)\u001b[49m\u001b[38;5;241m.\u001b[39mT  \u001b[38;5;66;03m# see GH 42005\u001b[39;00m\n\u001b[0;32m   1730\u001b[0m \u001b[38;5;28;01mif\u001b[39;00m \u001b[38;5;28misinstance\u001b[39m(result, Series):\n\u001b[0;32m   1731\u001b[0m     \u001b[38;5;28;01mraise\u001b[39;00m \u001b[38;5;167;01mValueError\u001b[39;00m(\n\u001b[0;32m   1732\u001b[0m         \u001b[38;5;124mf\u001b[39m\u001b[38;5;124m\"\u001b[39m\u001b[38;5;124mFunction \u001b[39m\u001b[38;5;132;01m{\u001b[39;00m\u001b[38;5;28mrepr\u001b[39m(func)\u001b[38;5;132;01m}\u001b[39;00m\u001b[38;5;124m resulted in the apply method collapsing to a \u001b[39m\u001b[38;5;124m\"\u001b[39m\n\u001b[0;32m   1733\u001b[0m         \u001b[38;5;124mf\u001b[39m\u001b[38;5;124m\"\u001b[39m\u001b[38;5;124mSeries.\u001b[39m\u001b[38;5;130;01m\\n\u001b[39;00m\u001b[38;5;124mUsually, this is the result of the function returning a \u001b[39m\u001b[38;5;124m\"\u001b[39m\n\u001b[0;32m   1734\u001b[0m         \u001b[38;5;124mf\u001b[39m\u001b[38;5;124m\"\u001b[39m\u001b[38;5;124msingle value, instead of list-like.\u001b[39m\u001b[38;5;124m\"\u001b[39m\n\u001b[0;32m   1735\u001b[0m     )\n",
            "File \u001b[1;32m~\\AppData\\Local\\Packages\\PythonSoftwareFoundation.Python.3.11_qbz5n2kfra8p0\\LocalCache\\local-packages\\Python311\\site-packages\\pandas\\core\\frame.py:10374\u001b[0m, in \u001b[0;36mDataFrame.apply\u001b[1;34m(self, func, axis, raw, result_type, args, by_row, engine, engine_kwargs, **kwargs)\u001b[0m\n\u001b[0;32m  10360\u001b[0m \u001b[38;5;28;01mfrom\u001b[39;00m\u001b[38;5;250m \u001b[39m\u001b[38;5;21;01mpandas\u001b[39;00m\u001b[38;5;21;01m.\u001b[39;00m\u001b[38;5;21;01mcore\u001b[39;00m\u001b[38;5;21;01m.\u001b[39;00m\u001b[38;5;21;01mapply\u001b[39;00m\u001b[38;5;250m \u001b[39m\u001b[38;5;28;01mimport\u001b[39;00m frame_apply\n\u001b[0;32m  10362\u001b[0m op \u001b[38;5;241m=\u001b[39m frame_apply(\n\u001b[0;32m  10363\u001b[0m     \u001b[38;5;28mself\u001b[39m,\n\u001b[0;32m  10364\u001b[0m     func\u001b[38;5;241m=\u001b[39mfunc,\n\u001b[1;32m   (...)\u001b[0m\n\u001b[0;32m  10372\u001b[0m     kwargs\u001b[38;5;241m=\u001b[39mkwargs,\n\u001b[0;32m  10373\u001b[0m )\n\u001b[1;32m> 10374\u001b[0m \u001b[38;5;28;01mreturn\u001b[39;00m \u001b[43mop\u001b[49m\u001b[38;5;241;43m.\u001b[39;49m\u001b[43mapply\u001b[49m\u001b[43m(\u001b[49m\u001b[43m)\u001b[49m\u001b[38;5;241m.\u001b[39m__finalize__(\u001b[38;5;28mself\u001b[39m, method\u001b[38;5;241m=\u001b[39m\u001b[38;5;124m\"\u001b[39m\u001b[38;5;124mapply\u001b[39m\u001b[38;5;124m\"\u001b[39m)\n",
            "File \u001b[1;32m~\\AppData\\Local\\Packages\\PythonSoftwareFoundation.Python.3.11_qbz5n2kfra8p0\\LocalCache\\local-packages\\Python311\\site-packages\\pandas\\core\\apply.py:916\u001b[0m, in \u001b[0;36mFrameApply.apply\u001b[1;34m(self)\u001b[0m\n\u001b[0;32m    913\u001b[0m \u001b[38;5;28;01melif\u001b[39;00m \u001b[38;5;28mself\u001b[39m\u001b[38;5;241m.\u001b[39mraw:\n\u001b[0;32m    914\u001b[0m     \u001b[38;5;28;01mreturn\u001b[39;00m \u001b[38;5;28mself\u001b[39m\u001b[38;5;241m.\u001b[39mapply_raw(engine\u001b[38;5;241m=\u001b[39m\u001b[38;5;28mself\u001b[39m\u001b[38;5;241m.\u001b[39mengine, engine_kwargs\u001b[38;5;241m=\u001b[39m\u001b[38;5;28mself\u001b[39m\u001b[38;5;241m.\u001b[39mengine_kwargs)\n\u001b[1;32m--> 916\u001b[0m \u001b[38;5;28;01mreturn\u001b[39;00m \u001b[38;5;28;43mself\u001b[39;49m\u001b[38;5;241;43m.\u001b[39;49m\u001b[43mapply_standard\u001b[49m\u001b[43m(\u001b[49m\u001b[43m)\u001b[49m\n",
            "File \u001b[1;32m~\\AppData\\Local\\Packages\\PythonSoftwareFoundation.Python.3.11_qbz5n2kfra8p0\\LocalCache\\local-packages\\Python311\\site-packages\\pandas\\core\\apply.py:1063\u001b[0m, in \u001b[0;36mFrameApply.apply_standard\u001b[1;34m(self)\u001b[0m\n\u001b[0;32m   1061\u001b[0m \u001b[38;5;28;01mdef\u001b[39;00m\u001b[38;5;250m \u001b[39m\u001b[38;5;21mapply_standard\u001b[39m(\u001b[38;5;28mself\u001b[39m):\n\u001b[0;32m   1062\u001b[0m     \u001b[38;5;28;01mif\u001b[39;00m \u001b[38;5;28mself\u001b[39m\u001b[38;5;241m.\u001b[39mengine \u001b[38;5;241m==\u001b[39m \u001b[38;5;124m\"\u001b[39m\u001b[38;5;124mpython\u001b[39m\u001b[38;5;124m\"\u001b[39m:\n\u001b[1;32m-> 1063\u001b[0m         results, res_index \u001b[38;5;241m=\u001b[39m \u001b[38;5;28;43mself\u001b[39;49m\u001b[38;5;241;43m.\u001b[39;49m\u001b[43mapply_series_generator\u001b[49m\u001b[43m(\u001b[49m\u001b[43m)\u001b[49m\n\u001b[0;32m   1064\u001b[0m     \u001b[38;5;28;01melse\u001b[39;00m:\n\u001b[0;32m   1065\u001b[0m         results, res_index \u001b[38;5;241m=\u001b[39m \u001b[38;5;28mself\u001b[39m\u001b[38;5;241m.\u001b[39mapply_series_numba()\n",
            "File \u001b[1;32m~\\AppData\\Local\\Packages\\PythonSoftwareFoundation.Python.3.11_qbz5n2kfra8p0\\LocalCache\\local-packages\\Python311\\site-packages\\pandas\\core\\apply.py:1081\u001b[0m, in \u001b[0;36mFrameApply.apply_series_generator\u001b[1;34m(self)\u001b[0m\n\u001b[0;32m   1078\u001b[0m \u001b[38;5;28;01mwith\u001b[39;00m option_context(\u001b[38;5;124m\"\u001b[39m\u001b[38;5;124mmode.chained_assignment\u001b[39m\u001b[38;5;124m\"\u001b[39m, \u001b[38;5;28;01mNone\u001b[39;00m):\n\u001b[0;32m   1079\u001b[0m     \u001b[38;5;28;01mfor\u001b[39;00m i, v \u001b[38;5;129;01min\u001b[39;00m \u001b[38;5;28menumerate\u001b[39m(series_gen):\n\u001b[0;32m   1080\u001b[0m         \u001b[38;5;66;03m# ignore SettingWithCopy here in case the user mutates\u001b[39;00m\n\u001b[1;32m-> 1081\u001b[0m         results[i] \u001b[38;5;241m=\u001b[39m \u001b[38;5;28;43mself\u001b[39;49m\u001b[38;5;241;43m.\u001b[39;49m\u001b[43mfunc\u001b[49m\u001b[43m(\u001b[49m\u001b[43mv\u001b[49m\u001b[43m,\u001b[49m\u001b[43m \u001b[49m\u001b[38;5;241;43m*\u001b[39;49m\u001b[38;5;28;43mself\u001b[39;49m\u001b[38;5;241;43m.\u001b[39;49m\u001b[43margs\u001b[49m\u001b[43m,\u001b[49m\u001b[43m \u001b[49m\u001b[38;5;241;43m*\u001b[39;49m\u001b[38;5;241;43m*\u001b[39;49m\u001b[38;5;28;43mself\u001b[39;49m\u001b[38;5;241;43m.\u001b[39;49m\u001b[43mkwargs\u001b[49m\u001b[43m)\u001b[49m\n\u001b[0;32m   1082\u001b[0m         \u001b[38;5;28;01mif\u001b[39;00m \u001b[38;5;28misinstance\u001b[39m(results[i], ABCSeries):\n\u001b[0;32m   1083\u001b[0m             \u001b[38;5;66;03m# If we have a view on v, we need to make a copy because\u001b[39;00m\n\u001b[0;32m   1084\u001b[0m             \u001b[38;5;66;03m#  series_generator will swap out the underlying data\u001b[39;00m\n\u001b[0;32m   1085\u001b[0m             results[i] \u001b[38;5;241m=\u001b[39m results[i]\u001b[38;5;241m.\u001b[39mcopy(deep\u001b[38;5;241m=\u001b[39m\u001b[38;5;28;01mFalse\u001b[39;00m)\n",
            "File \u001b[1;32m~\\AppData\\Local\\Packages\\PythonSoftwareFoundation.Python.3.11_qbz5n2kfra8p0\\LocalCache\\local-packages\\Python311\\site-packages\\pandas\\io\\formats\\style.py:3923\u001b[0m, in \u001b[0;36m_highlight_value\u001b[1;34m(data, op, props)\u001b[0m\n\u001b[0;32m   3919\u001b[0m \u001b[38;5;28;01mdef\u001b[39;00m\u001b[38;5;250m \u001b[39m\u001b[38;5;21m_highlight_value\u001b[39m(data: DataFrame \u001b[38;5;241m|\u001b[39m Series, op: \u001b[38;5;28mstr\u001b[39m, props: \u001b[38;5;28mstr\u001b[39m) \u001b[38;5;241m-\u001b[39m\u001b[38;5;241m>\u001b[39m np\u001b[38;5;241m.\u001b[39mndarray:\n\u001b[0;32m   3920\u001b[0m \u001b[38;5;250m    \u001b[39m\u001b[38;5;124;03m\"\"\"\u001b[39;00m\n\u001b[0;32m   3921\u001b[0m \u001b[38;5;124;03m    Return an array of css strings based on the condition of values matching an op.\u001b[39;00m\n\u001b[0;32m   3922\u001b[0m \u001b[38;5;124;03m    \"\"\"\u001b[39;00m\n\u001b[1;32m-> 3923\u001b[0m     value \u001b[38;5;241m=\u001b[39m \u001b[38;5;28;43mgetattr\u001b[39;49m\u001b[43m(\u001b[49m\u001b[43mdata\u001b[49m\u001b[43m,\u001b[49m\u001b[43m \u001b[49m\u001b[43mop\u001b[49m\u001b[43m)\u001b[49m\u001b[43m(\u001b[49m\u001b[43mskipna\u001b[49m\u001b[38;5;241;43m=\u001b[39;49m\u001b[38;5;28;43;01mTrue\u001b[39;49;00m\u001b[43m)\u001b[49m\n\u001b[0;32m   3924\u001b[0m     \u001b[38;5;28;01mif\u001b[39;00m \u001b[38;5;28misinstance\u001b[39m(data, DataFrame):  \u001b[38;5;66;03m# min/max must be done twice to return scalar\u001b[39;00m\n\u001b[0;32m   3925\u001b[0m         value \u001b[38;5;241m=\u001b[39m \u001b[38;5;28mgetattr\u001b[39m(value, op)(skipna\u001b[38;5;241m=\u001b[39m\u001b[38;5;28;01mTrue\u001b[39;00m)\n",
            "File \u001b[1;32m~\\AppData\\Local\\Packages\\PythonSoftwareFoundation.Python.3.11_qbz5n2kfra8p0\\LocalCache\\local-packages\\Python311\\site-packages\\pandas\\core\\series.py:6507\u001b[0m, in \u001b[0;36mSeries.min\u001b[1;34m(self, axis, skipna, numeric_only, **kwargs)\u001b[0m\n\u001b[0;32m   6499\u001b[0m \u001b[38;5;129m@doc\u001b[39m(make_doc(\u001b[38;5;124m\"\u001b[39m\u001b[38;5;124mmin\u001b[39m\u001b[38;5;124m\"\u001b[39m, ndim\u001b[38;5;241m=\u001b[39m\u001b[38;5;241m1\u001b[39m))\n\u001b[0;32m   6500\u001b[0m \u001b[38;5;28;01mdef\u001b[39;00m\u001b[38;5;250m \u001b[39m\u001b[38;5;21mmin\u001b[39m(\n\u001b[0;32m   6501\u001b[0m     \u001b[38;5;28mself\u001b[39m,\n\u001b[1;32m   (...)\u001b[0m\n\u001b[0;32m   6505\u001b[0m     \u001b[38;5;241m*\u001b[39m\u001b[38;5;241m*\u001b[39mkwargs,\n\u001b[0;32m   6506\u001b[0m ):\n\u001b[1;32m-> 6507\u001b[0m     \u001b[38;5;28;01mreturn\u001b[39;00m \u001b[43mNDFrame\u001b[49m\u001b[38;5;241;43m.\u001b[39;49m\u001b[43mmin\u001b[49m\u001b[43m(\u001b[49m\u001b[38;5;28;43mself\u001b[39;49m\u001b[43m,\u001b[49m\u001b[43m \u001b[49m\u001b[43maxis\u001b[49m\u001b[43m,\u001b[49m\u001b[43m \u001b[49m\u001b[43mskipna\u001b[49m\u001b[43m,\u001b[49m\u001b[43m \u001b[49m\u001b[43mnumeric_only\u001b[49m\u001b[43m,\u001b[49m\u001b[43m \u001b[49m\u001b[38;5;241;43m*\u001b[39;49m\u001b[38;5;241;43m*\u001b[39;49m\u001b[43mkwargs\u001b[49m\u001b[43m)\u001b[49m\n",
            "File \u001b[1;32m~\\AppData\\Local\\Packages\\PythonSoftwareFoundation.Python.3.11_qbz5n2kfra8p0\\LocalCache\\local-packages\\Python311\\site-packages\\pandas\\core\\generic.py:12388\u001b[0m, in \u001b[0;36mNDFrame.min\u001b[1;34m(self, axis, skipna, numeric_only, **kwargs)\u001b[0m\n\u001b[0;32m  12381\u001b[0m \u001b[38;5;28;01mdef\u001b[39;00m\u001b[38;5;250m \u001b[39m\u001b[38;5;21mmin\u001b[39m(\n\u001b[0;32m  12382\u001b[0m     \u001b[38;5;28mself\u001b[39m,\n\u001b[0;32m  12383\u001b[0m     axis: Axis \u001b[38;5;241m|\u001b[39m \u001b[38;5;28;01mNone\u001b[39;00m \u001b[38;5;241m=\u001b[39m \u001b[38;5;241m0\u001b[39m,\n\u001b[1;32m   (...)\u001b[0m\n\u001b[0;32m  12386\u001b[0m     \u001b[38;5;241m*\u001b[39m\u001b[38;5;241m*\u001b[39mkwargs,\n\u001b[0;32m  12387\u001b[0m ):\n\u001b[1;32m> 12388\u001b[0m     \u001b[38;5;28;01mreturn\u001b[39;00m \u001b[38;5;28;43mself\u001b[39;49m\u001b[38;5;241;43m.\u001b[39;49m\u001b[43m_stat_function\u001b[49m\u001b[43m(\u001b[49m\n\u001b[0;32m  12389\u001b[0m \u001b[43m        \u001b[49m\u001b[38;5;124;43m\"\u001b[39;49m\u001b[38;5;124;43mmin\u001b[39;49m\u001b[38;5;124;43m\"\u001b[39;49m\u001b[43m,\u001b[49m\n\u001b[0;32m  12390\u001b[0m \u001b[43m        \u001b[49m\u001b[43mnanops\u001b[49m\u001b[38;5;241;43m.\u001b[39;49m\u001b[43mnanmin\u001b[49m\u001b[43m,\u001b[49m\n\u001b[0;32m  12391\u001b[0m \u001b[43m        \u001b[49m\u001b[43maxis\u001b[49m\u001b[43m,\u001b[49m\n\u001b[0;32m  12392\u001b[0m \u001b[43m        \u001b[49m\u001b[43mskipna\u001b[49m\u001b[43m,\u001b[49m\n\u001b[0;32m  12393\u001b[0m \u001b[43m        \u001b[49m\u001b[43mnumeric_only\u001b[49m\u001b[43m,\u001b[49m\n\u001b[0;32m  12394\u001b[0m \u001b[43m        \u001b[49m\u001b[38;5;241;43m*\u001b[39;49m\u001b[38;5;241;43m*\u001b[39;49m\u001b[43mkwargs\u001b[49m\u001b[43m,\u001b[49m\n\u001b[0;32m  12395\u001b[0m \u001b[43m    \u001b[49m\u001b[43m)\u001b[49m\n",
            "File \u001b[1;32m~\\AppData\\Local\\Packages\\PythonSoftwareFoundation.Python.3.11_qbz5n2kfra8p0\\LocalCache\\local-packages\\Python311\\site-packages\\pandas\\core\\generic.py:12377\u001b[0m, in \u001b[0;36mNDFrame._stat_function\u001b[1;34m(self, name, func, axis, skipna, numeric_only, **kwargs)\u001b[0m\n\u001b[0;32m  12373\u001b[0m nv\u001b[38;5;241m.\u001b[39mvalidate_func(name, (), kwargs)\n\u001b[0;32m  12375\u001b[0m validate_bool_kwarg(skipna, \u001b[38;5;124m\"\u001b[39m\u001b[38;5;124mskipna\u001b[39m\u001b[38;5;124m\"\u001b[39m, none_allowed\u001b[38;5;241m=\u001b[39m\u001b[38;5;28;01mFalse\u001b[39;00m)\n\u001b[1;32m> 12377\u001b[0m \u001b[38;5;28;01mreturn\u001b[39;00m \u001b[38;5;28;43mself\u001b[39;49m\u001b[38;5;241;43m.\u001b[39;49m\u001b[43m_reduce\u001b[49m\u001b[43m(\u001b[49m\n\u001b[0;32m  12378\u001b[0m \u001b[43m    \u001b[49m\u001b[43mfunc\u001b[49m\u001b[43m,\u001b[49m\u001b[43m \u001b[49m\u001b[43mname\u001b[49m\u001b[38;5;241;43m=\u001b[39;49m\u001b[43mname\u001b[49m\u001b[43m,\u001b[49m\u001b[43m \u001b[49m\u001b[43maxis\u001b[49m\u001b[38;5;241;43m=\u001b[39;49m\u001b[43maxis\u001b[49m\u001b[43m,\u001b[49m\u001b[43m \u001b[49m\u001b[43mskipna\u001b[49m\u001b[38;5;241;43m=\u001b[39;49m\u001b[43mskipna\u001b[49m\u001b[43m,\u001b[49m\u001b[43m \u001b[49m\u001b[43mnumeric_only\u001b[49m\u001b[38;5;241;43m=\u001b[39;49m\u001b[43mnumeric_only\u001b[49m\n\u001b[0;32m  12379\u001b[0m \u001b[43m\u001b[49m\u001b[43m)\u001b[49m\n",
            "File \u001b[1;32m~\\AppData\\Local\\Packages\\PythonSoftwareFoundation.Python.3.11_qbz5n2kfra8p0\\LocalCache\\local-packages\\Python311\\site-packages\\pandas\\core\\series.py:6457\u001b[0m, in \u001b[0;36mSeries._reduce\u001b[1;34m(self, op, name, axis, skipna, numeric_only, filter_type, **kwds)\u001b[0m\n\u001b[0;32m   6452\u001b[0m     \u001b[38;5;66;03m# GH#47500 - change to TypeError to match other methods\u001b[39;00m\n\u001b[0;32m   6453\u001b[0m     \u001b[38;5;28;01mraise\u001b[39;00m \u001b[38;5;167;01mTypeError\u001b[39;00m(\n\u001b[0;32m   6454\u001b[0m         \u001b[38;5;124mf\u001b[39m\u001b[38;5;124m\"\u001b[39m\u001b[38;5;124mSeries.\u001b[39m\u001b[38;5;132;01m{\u001b[39;00mname\u001b[38;5;132;01m}\u001b[39;00m\u001b[38;5;124m does not allow \u001b[39m\u001b[38;5;132;01m{\u001b[39;00mkwd_name\u001b[38;5;132;01m}\u001b[39;00m\u001b[38;5;124m=\u001b[39m\u001b[38;5;132;01m{\u001b[39;00mnumeric_only\u001b[38;5;132;01m}\u001b[39;00m\u001b[38;5;124m \u001b[39m\u001b[38;5;124m\"\u001b[39m\n\u001b[0;32m   6455\u001b[0m         \u001b[38;5;124m\"\u001b[39m\u001b[38;5;124mwith non-numeric dtypes.\u001b[39m\u001b[38;5;124m\"\u001b[39m\n\u001b[0;32m   6456\u001b[0m     )\n\u001b[1;32m-> 6457\u001b[0m \u001b[38;5;28;01mreturn\u001b[39;00m \u001b[43mop\u001b[49m\u001b[43m(\u001b[49m\u001b[43mdelegate\u001b[49m\u001b[43m,\u001b[49m\u001b[43m \u001b[49m\u001b[43mskipna\u001b[49m\u001b[38;5;241;43m=\u001b[39;49m\u001b[43mskipna\u001b[49m\u001b[43m,\u001b[49m\u001b[43m \u001b[49m\u001b[38;5;241;43m*\u001b[39;49m\u001b[38;5;241;43m*\u001b[39;49m\u001b[43mkwds\u001b[49m\u001b[43m)\u001b[49m\n",
            "File \u001b[1;32m~\\AppData\\Local\\Packages\\PythonSoftwareFoundation.Python.3.11_qbz5n2kfra8p0\\LocalCache\\local-packages\\Python311\\site-packages\\pandas\\core\\nanops.py:147\u001b[0m, in \u001b[0;36mbottleneck_switch.__call__.<locals>.f\u001b[1;34m(values, axis, skipna, **kwds)\u001b[0m\n\u001b[0;32m    145\u001b[0m         result \u001b[38;5;241m=\u001b[39m alt(values, axis\u001b[38;5;241m=\u001b[39maxis, skipna\u001b[38;5;241m=\u001b[39mskipna, \u001b[38;5;241m*\u001b[39m\u001b[38;5;241m*\u001b[39mkwds)\n\u001b[0;32m    146\u001b[0m \u001b[38;5;28;01melse\u001b[39;00m:\n\u001b[1;32m--> 147\u001b[0m     result \u001b[38;5;241m=\u001b[39m \u001b[43malt\u001b[49m\u001b[43m(\u001b[49m\u001b[43mvalues\u001b[49m\u001b[43m,\u001b[49m\u001b[43m \u001b[49m\u001b[43maxis\u001b[49m\u001b[38;5;241;43m=\u001b[39;49m\u001b[43maxis\u001b[49m\u001b[43m,\u001b[49m\u001b[43m \u001b[49m\u001b[43mskipna\u001b[49m\u001b[38;5;241;43m=\u001b[39;49m\u001b[43mskipna\u001b[49m\u001b[43m,\u001b[49m\u001b[43m \u001b[49m\u001b[38;5;241;43m*\u001b[39;49m\u001b[38;5;241;43m*\u001b[39;49m\u001b[43mkwds\u001b[49m\u001b[43m)\u001b[49m\n\u001b[0;32m    149\u001b[0m \u001b[38;5;28;01mreturn\u001b[39;00m result\n",
            "File \u001b[1;32m~\\AppData\\Local\\Packages\\PythonSoftwareFoundation.Python.3.11_qbz5n2kfra8p0\\LocalCache\\local-packages\\Python311\\site-packages\\pandas\\core\\nanops.py:404\u001b[0m, in \u001b[0;36m_datetimelike_compat.<locals>.new_func\u001b[1;34m(values, axis, skipna, mask, **kwargs)\u001b[0m\n\u001b[0;32m    401\u001b[0m \u001b[38;5;28;01mif\u001b[39;00m datetimelike \u001b[38;5;129;01mand\u001b[39;00m mask \u001b[38;5;129;01mis\u001b[39;00m \u001b[38;5;28;01mNone\u001b[39;00m:\n\u001b[0;32m    402\u001b[0m     mask \u001b[38;5;241m=\u001b[39m isna(values)\n\u001b[1;32m--> 404\u001b[0m result \u001b[38;5;241m=\u001b[39m \u001b[43mfunc\u001b[49m\u001b[43m(\u001b[49m\u001b[43mvalues\u001b[49m\u001b[43m,\u001b[49m\u001b[43m \u001b[49m\u001b[43maxis\u001b[49m\u001b[38;5;241;43m=\u001b[39;49m\u001b[43maxis\u001b[49m\u001b[43m,\u001b[49m\u001b[43m \u001b[49m\u001b[43mskipna\u001b[49m\u001b[38;5;241;43m=\u001b[39;49m\u001b[43mskipna\u001b[49m\u001b[43m,\u001b[49m\u001b[43m \u001b[49m\u001b[43mmask\u001b[49m\u001b[38;5;241;43m=\u001b[39;49m\u001b[43mmask\u001b[49m\u001b[43m,\u001b[49m\u001b[43m \u001b[49m\u001b[38;5;241;43m*\u001b[39;49m\u001b[38;5;241;43m*\u001b[39;49m\u001b[43mkwargs\u001b[49m\u001b[43m)\u001b[49m\n\u001b[0;32m    406\u001b[0m \u001b[38;5;28;01mif\u001b[39;00m datetimelike:\n\u001b[0;32m    407\u001b[0m     result \u001b[38;5;241m=\u001b[39m _wrap_results(result, orig_values\u001b[38;5;241m.\u001b[39mdtype, fill_value\u001b[38;5;241m=\u001b[39miNaT)\n",
            "File \u001b[1;32m~\\AppData\\Local\\Packages\\PythonSoftwareFoundation.Python.3.11_qbz5n2kfra8p0\\LocalCache\\local-packages\\Python311\\site-packages\\pandas\\core\\nanops.py:1098\u001b[0m, in \u001b[0;36m_nanminmax.<locals>.reduction\u001b[1;34m(values, axis, skipna, mask)\u001b[0m\n\u001b[0;32m   1093\u001b[0m     \u001b[38;5;28;01mreturn\u001b[39;00m _na_for_min_count(values, axis)\n\u001b[0;32m   1095\u001b[0m values, mask \u001b[38;5;241m=\u001b[39m _get_values(\n\u001b[0;32m   1096\u001b[0m     values, skipna, fill_value_typ\u001b[38;5;241m=\u001b[39mfill_value_typ, mask\u001b[38;5;241m=\u001b[39mmask\n\u001b[0;32m   1097\u001b[0m )\n\u001b[1;32m-> 1098\u001b[0m result \u001b[38;5;241m=\u001b[39m \u001b[38;5;28mgetattr\u001b[39m(values, meth)(axis)\n\u001b[0;32m   1099\u001b[0m result \u001b[38;5;241m=\u001b[39m _maybe_null_out(result, axis, mask, values\u001b[38;5;241m.\u001b[39mshape)\n\u001b[0;32m   1100\u001b[0m \u001b[38;5;28;01mreturn\u001b[39;00m result\n",
            "File \u001b[1;32m~\\AppData\\Local\\Packages\\PythonSoftwareFoundation.Python.3.11_qbz5n2kfra8p0\\LocalCache\\local-packages\\Python311\\site-packages\\numpy\\_core\\_methods.py:48\u001b[0m, in \u001b[0;36m_amin\u001b[1;34m(a, axis, out, keepdims, initial, where)\u001b[0m\n\u001b[0;32m     46\u001b[0m \u001b[38;5;28;01mdef\u001b[39;00m\u001b[38;5;250m \u001b[39m\u001b[38;5;21m_amin\u001b[39m(a, axis\u001b[38;5;241m=\u001b[39m\u001b[38;5;28;01mNone\u001b[39;00m, out\u001b[38;5;241m=\u001b[39m\u001b[38;5;28;01mNone\u001b[39;00m, keepdims\u001b[38;5;241m=\u001b[39m\u001b[38;5;28;01mFalse\u001b[39;00m,\n\u001b[0;32m     47\u001b[0m           initial\u001b[38;5;241m=\u001b[39m_NoValue, where\u001b[38;5;241m=\u001b[39m\u001b[38;5;28;01mTrue\u001b[39;00m):\n\u001b[1;32m---> 48\u001b[0m     \u001b[38;5;28;01mreturn\u001b[39;00m umr_minimum(a, axis, \u001b[38;5;28;01mNone\u001b[39;00m, out, keepdims, initial, where)\n",
            "\u001b[1;31mTypeError\u001b[0m: '<=' not supported between instances of 'int' and 'str'"
          ]
        },
        {
          "data": {
            "text/plain": [
              "<pandas.io.formats.style.Styler at 0x2097d7b7b50>"
            ]
          },
          "execution_count": 175,
          "metadata": {},
          "output_type": "execute_result"
        }
      ],
      "source": [
        "# 173. DataFrame.style.highlight_min\n",
        "df.style.highlight_min(axis=1)"
      ]
    },
    {
      "cell_type": "code",
      "execution_count": 176,
      "metadata": {},
      "outputs": [
        {
          "name": "stdout",
          "output_type": "stream",
          "text": [
            "   id info.name  info.age\n",
            "0   1     Alice        30\n",
            "1   2       Bob        25\n"
          ]
        }
      ],
      "source": [
        "# 174. pd.json_normalize\n",
        "data_json = [\n",
        "  {\"id\":1, \"info\":{\"name\":\"Alice\",\"age\":30}},\n",
        "  {\"id\":2, \"info\":{\"name\":\"Bob\",\"age\":25}}\n",
        "]\n",
        "df_json = pd.json_normalize(data_json, max_level=1)\n",
        "print(df_json)"
      ]
    },
    {
      "cell_type": "code",
      "execution_count": 177,
      "metadata": {},
      "outputs": [
        {
          "name": "stdout",
          "output_type": "stream",
          "text": [
            "A    Sparse[int64, 0]\n",
            "B    Sparse[int64, 0]\n",
            "dtype: object \n",
            "    A  B\n",
            "0  0  0\n",
            "1  0  1\n",
            "2  1  0\n"
          ]
        }
      ],
      "source": [
        "# 175. DataFrame.sparse (示例)\n",
        "df_sparse = pd.DataFrame({'A':[0,0,1],'B':[0,1,0]}).astype(pd.SparseDtype(\"int\", fill_value=0))\n",
        "print(df_sparse.dtypes, '\\n', df_sparse)"
      ]
    },
    {
      "cell_type": "code",
      "execution_count": 178,
      "metadata": {},
      "outputs": [
        {
          "data": {
            "text/html": [
              "<style type=\"text/css\">\n",
              "</style>\n",
              "<table id=\"T_1215d\">\n",
              "  <caption>My DataFrame</caption>\n",
              "  <thead>\n",
              "    <tr>\n",
              "      <th class=\"blank level0\" >&nbsp;</th>\n",
              "      <th id=\"T_1215d_level0_col0\" class=\"col_heading level0 col0\" >A</th>\n",
              "      <th id=\"T_1215d_level0_col1\" class=\"col_heading level0 col1\" >B</th>\n",
              "      <th id=\"T_1215d_level0_col2\" class=\"col_heading level0 col2\" >C</th>\n",
              "      <th id=\"T_1215d_level0_col3\" class=\"col_heading level0 col3\" >D</th>\n",
              "      <th id=\"T_1215d_level0_col4\" class=\"col_heading level0 col4\" >A_mean</th>\n",
              "    </tr>\n",
              "  </thead>\n",
              "  <tbody>\n",
              "    <tr>\n",
              "      <th id=\"T_1215d_level0_row0\" class=\"row_heading level0 row0\" >0</th>\n",
              "      <td id=\"T_1215d_row0_col0\" class=\"data row0 col0\" >1</td>\n",
              "      <td id=\"T_1215d_row0_col1\" class=\"data row0 col1\" >4</td>\n",
              "      <td id=\"T_1215d_row0_col2\" class=\"data row0 col2\" >x</td>\n",
              "      <td id=\"T_1215d_row0_col3\" class=\"data row0 col3\" >2021-01-01 00:00:00</td>\n",
              "      <td id=\"T_1215d_row0_col4\" class=\"data row0 col4\" >1.500000</td>\n",
              "    </tr>\n",
              "    <tr>\n",
              "      <th id=\"T_1215d_level0_row1\" class=\"row_heading level0 row1\" >1</th>\n",
              "      <td id=\"T_1215d_row1_col0\" class=\"data row1 col0\" >2</td>\n",
              "      <td id=\"T_1215d_row1_col1\" class=\"data row1 col1\" >5</td>\n",
              "      <td id=\"T_1215d_row1_col2\" class=\"data row1 col2\" >x</td>\n",
              "      <td id=\"T_1215d_row1_col3\" class=\"data row1 col3\" >2021-01-02 00:00:00</td>\n",
              "      <td id=\"T_1215d_row1_col4\" class=\"data row1 col4\" >1.500000</td>\n",
              "    </tr>\n",
              "    <tr>\n",
              "      <th id=\"T_1215d_level0_row2\" class=\"row_heading level0 row2\" >2</th>\n",
              "      <td id=\"T_1215d_row2_col0\" class=\"data row2 col0\" >3</td>\n",
              "      <td id=\"T_1215d_row2_col1\" class=\"data row2 col1\" >6</td>\n",
              "      <td id=\"T_1215d_row2_col2\" class=\"data row2 col2\" >y</td>\n",
              "      <td id=\"T_1215d_row2_col3\" class=\"data row2 col3\" >2021-01-03 00:00:00</td>\n",
              "      <td id=\"T_1215d_row2_col4\" class=\"data row2 col4\" >3.500000</td>\n",
              "    </tr>\n",
              "    <tr>\n",
              "      <th id=\"T_1215d_level0_row3\" class=\"row_heading level0 row3\" >3</th>\n",
              "      <td id=\"T_1215d_row3_col0\" class=\"data row3 col0\" >4</td>\n",
              "      <td id=\"T_1215d_row3_col1\" class=\"data row3 col1\" >7</td>\n",
              "      <td id=\"T_1215d_row3_col2\" class=\"data row3 col2\" >y</td>\n",
              "      <td id=\"T_1215d_row3_col3\" class=\"data row3 col3\" >2021-01-04 00:00:00</td>\n",
              "      <td id=\"T_1215d_row3_col4\" class=\"data row3 col4\" >3.500000</td>\n",
              "    </tr>\n",
              "    <tr>\n",
              "      <th id=\"T_1215d_level0_row4\" class=\"row_heading level0 row4\" >4</th>\n",
              "      <td id=\"T_1215d_row4_col0\" class=\"data row4 col0\" >5</td>\n",
              "      <td id=\"T_1215d_row4_col1\" class=\"data row4 col1\" >8</td>\n",
              "      <td id=\"T_1215d_row4_col2\" class=\"data row4 col2\" >z</td>\n",
              "      <td id=\"T_1215d_row4_col3\" class=\"data row4 col3\" >2021-01-05 00:00:00</td>\n",
              "      <td id=\"T_1215d_row4_col4\" class=\"data row4 col4\" >5.000000</td>\n",
              "    </tr>\n",
              "  </tbody>\n",
              "</table>\n"
            ],
            "text/plain": [
              "<pandas.io.formats.style.Styler at 0x2098283a290>"
            ]
          },
          "execution_count": 178,
          "metadata": {},
          "output_type": "execute_result"
        }
      ],
      "source": [
        "# 176. DataFrame.style.set_caption\n",
        "df.style.set_caption(\"My DataFrame\")"
      ]
    },
    {
      "cell_type": "code",
      "execution_count": 179,
      "metadata": {},
      "outputs": [
        {
          "data": {
            "text/html": [
              "<style type=\"text/css\">\n",
              "</style>\n",
              "<table id=\"T_17893\">\n",
              "  <thead>\n",
              "    <tr>\n",
              "      <th id=\"T_17893_level0_col0\" class=\"col_heading level0 col0\" >A</th>\n",
              "      <th id=\"T_17893_level0_col1\" class=\"col_heading level0 col1\" >B</th>\n",
              "      <th id=\"T_17893_level0_col2\" class=\"col_heading level0 col2\" >C</th>\n",
              "      <th id=\"T_17893_level0_col3\" class=\"col_heading level0 col3\" >D</th>\n",
              "      <th id=\"T_17893_level0_col4\" class=\"col_heading level0 col4\" >A_mean</th>\n",
              "    </tr>\n",
              "  </thead>\n",
              "  <tbody>\n",
              "    <tr>\n",
              "      <td id=\"T_17893_row0_col0\" class=\"data row0 col0\" >1</td>\n",
              "      <td id=\"T_17893_row0_col1\" class=\"data row0 col1\" >4</td>\n",
              "      <td id=\"T_17893_row0_col2\" class=\"data row0 col2\" >x</td>\n",
              "      <td id=\"T_17893_row0_col3\" class=\"data row0 col3\" >2021-01-01 00:00:00</td>\n",
              "      <td id=\"T_17893_row0_col4\" class=\"data row0 col4\" >1.500000</td>\n",
              "    </tr>\n",
              "    <tr>\n",
              "      <td id=\"T_17893_row1_col0\" class=\"data row1 col0\" >2</td>\n",
              "      <td id=\"T_17893_row1_col1\" class=\"data row1 col1\" >5</td>\n",
              "      <td id=\"T_17893_row1_col2\" class=\"data row1 col2\" >x</td>\n",
              "      <td id=\"T_17893_row1_col3\" class=\"data row1 col3\" >2021-01-02 00:00:00</td>\n",
              "      <td id=\"T_17893_row1_col4\" class=\"data row1 col4\" >1.500000</td>\n",
              "    </tr>\n",
              "    <tr>\n",
              "      <td id=\"T_17893_row2_col0\" class=\"data row2 col0\" >3</td>\n",
              "      <td id=\"T_17893_row2_col1\" class=\"data row2 col1\" >6</td>\n",
              "      <td id=\"T_17893_row2_col2\" class=\"data row2 col2\" >y</td>\n",
              "      <td id=\"T_17893_row2_col3\" class=\"data row2 col3\" >2021-01-03 00:00:00</td>\n",
              "      <td id=\"T_17893_row2_col4\" class=\"data row2 col4\" >3.500000</td>\n",
              "    </tr>\n",
              "    <tr>\n",
              "      <td id=\"T_17893_row3_col0\" class=\"data row3 col0\" >4</td>\n",
              "      <td id=\"T_17893_row3_col1\" class=\"data row3 col1\" >7</td>\n",
              "      <td id=\"T_17893_row3_col2\" class=\"data row3 col2\" >y</td>\n",
              "      <td id=\"T_17893_row3_col3\" class=\"data row3 col3\" >2021-01-04 00:00:00</td>\n",
              "      <td id=\"T_17893_row3_col4\" class=\"data row3 col4\" >3.500000</td>\n",
              "    </tr>\n",
              "    <tr>\n",
              "      <td id=\"T_17893_row4_col0\" class=\"data row4 col0\" >5</td>\n",
              "      <td id=\"T_17893_row4_col1\" class=\"data row4 col1\" >8</td>\n",
              "      <td id=\"T_17893_row4_col2\" class=\"data row4 col2\" >z</td>\n",
              "      <td id=\"T_17893_row4_col3\" class=\"data row4 col3\" >2021-01-05 00:00:00</td>\n",
              "      <td id=\"T_17893_row4_col4\" class=\"data row4 col4\" >5.000000</td>\n",
              "    </tr>\n",
              "  </tbody>\n",
              "</table>\n"
            ],
            "text/plain": [
              "<pandas.io.formats.style.Styler at 0x2098268aa50>"
            ]
          },
          "execution_count": 179,
          "metadata": {},
          "output_type": "execute_result"
        }
      ],
      "source": [
        "# 177. DataFrame.style.hide\n",
        "df.style.hide(axis='index')"
      ]
    },
    {
      "cell_type": "code",
      "execution_count": 180,
      "metadata": {},
      "outputs": [
        {
          "data": {
            "text/html": [
              "<style type=\"text/css\">\n",
              "#T_fdc61_row0_col0, #T_fdc61_row0_col1, #T_fdc61_row0_col4, #T_fdc61_row1_col4 {\n",
              "  background-color: #ffffcc;\n",
              "  color: #000000;\n",
              "}\n",
              "#T_fdc61_row1_col0, #T_fdc61_row1_col1 {\n",
              "  background-color: #fed976;\n",
              "  color: #000000;\n",
              "}\n",
              "#T_fdc61_row2_col0, #T_fdc61_row2_col1 {\n",
              "  background-color: #fd8c3c;\n",
              "  color: #f1f1f1;\n",
              "}\n",
              "#T_fdc61_row2_col4, #T_fdc61_row3_col4 {\n",
              "  background-color: #fc6832;\n",
              "  color: #f1f1f1;\n",
              "}\n",
              "#T_fdc61_row3_col0, #T_fdc61_row3_col1 {\n",
              "  background-color: #e2191c;\n",
              "  color: #f1f1f1;\n",
              "}\n",
              "#T_fdc61_row4_col0, #T_fdc61_row4_col1, #T_fdc61_row4_col4 {\n",
              "  background-color: #800026;\n",
              "  color: #f1f1f1;\n",
              "}\n",
              "</style>\n",
              "<table id=\"T_fdc61\">\n",
              "  <thead>\n",
              "    <tr>\n",
              "      <th class=\"blank level0\" >&nbsp;</th>\n",
              "      <th id=\"T_fdc61_level0_col0\" class=\"col_heading level0 col0\" >A</th>\n",
              "      <th id=\"T_fdc61_level0_col1\" class=\"col_heading level0 col1\" >B</th>\n",
              "      <th id=\"T_fdc61_level0_col2\" class=\"col_heading level0 col2\" >C</th>\n",
              "      <th id=\"T_fdc61_level0_col3\" class=\"col_heading level0 col3\" >D</th>\n",
              "      <th id=\"T_fdc61_level0_col4\" class=\"col_heading level0 col4\" >A_mean</th>\n",
              "    </tr>\n",
              "  </thead>\n",
              "  <tbody>\n",
              "    <tr>\n",
              "      <th id=\"T_fdc61_level0_row0\" class=\"row_heading level0 row0\" >0</th>\n",
              "      <td id=\"T_fdc61_row0_col0\" class=\"data row0 col0\" >1</td>\n",
              "      <td id=\"T_fdc61_row0_col1\" class=\"data row0 col1\" >4</td>\n",
              "      <td id=\"T_fdc61_row0_col2\" class=\"data row0 col2\" >x</td>\n",
              "      <td id=\"T_fdc61_row0_col3\" class=\"data row0 col3\" >2021-01-01 00:00:00</td>\n",
              "      <td id=\"T_fdc61_row0_col4\" class=\"data row0 col4\" >1.500000</td>\n",
              "    </tr>\n",
              "    <tr>\n",
              "      <th id=\"T_fdc61_level0_row1\" class=\"row_heading level0 row1\" >1</th>\n",
              "      <td id=\"T_fdc61_row1_col0\" class=\"data row1 col0\" >2</td>\n",
              "      <td id=\"T_fdc61_row1_col1\" class=\"data row1 col1\" >5</td>\n",
              "      <td id=\"T_fdc61_row1_col2\" class=\"data row1 col2\" >x</td>\n",
              "      <td id=\"T_fdc61_row1_col3\" class=\"data row1 col3\" >2021-01-02 00:00:00</td>\n",
              "      <td id=\"T_fdc61_row1_col4\" class=\"data row1 col4\" >1.500000</td>\n",
              "    </tr>\n",
              "    <tr>\n",
              "      <th id=\"T_fdc61_level0_row2\" class=\"row_heading level0 row2\" >2</th>\n",
              "      <td id=\"T_fdc61_row2_col0\" class=\"data row2 col0\" >3</td>\n",
              "      <td id=\"T_fdc61_row2_col1\" class=\"data row2 col1\" >6</td>\n",
              "      <td id=\"T_fdc61_row2_col2\" class=\"data row2 col2\" >y</td>\n",
              "      <td id=\"T_fdc61_row2_col3\" class=\"data row2 col3\" >2021-01-03 00:00:00</td>\n",
              "      <td id=\"T_fdc61_row2_col4\" class=\"data row2 col4\" >3.500000</td>\n",
              "    </tr>\n",
              "    <tr>\n",
              "      <th id=\"T_fdc61_level0_row3\" class=\"row_heading level0 row3\" >3</th>\n",
              "      <td id=\"T_fdc61_row3_col0\" class=\"data row3 col0\" >4</td>\n",
              "      <td id=\"T_fdc61_row3_col1\" class=\"data row3 col1\" >7</td>\n",
              "      <td id=\"T_fdc61_row3_col2\" class=\"data row3 col2\" >y</td>\n",
              "      <td id=\"T_fdc61_row3_col3\" class=\"data row3 col3\" >2021-01-04 00:00:00</td>\n",
              "      <td id=\"T_fdc61_row3_col4\" class=\"data row3 col4\" >3.500000</td>\n",
              "    </tr>\n",
              "    <tr>\n",
              "      <th id=\"T_fdc61_level0_row4\" class=\"row_heading level0 row4\" >4</th>\n",
              "      <td id=\"T_fdc61_row4_col0\" class=\"data row4 col0\" >5</td>\n",
              "      <td id=\"T_fdc61_row4_col1\" class=\"data row4 col1\" >8</td>\n",
              "      <td id=\"T_fdc61_row4_col2\" class=\"data row4 col2\" >z</td>\n",
              "      <td id=\"T_fdc61_row4_col3\" class=\"data row4 col3\" >2021-01-05 00:00:00</td>\n",
              "      <td id=\"T_fdc61_row4_col4\" class=\"data row4 col4\" >5.000000</td>\n",
              "    </tr>\n",
              "  </tbody>\n",
              "</table>\n"
            ],
            "text/plain": [
              "<pandas.io.formats.style.Styler at 0x2097d9b2090>"
            ]
          },
          "execution_count": 180,
          "metadata": {},
          "output_type": "execute_result"
        }
      ],
      "source": [
        "# 178. DataFrame.style.background_gradient\n",
        "df.style.background_gradient(cmap='YlOrRd')"
      ]
    },
    {
      "cell_type": "markdown",
      "metadata": {},
      "source": [
        "## 16. 分类数据 (Series.cat)"
      ]
    },
    {
      "cell_type": "code",
      "execution_count": 181,
      "metadata": {},
      "outputs": [
        {
          "name": "stdout",
          "output_type": "stream",
          "text": [
            "0    a\n",
            "1    b\n",
            "2    a\n",
            "3    c\n",
            "dtype: category\n",
            "Categories (3, object): ['a', 'b', 'c']\n"
          ]
        }
      ],
      "source": [
        "# 179. Series.cat\n",
        "s_cat = pd.Series(['a','b','a','c'], dtype='category')\n",
        "print(s_cat)"
      ]
    },
    {
      "cell_type": "code",
      "execution_count": 182,
      "metadata": {},
      "outputs": [
        {
          "name": "stdout",
          "output_type": "stream",
          "text": [
            "Index(['a', 'b', 'c'], dtype='object')\n"
          ]
        }
      ],
      "source": [
        "# 180. Series.cat.categories\n",
        "print(s_cat.cat.categories)"
      ]
    },
    {
      "cell_type": "code",
      "execution_count": 183,
      "metadata": {},
      "outputs": [
        {
          "name": "stdout",
          "output_type": "stream",
          "text": [
            "0    a\n",
            "1    b\n",
            "2    a\n",
            "dtype: category\n",
            "Categories (2, object): ['a', 'b']\n"
          ]
        }
      ],
      "source": [
        "# 181. Series.cat.remove_unused_categories\n",
        "s_cat2 = s_cat[s_cat!='c']\n",
        "print(s_cat2.cat.remove_unused_categories())"
      ]
    },
    {
      "cell_type": "code",
      "execution_count": 184,
      "metadata": {},
      "outputs": [
        {
          "name": "stdout",
          "output_type": "stream",
          "text": [
            "0    a\n",
            "1    b\n",
            "2    a\n",
            "3    c\n",
            "dtype: category\n",
            "Categories (3, object): ['c', 'a', 'b']\n"
          ]
        }
      ],
      "source": [
        "# 182. Series.cat.reorder_categories\n",
        "print(s_cat.cat.reorder_categories(['c','a','b']))"
      ]
    },
    {
      "cell_type": "code",
      "execution_count": 185,
      "metadata": {},
      "outputs": [
        {
          "name": "stdout",
          "output_type": "stream",
          "text": [
            "0    a\n",
            "1    b\n",
            "2    a\n",
            "3    c\n",
            "dtype: category\n",
            "Categories (4, object): ['a', 'b', 'c', 'd']\n"
          ]
        }
      ],
      "source": [
        "# 183. Series.cat.add_categories\n",
        "print(s_cat.cat.add_categories(['d']))"
      ]
    },
    {
      "cell_type": "code",
      "execution_count": 186,
      "metadata": {},
      "outputs": [
        {
          "name": "stdout",
          "output_type": "stream",
          "text": [
            "0    A\n",
            "1    B\n",
            "2    A\n",
            "3    C\n",
            "dtype: category\n",
            "Categories (3, object): ['A', 'B', 'C']\n"
          ]
        }
      ],
      "source": [
        "# 184. Series.cat.rename_categories\n",
        "print(s_cat.cat.rename_categories({'a':'A','b':'B','c':'C'}))"
      ]
    },
    {
      "cell_type": "markdown",
      "metadata": {},
      "source": [
        "## 17. 其它常见方法"
      ]
    },
    {
      "cell_type": "code",
      "execution_count": 187,
      "metadata": {},
      "outputs": [
        {
          "name": "stdout",
          "output_type": "stream",
          "text": [
            "[False  True False]\n"
          ]
        }
      ],
      "source": [
        "# 185. DataFrame.index.duplicated\n",
        "df_idx_dup = pd.DataFrame({'col':[1,2,3]}, index=[0,0,1])\n",
        "print(df_idx_dup.index.duplicated())"
      ]
    },
    {
      "cell_type": "code",
      "execution_count": 188,
      "metadata": {},
      "outputs": [
        {
          "name": "stdout",
          "output_type": "stream",
          "text": [
            "False\n"
          ]
        }
      ],
      "source": [
        "# 186. DataFrame.index.is_unique\n",
        "print(df_idx_dup.index.is_unique)"
      ]
    },
    {
      "cell_type": "code",
      "execution_count": 189,
      "metadata": {},
      "outputs": [
        {
          "name": "stdout",
          "output_type": "stream",
          "text": [
            "2D\n"
          ]
        }
      ],
      "source": [
        "# 187. pd.infer_freq\n",
        "ts_infer = pd.date_range('2021-01-01', periods=4, freq='2D')\n",
        "print(pd.infer_freq(ts_infer))"
      ]
    },
    {
      "cell_type": "code",
      "execution_count": 190,
      "metadata": {},
      "outputs": [
        {
          "name": "stdout",
          "output_type": "stream",
          "text": [
            "D\n",
            "2021-01-01    3\n",
            "2021-01-03    7\n",
            "2021-01-05    5\n",
            "Freq: 2D, Name: A, dtype: int64\n"
          ]
        }
      ],
      "source": [
        "# 188. pd.Grouper (groupby 的高级用法)\n",
        "df_date = df.copy()\n",
        "df_date['D'] = pd.date_range('2021-01-01', periods=len(df_date))\n",
        "grouped_grouper = df_date.groupby(pd.Grouper(key='D', freq='2D'))['A'].sum()\n",
        "print(grouped_grouper)"
      ]
    },
    {
      "cell_type": "code",
      "execution_count": 191,
      "metadata": {},
      "outputs": [
        {
          "name": "stdout",
          "output_type": "stream",
          "text": [
            "   A  B  C          D  A_mean\n",
            "1  2  5  x 2021-01-02     1.5\n",
            "2  3  6  y 2021-01-03     3.5\n"
          ]
        }
      ],
      "source": [
        "# 189. DataFrame.query (再再示例)\n",
        "print(df.query('A in [2,3]'))"
      ]
    },
    {
      "cell_type": "code",
      "execution_count": 192,
      "metadata": {},
      "outputs": [
        {
          "name": "stdout",
          "output_type": "stream",
          "text": [
            "   A  B  C          D  A_mean   G\n",
            "0  1  4  x 2021-01-01     1.5   4\n",
            "1  2  5  x 2021-01-02     1.5  10\n",
            "2  3  6  y 2021-01-03     3.5  18\n",
            "3  4  7  y 2021-01-04     3.5  28\n",
            "4  5  8  z 2021-01-05     5.0  40\n"
          ]
        }
      ],
      "source": [
        "# 190. DataFrame.eval (又一次示例)\n",
        "df_eval3 = df.eval(\"G = A * B\")\n",
        "print(df_eval3)"
      ]
    },
    {
      "cell_type": "code",
      "execution_count": 193,
      "metadata": {},
      "outputs": [
        {
          "name": "stdout",
          "output_type": "stream",
          "text": [
            "    A\n",
            "0   6\n",
            "1   7\n",
            "2   8\n",
            "3   9\n",
            "4  10\n"
          ]
        }
      ],
      "source": [
        "# 191. DataFrame.pipe (重复示例)\n",
        "def add_5(x):\n",
        "    return x+5\n",
        "\n",
        "res_pipe2 = df[['A']].pipe(add_5)\n",
        "print(res_pipe2)"
      ]
    },
    {
      "cell_type": "code",
      "execution_count": 194,
      "metadata": {},
      "outputs": [
        {
          "data": {
            "text/html": [
              "<style type=\"text/css\">\n",
              "#T_da158_row0_col0, #T_da158_row0_col1, #T_da158_row0_col4, #T_da158_row1_col4 {\n",
              "  background-color: #f7fcf5;\n",
              "  color: #000000;\n",
              "}\n",
              "#T_da158_row1_col0, #T_da158_row1_col1 {\n",
              "  background-color: #c7e9c0;\n",
              "  color: #000000;\n",
              "}\n",
              "#T_da158_row2_col0, #T_da158_row2_col1 {\n",
              "  background-color: #73c476;\n",
              "  color: #000000;\n",
              "}\n",
              "#T_da158_row2_col4, #T_da158_row3_col4 {\n",
              "  background-color: #56b567;\n",
              "  color: #f1f1f1;\n",
              "}\n",
              "#T_da158_row3_col0, #T_da158_row3_col1 {\n",
              "  background-color: #228a44;\n",
              "  color: #f1f1f1;\n",
              "}\n",
              "#T_da158_row4_col0, #T_da158_row4_col1, #T_da158_row4_col4 {\n",
              "  background-color: #00441b;\n",
              "  color: #f1f1f1;\n",
              "}\n",
              "</style>\n",
              "<table id=\"T_da158\">\n",
              "  <thead>\n",
              "    <tr>\n",
              "      <th class=\"blank level0\" >&nbsp;</th>\n",
              "      <th id=\"T_da158_level0_col0\" class=\"col_heading level0 col0\" >A</th>\n",
              "      <th id=\"T_da158_level0_col1\" class=\"col_heading level0 col1\" >B</th>\n",
              "      <th id=\"T_da158_level0_col2\" class=\"col_heading level0 col2\" >C</th>\n",
              "      <th id=\"T_da158_level0_col3\" class=\"col_heading level0 col3\" >D</th>\n",
              "      <th id=\"T_da158_level0_col4\" class=\"col_heading level0 col4\" >A_mean</th>\n",
              "    </tr>\n",
              "  </thead>\n",
              "  <tbody>\n",
              "    <tr>\n",
              "      <th id=\"T_da158_level0_row0\" class=\"row_heading level0 row0\" >0</th>\n",
              "      <td id=\"T_da158_row0_col0\" class=\"data row0 col0\" >1</td>\n",
              "      <td id=\"T_da158_row0_col1\" class=\"data row0 col1\" >4</td>\n",
              "      <td id=\"T_da158_row0_col2\" class=\"data row0 col2\" >x</td>\n",
              "      <td id=\"T_da158_row0_col3\" class=\"data row0 col3\" >2021-01-01 00:00:00</td>\n",
              "      <td id=\"T_da158_row0_col4\" class=\"data row0 col4\" >1.500000</td>\n",
              "    </tr>\n",
              "    <tr>\n",
              "      <th id=\"T_da158_level0_row1\" class=\"row_heading level0 row1\" >1</th>\n",
              "      <td id=\"T_da158_row1_col0\" class=\"data row1 col0\" >2</td>\n",
              "      <td id=\"T_da158_row1_col1\" class=\"data row1 col1\" >5</td>\n",
              "      <td id=\"T_da158_row1_col2\" class=\"data row1 col2\" >x</td>\n",
              "      <td id=\"T_da158_row1_col3\" class=\"data row1 col3\" >2021-01-02 00:00:00</td>\n",
              "      <td id=\"T_da158_row1_col4\" class=\"data row1 col4\" >1.500000</td>\n",
              "    </tr>\n",
              "    <tr>\n",
              "      <th id=\"T_da158_level0_row2\" class=\"row_heading level0 row2\" >2</th>\n",
              "      <td id=\"T_da158_row2_col0\" class=\"data row2 col0\" >3</td>\n",
              "      <td id=\"T_da158_row2_col1\" class=\"data row2 col1\" >6</td>\n",
              "      <td id=\"T_da158_row2_col2\" class=\"data row2 col2\" >y</td>\n",
              "      <td id=\"T_da158_row2_col3\" class=\"data row2 col3\" >2021-01-03 00:00:00</td>\n",
              "      <td id=\"T_da158_row2_col4\" class=\"data row2 col4\" >3.500000</td>\n",
              "    </tr>\n",
              "    <tr>\n",
              "      <th id=\"T_da158_level0_row3\" class=\"row_heading level0 row3\" >3</th>\n",
              "      <td id=\"T_da158_row3_col0\" class=\"data row3 col0\" >4</td>\n",
              "      <td id=\"T_da158_row3_col1\" class=\"data row3 col1\" >7</td>\n",
              "      <td id=\"T_da158_row3_col2\" class=\"data row3 col2\" >y</td>\n",
              "      <td id=\"T_da158_row3_col3\" class=\"data row3 col3\" >2021-01-04 00:00:00</td>\n",
              "      <td id=\"T_da158_row3_col4\" class=\"data row3 col4\" >3.500000</td>\n",
              "    </tr>\n",
              "    <tr>\n",
              "      <th id=\"T_da158_level0_row4\" class=\"row_heading level0 row4\" >4</th>\n",
              "      <td id=\"T_da158_row4_col0\" class=\"data row4 col0\" >5</td>\n",
              "      <td id=\"T_da158_row4_col1\" class=\"data row4 col1\" >8</td>\n",
              "      <td id=\"T_da158_row4_col2\" class=\"data row4 col2\" >z</td>\n",
              "      <td id=\"T_da158_row4_col3\" class=\"data row4 col3\" >2021-01-05 00:00:00</td>\n",
              "      <td id=\"T_da158_row4_col4\" class=\"data row4 col4\" >5.000000</td>\n",
              "    </tr>\n",
              "  </tbody>\n",
              "</table>\n"
            ],
            "text/plain": [
              "<pandas.io.formats.style.Styler at 0x209829fc5d0>"
            ]
          },
          "execution_count": 194,
          "metadata": {},
          "output_type": "execute_result"
        }
      ],
      "source": [
        "# 192. DataFrame.style.background_gradient (再示例)\n",
        "df.style.background_gradient(cmap='Greens')"
      ]
    },
    {
      "cell_type": "markdown",
      "metadata": {},
      "source": [
        "## 18. 进一步分类操作"
      ]
    },
    {
      "cell_type": "code",
      "execution_count": 195,
      "metadata": {},
      "outputs": [
        {
          "name": "stdout",
          "output_type": "stream",
          "text": [
            "0    0\n",
            "1    1\n",
            "2    0\n",
            "3    2\n",
            "dtype: int8\n"
          ]
        }
      ],
      "source": [
        "# 193. Series.cat (已示例, 此处再示例)\n",
        "sc = pd.Series(['x','y','x','z'], dtype='category')\n",
        "print(sc.cat.codes)"
      ]
    },
    {
      "cell_type": "code",
      "execution_count": 196,
      "metadata": {},
      "outputs": [
        {
          "name": "stdout",
          "output_type": "stream",
          "text": [
            "0    x\n",
            "1    y\n",
            "2    x\n",
            "dtype: category\n",
            "Categories (2, object): ['x', 'y']\n"
          ]
        }
      ],
      "source": [
        "# 194. Series.cat.remove_unused_categories (再示例)\n",
        "sc2 = sc[sc != 'z']\n",
        "print(sc2.cat.remove_unused_categories())"
      ]
    },
    {
      "cell_type": "markdown",
      "metadata": {},
      "source": [
        "## 19. 其他"
      ]
    },
    {
      "cell_type": "code",
      "execution_count": 197,
      "metadata": {},
      "outputs": [
        {
          "name": "stdout",
          "output_type": "stream",
          "text": [
            "   A  B  C          D  A_mean\n",
            "2  3  6  y 2021-01-03     3.5\n",
            "3  4  7  y 2021-01-04     3.5\n",
            "4  5  8  z 2021-01-05     5.0\n"
          ]
        }
      ],
      "source": [
        "# 195. DataFrame.drop_labels (别名, 实际多用 drop)\n",
        "df_drop2 = df.drop(labels=[0,1])\n",
        "print(df_drop2)"
      ]
    },
    {
      "cell_type": "code",
      "execution_count": 198,
      "metadata": {},
      "outputs": [
        {
          "name": "stdout",
          "output_type": "stream",
          "text": [
            "True\n"
          ]
        }
      ],
      "source": [
        "# 196. DataFrame.equals (又示例)\n",
        "df_test_eq = df.copy()\n",
        "print(df_test_eq.equals(df))"
      ]
    },
    {
      "cell_type": "code",
      "execution_count": 199,
      "metadata": {},
      "outputs": [
        {
          "data": {
            "text/html": [
              "<style type=\"text/css\">\n",
              "#T_108a1_row0_col0, #T_108a1_row0_col1, #T_108a1_row0_col2, #T_108a1_row0_col3, #T_108a1_row0_col4, #T_108a1_row1_col0, #T_108a1_row1_col1, #T_108a1_row1_col2, #T_108a1_row1_col3, #T_108a1_row1_col4, #T_108a1_row2_col0, #T_108a1_row2_col1, #T_108a1_row2_col2, #T_108a1_row2_col3, #T_108a1_row2_col4, #T_108a1_row3_col0, #T_108a1_row3_col1, #T_108a1_row3_col2, #T_108a1_row3_col3, #T_108a1_row3_col4, #T_108a1_row4_col0, #T_108a1_row4_col1, #T_108a1_row4_col2, #T_108a1_row4_col3, #T_108a1_row4_col4 {\n",
              "  background-color: lightblue;\n",
              "}\n",
              "</style>\n",
              "<table id=\"T_108a1\">\n",
              "  <thead>\n",
              "    <tr>\n",
              "      <th class=\"blank level0\" >&nbsp;</th>\n",
              "      <th id=\"T_108a1_level0_col0\" class=\"col_heading level0 col0\" >A</th>\n",
              "      <th id=\"T_108a1_level0_col1\" class=\"col_heading level0 col1\" >B</th>\n",
              "      <th id=\"T_108a1_level0_col2\" class=\"col_heading level0 col2\" >C</th>\n",
              "      <th id=\"T_108a1_level0_col3\" class=\"col_heading level0 col3\" >D</th>\n",
              "      <th id=\"T_108a1_level0_col4\" class=\"col_heading level0 col4\" >A_mean</th>\n",
              "    </tr>\n",
              "  </thead>\n",
              "  <tbody>\n",
              "    <tr>\n",
              "      <th id=\"T_108a1_level0_row0\" class=\"row_heading level0 row0\" >0</th>\n",
              "      <td id=\"T_108a1_row0_col0\" class=\"data row0 col0\" >1</td>\n",
              "      <td id=\"T_108a1_row0_col1\" class=\"data row0 col1\" >4</td>\n",
              "      <td id=\"T_108a1_row0_col2\" class=\"data row0 col2\" >x</td>\n",
              "      <td id=\"T_108a1_row0_col3\" class=\"data row0 col3\" >2021-01-01 00:00:00</td>\n",
              "      <td id=\"T_108a1_row0_col4\" class=\"data row0 col4\" >1.500000</td>\n",
              "    </tr>\n",
              "    <tr>\n",
              "      <th id=\"T_108a1_level0_row1\" class=\"row_heading level0 row1\" >1</th>\n",
              "      <td id=\"T_108a1_row1_col0\" class=\"data row1 col0\" >2</td>\n",
              "      <td id=\"T_108a1_row1_col1\" class=\"data row1 col1\" >5</td>\n",
              "      <td id=\"T_108a1_row1_col2\" class=\"data row1 col2\" >x</td>\n",
              "      <td id=\"T_108a1_row1_col3\" class=\"data row1 col3\" >2021-01-02 00:00:00</td>\n",
              "      <td id=\"T_108a1_row1_col4\" class=\"data row1 col4\" >1.500000</td>\n",
              "    </tr>\n",
              "    <tr>\n",
              "      <th id=\"T_108a1_level0_row2\" class=\"row_heading level0 row2\" >2</th>\n",
              "      <td id=\"T_108a1_row2_col0\" class=\"data row2 col0\" >3</td>\n",
              "      <td id=\"T_108a1_row2_col1\" class=\"data row2 col1\" >6</td>\n",
              "      <td id=\"T_108a1_row2_col2\" class=\"data row2 col2\" >y</td>\n",
              "      <td id=\"T_108a1_row2_col3\" class=\"data row2 col3\" >2021-01-03 00:00:00</td>\n",
              "      <td id=\"T_108a1_row2_col4\" class=\"data row2 col4\" >3.500000</td>\n",
              "    </tr>\n",
              "    <tr>\n",
              "      <th id=\"T_108a1_level0_row3\" class=\"row_heading level0 row3\" >3</th>\n",
              "      <td id=\"T_108a1_row3_col0\" class=\"data row3 col0\" >4</td>\n",
              "      <td id=\"T_108a1_row3_col1\" class=\"data row3 col1\" >7</td>\n",
              "      <td id=\"T_108a1_row3_col2\" class=\"data row3 col2\" >y</td>\n",
              "      <td id=\"T_108a1_row3_col3\" class=\"data row3 col3\" >2021-01-04 00:00:00</td>\n",
              "      <td id=\"T_108a1_row3_col4\" class=\"data row3 col4\" >3.500000</td>\n",
              "    </tr>\n",
              "    <tr>\n",
              "      <th id=\"T_108a1_level0_row4\" class=\"row_heading level0 row4\" >4</th>\n",
              "      <td id=\"T_108a1_row4_col0\" class=\"data row4 col0\" >5</td>\n",
              "      <td id=\"T_108a1_row4_col1\" class=\"data row4 col1\" >8</td>\n",
              "      <td id=\"T_108a1_row4_col2\" class=\"data row4 col2\" >z</td>\n",
              "      <td id=\"T_108a1_row4_col3\" class=\"data row4 col3\" >2021-01-05 00:00:00</td>\n",
              "      <td id=\"T_108a1_row4_col4\" class=\"data row4 col4\" >5.000000</td>\n",
              "    </tr>\n",
              "  </tbody>\n",
              "</table>\n"
            ],
            "text/plain": [
              "<pandas.io.formats.style.Styler at 0x20981176bd0>"
            ]
          },
          "execution_count": 199,
          "metadata": {},
          "output_type": "execute_result"
        }
      ],
      "source": [
        "# 197. DataFrame.style (更多设置)\n",
        "df.style.set_properties(**{'background-color': 'lightblue'})"
      ]
    },
    {
      "cell_type": "code",
      "execution_count": 200,
      "metadata": {},
      "outputs": [
        {
          "name": "stdout",
          "output_type": "stream",
          "text": [
            "0    4\n",
            "1    5\n",
            "2    6\n",
            "3    0\n",
            "4    1\n",
            "dtype: int32 0     True\n",
            "1    False\n",
            "2    False\n",
            "3    False\n",
            "4    False\n",
            "dtype: bool\n"
          ]
        }
      ],
      "source": [
        "# 198. Series.dt (再示例)\n",
        "dts = pd.Series(pd.date_range('2021-01-01', periods=5, freq='D'))\n",
        "print(dts.dt.weekday, dts.dt.is_month_start)"
      ]
    },
    {
      "cell_type": "code",
      "execution_count": 201,
      "metadata": {},
      "outputs": [
        {
          "name": "stdout",
          "output_type": "stream",
          "text": [
            "Index(['p', 'q', 'r'], dtype='object')\n"
          ]
        }
      ],
      "source": [
        "# 199. Series.cat (再示例)\n",
        "cat_s = pd.Series(['p','q','p','r'], dtype='category')\n",
        "print(cat_s.cat.categories)"
      ]
    },
    {
      "cell_type": "code",
      "execution_count": 202,
      "metadata": {},
      "outputs": [
        {
          "name": "stdout",
          "output_type": "stream",
          "text": [
            "0    P\n",
            "1    Q\n",
            "2    P\n",
            "3    R\n",
            "dtype: category\n",
            "Categories (3, object): ['P', 'Q', 'R']\n"
          ]
        }
      ],
      "source": [
        "# 200. Series.cat.rename_categories (再示例)\n",
        "cat_s_ren = cat_s.cat.rename_categories({'p':'P','q':'Q','r':'R'})\n",
        "print(cat_s_ren)"
      ]
    },
    {
      "cell_type": "markdown",
      "metadata": {},
      "source": [
        "----\n",
        "**以上即约 200 个 Pandas 常用方法/函数示例**。\n",
        "\n",
        "- 某些函数有多次演示、或仅做用法展示；\n",
        "- 复杂场景请参考官方文档和更多实践案例。\n",
        "\n",
        "祝学习愉快！"
      ]
    }
  ],
  "metadata": {
    "kernelspec": {
      "display_name": "Python 3",
      "language": "python",
      "name": "python3"
    },
    "language_info": {
      "codemirror_mode": {
        "name": "ipython",
        "version": 3
      },
      "file_extension": ".py",
      "mimetype": "text/x-python",
      "name": "python",
      "nbconvert_exporter": "python",
      "pygments_lexer": "ipython3",
      "version": "3.11.9"
    }
  },
  "nbformat": 4,
  "nbformat_minor": 5
}
