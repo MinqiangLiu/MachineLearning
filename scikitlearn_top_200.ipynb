{
	"cells": [
		{
			"cell_type": "markdown",
			"metadata": {},
			"source": [
				"# Scikit-learn 常用方法示例（Top 200）\n",
				"本 Notebook 展示了约 200 个 Scikit-learn 常用方法或功能的简要示例。\n",
				"\n",
				"**说明：**\n",
				"- 每个示例位于独立代码单元格；\n",
				"- 多数示例只示范最简单调用方式，有些需要示例数据；\n",
				"- 执行前建议先：\n",
				"  ```python\n",
				"  import numpy as np\n",
				"  import pandas as pd\n",
				"  from sklearn import datasets\n",
				"  ```\n",
				"- 请根据实际需求或官方文档进行更深入的使用。\n",
				"\n",
				"执行顺序：\n",
				"1. 复制本 JSON 的 cells 至本地 `sklearn_top_200.ipynb`；\n",
				"2. 再复制第二部分 cells 接在后面；\n",
				"3. 在 Jupyter 中打开并运行即可。"
			]
		},
		{
			"cell_type": "code",
			"execution_count": 739,
			"id": "72072968",
			"metadata": {},
			"outputs": [
				{
					"name": "stdout",
					"output_type": "stream",
					"text": [
						"Scikit-learn environment ready!\n"
					]
				}
			],
			"source": [
				"# 1. 导入常见模块\n",
				"import numpy as np\n",
				"import pandas as pd\n",
				"from sklearn import datasets\n",
				"print(\"Scikit-learn environment ready!\")"
			]
		},
		{
			"cell_type": "markdown",
			"id": "89a17140",
			"metadata": {},
			"source": [
				"## A. 数据集（sklearn.datasets）"
			]
		},
		{
			"cell_type": "code",
			"execution_count": 740,
			"id": "e8fe6103",
			"metadata": {},
			"outputs": [
				{
					"name": "stdout",
					"output_type": "stream",
					"text": [
						"Iris data shape: (150, 4)\n"
					]
				}
			],
			"source": [
				"# 2. load_iris\n",
				"from sklearn.datasets import load_iris\n",
				"iris = load_iris()\n",
				"print(\"Iris data shape:\", iris.data.shape)"
			]
		},
		{
			"cell_type": "code",
			"execution_count": 741,
			"id": "4bacb97c",
			"metadata": {},
			"outputs": [
				{
					"name": "stdout",
					"output_type": "stream",
					"text": [
						"Wine feature names: ['alcohol', 'malic_acid', 'ash', 'alcalinity_of_ash', 'magnesium', 'total_phenols', 'flavanoids', 'nonflavanoid_phenols', 'proanthocyanins', 'color_intensity', 'hue', 'od280/od315_of_diluted_wines', 'proline']\n"
					]
				}
			],
			"source": [
				"# 3. load_wine\n",
				"from sklearn.datasets import load_wine\n",
				"wine = load_wine()\n",
				"print(\"Wine feature names:\", wine.feature_names)"
			]
		},
		{
			"cell_type": "code",
			"execution_count": 742,
			"id": "0a531763",
			"metadata": {},
			"outputs": [
				{
					"name": "stdout",
					"output_type": "stream",
					"text": [
						"Cancer target: ['malignant' 'benign']\n"
					]
				}
			],
			"source": [
				"# 4. load_breast_cancer\n",
				"from sklearn.datasets import load_breast_cancer\n",
				"cancer = load_breast_cancer()\n",
				"print(\"Cancer target:\", cancer.target_names)"
			]
		},
		{
			"cell_type": "code",
			"execution_count": 743,
			"id": "26e65131",
			"metadata": {},
			"outputs": [
				{
					"name": "stdout",
					"output_type": "stream",
					"text": [
						"Digits images shape: (1797, 8, 8)\n"
					]
				}
			],
			"source": [
				"# 5. load_digits\n",
				"from sklearn.datasets import load_digits\n",
				"digits = load_digits()\n",
				"print(\"Digits images shape:\", digits.images.shape)"
			]
		},
		{
			"cell_type": "code",
			"execution_count": 744,
			"id": "24ac2e81",
			"metadata": {},
			"outputs": [
				{
					"name": "stdout",
					"output_type": "stream",
					"text": [
						"load_boston 已被废弃于新版本.\n"
					]
				}
			],
			"source": [
				"# 6. load_boston (旧版本需 sklearn<1.2, 已废弃)\n",
				"# from sklearn.datasets import load_boston\n",
				"# boston = load_boston()\n",
				"print(\"load_boston 已被废弃于新版本.\")"
			]
		},
		{
			"cell_type": "code",
			"execution_count": 745,
			"id": "b23b01dd",
			"metadata": {},
			"outputs": [
				{
					"name": "stdout",
					"output_type": "stream",
					"text": [
						"California housing data shape: (20640, 8)\n"
					]
				}
			],
			"source": [
				"# 7. fetch_california_housing\n",
				"from sklearn.datasets import fetch_california_housing\n",
				"cal_housing = fetch_california_housing()\n",
				"print(\"California housing data shape:\", cal_housing.data.shape)"
			]
		},
		{
			"cell_type": "code",
			"execution_count": 746,
			"id": "6736ae1a",
			"metadata": {},
			"outputs": [
				{
					"name": "stdout",
					"output_type": "stream",
					"text": [
						"Linnerud feature names: ['Chins', 'Situps', 'Jumps']\n"
					]
				}
			],
			"source": [
				"# 8. load_linnerud\n",
				"from sklearn.datasets import load_linnerud\n",
				"linnerud = load_linnerud()\n",
				"print(\"Linnerud feature names:\", linnerud.feature_names)"
			]
		},
		{
			"cell_type": "code",
			"execution_count": 747,
			"id": "ef0886ed",
			"metadata": {},
			"outputs": [
				{
					"name": "stdout",
					"output_type": "stream",
					"text": [
						"make_classification X shape: (100, 4)\n"
					]
				}
			],
			"source": [
				"# 9. make_classification - 合成分类数据\n",
				"from sklearn.datasets import make_classification\n",
				"X, y = make_classification(n_samples=100, n_features=4, n_informative=2)\n",
				"print(\"make_classification X shape:\", X.shape)"
			]
		},
		{
			"cell_type": "code",
			"execution_count": 748,
			"id": "76daafbf",
			"metadata": {},
			"outputs": [
				{
					"name": "stdout",
					"output_type": "stream",
					"text": [
						"make_regression Xr shape: (100, 3)\n"
					]
				}
			],
			"source": [
				"# 10. make_regression - 合成回归数据\n",
				"from sklearn.datasets import make_regression\n",
				"Xr, yr = make_regression(n_samples=100, n_features=3, noise=10)\n",
				"print(\"make_regression Xr shape:\", Xr.shape)"
			]
		},
		{
			"cell_type": "code",
			"execution_count": 749,
			"id": "0c5af4b6",
			"metadata": {},
			"outputs": [
				{
					"name": "stdout",
					"output_type": "stream",
					"text": [
						"make_blobs Xb shape: (100, 2)\n"
					]
				}
			],
			"source": [
				"# 11. make_blobs - 合成聚类数据\n",
				"from sklearn.datasets import make_blobs\n",
				"Xb, yb = make_blobs(n_samples=100, centers=3, n_features=2)\n",
				"print(\"make_blobs Xb shape:\", Xb.shape)"
			]
		},
		{
			"cell_type": "markdown",
			"id": "6116bbac",
			"metadata": {},
			"source": [
				"## B. 训练集拆分与验证（sklearn.model_selection）"
			]
		},
		{
			"cell_type": "code",
			"execution_count": 750,
			"id": "da71eb11",
			"metadata": {},
			"outputs": [
				{
					"name": "stdout",
					"output_type": "stream",
					"text": [
						"Train shape: (105, 4) Test shape: (45, 4)\n"
					]
				}
			],
			"source": [
				"# 12. train_test_split\n",
				"from sklearn.model_selection import train_test_split\n",
				"X_train, X_test, y_train, y_test = train_test_split(iris.data, iris.target,\n",
				"                                                    test_size=0.3, random_state=42)\n",
				"print(\"Train shape:\", X_train.shape, \"Test shape:\", X_test.shape)"
			]
		},
		{
			"cell_type": "code",
			"execution_count": 751,
			"id": "e96415b5",
			"metadata": {},
			"outputs": [
				{
					"name": "stdout",
					"output_type": "stream",
					"text": [
						"CV scores: [0.96666667 0.96666667 0.9        0.93333333 1.        ]\n"
					]
				}
			],
			"source": [
				"# 13. cross_val_score\n",
				"from sklearn.model_selection import cross_val_score\n",
				"from sklearn.tree import DecisionTreeClassifier\n",
				"clf = DecisionTreeClassifier()\n",
				"scores = cross_val_score(clf, iris.data, iris.target, cv=5)\n",
				"print(\"CV scores:\", scores)"
			]
		},
		{
			"cell_type": "code",
			"execution_count": 752,
			"id": "00dc6269",
			"metadata": {},
			"outputs": [
				{
					"name": "stdout",
					"output_type": "stream",
					"text": [
						"Train: [1 2 3 4 5] Test: [ 0 10 11 13 14]\n"
					]
				}
			],
			"source": [
				"# 14. StratifiedKFold\n",
				"from sklearn.model_selection import StratifiedKFold\n",
				"skf = StratifiedKFold(n_splits=3, shuffle=True, random_state=42)\n",
				"for train_idx, test_idx in skf.split(iris.data, iris.target):\n",
				"    print(\"Train:\", train_idx[:5], \"Test:\", test_idx[:5])\n",
				"    break"
			]
		},
		{
			"cell_type": "code",
			"execution_count": 753,
			"id": "de27394c",
			"metadata": {},
			"outputs": [
				{
					"name": "stdout",
					"output_type": "stream",
					"text": [
						"Train size: 70 Test size: 35\n"
					]
				}
			],
			"source": [
				"# 15. KFold\n",
				"from sklearn.model_selection import KFold\n",
				"kf = KFold(n_splits=3, shuffle=True, random_state=42)\n",
				"for tr_idx, ts_idx in kf.split(X_train):\n",
				"    print(\"Train size:\", len(tr_idx), \"Test size:\", len(ts_idx))\n",
				"    break"
			]
		},
		{
			"cell_type": "code",
			"execution_count": 754,
			"id": "fbe44f75",
			"metadata": {},
			"outputs": [
				{
					"name": "stdout",
					"output_type": "stream",
					"text": [
						"Best params: {'max_depth': 3, 'min_samples_leaf': 1}\n"
					]
				}
			],
			"source": [
				"# 16. GridSearchCV\n",
				"from sklearn.model_selection import GridSearchCV\n",
				"parameters = {'max_depth':[2,3,4], 'min_samples_leaf':[1,2]}\n",
				"dt = DecisionTreeClassifier()\n",
				"grid = GridSearchCV(dt, parameters, cv=3)\n",
				"grid.fit(iris.data, iris.target)\n",
				"print(\"Best params:\", grid.best_params_)"
			]
		},
		{
			"cell_type": "code",
			"execution_count": 755,
			"id": "8c6b3c8b",
			"metadata": {},
			"outputs": [
				{
					"name": "stdout",
					"output_type": "stream",
					"text": [
						"Randomized best params: {'max_depth': 3, 'min_samples_split': 5}\n"
					]
				}
			],
			"source": [
				"# 17. RandomizedSearchCV\n",
				"from sklearn.model_selection import RandomizedSearchCV\n",
				"from scipy.stats import randint\n",
				"param_dist = {'max_depth': randint(1,5), 'min_samples_split': randint(2,10)}\n",
				"rand_search = RandomizedSearchCV(dt, param_dist, n_iter=5, cv=3, random_state=42)\n",
				"rand_search.fit(X_train, y_train)\n",
				"print(\"Randomized best params:\", rand_search.best_params_)"
			]
		},
		{
			"cell_type": "code",
			"execution_count": 756,
			"id": "163811ed",
			"metadata": {},
			"outputs": [
				{
					"name": "stdout",
					"output_type": "stream",
					"text": [
						"ShuffleSplit: [  4  32 142  85  86] [ 73  18 118  78  76]\n"
					]
				}
			],
			"source": [
				"# 18. ShuffleSplit\n",
				"from sklearn.model_selection import ShuffleSplit\n",
				"ss = ShuffleSplit(n_splits=3, test_size=0.25, random_state=42)\n",
				"for train_idx, test_idx in ss.split(iris.data):\n",
				"    print(\"ShuffleSplit:\", train_idx[:5], test_idx[:5])\n",
				"    break"
			]
		},
		{
			"cell_type": "code",
			"execution_count": 757,
			"id": "0f2b84cd",
			"metadata": {},
			"outputs": [
				{
					"name": "stdout",
					"output_type": "stream",
					"text": [
						"Train sizes: [ 12  39  66  93 120]\n"
					]
				}
			],
			"source": [
				"# 19. learning_curve\n",
				"from sklearn.model_selection import learning_curve\n",
				"train_sizes, train_scores, test_scores = learning_curve(dt, iris.data, iris.target, cv=5)\n",
				"print(\"Train sizes:\", train_sizes)"
			]
		},
		{
			"cell_type": "code",
			"execution_count": 758,
			"id": "1f9e8b2e",
			"metadata": {},
			"outputs": [
				{
					"name": "stdout",
					"output_type": "stream",
					"text": [
						"Validation curve train_scores shape: (5, 3)\n"
					]
				}
			],
			"source": [
				"# 20. validation_curve\n",
				"from sklearn.model_selection import validation_curve\n",
				"param_range = [1,2,3,4,5]\n",
				"train_scores, test_scores = validation_curve(dt, iris.data, iris.target,\n",
				"                                            param_name='max_depth', param_range=param_range,\n",
				"                                            cv=3)\n",
				"print(\"Validation curve train_scores shape:\", train_scores.shape)"
			]
		},
		{
			"cell_type": "markdown",
			"id": "d800e451",
			"metadata": {},
			"source": [
				"## C. 数据预处理（sklearn.preprocessing）"
			]
		},
		{
			"cell_type": "code",
			"execution_count": 759,
			"id": "ec18a2be",
			"metadata": {},
			"outputs": [
				{
					"name": "stdout",
					"output_type": "stream",
					"text": [
						"Mean after scaling: [ 2.57148800e-15 -9.89254974e-16 -2.91830052e-16  1.20538500e-16]\n"
					]
				}
			],
			"source": [
				"# 21. StandardScaler\n",
				"from sklearn.preprocessing import StandardScaler\n",
				"scaler = StandardScaler()\n",
				"scaler.fit(X_train)\n",
				"X_train_scaled = scaler.transform(X_train)\n",
				"print(\"Mean after scaling:\", X_train_scaled.mean(axis=0))"
			]
		},
		{
			"cell_type": "code",
			"execution_count": 760,
			"id": "87ddff16",
			"metadata": {},
			"outputs": [
				{
					"name": "stdout",
					"output_type": "stream",
					"text": [
						"Min of each col: [0. 0. 0. 0.]\n"
					]
				}
			],
			"source": [
				"# 22. MinMaxScaler\n",
				"from sklearn.preprocessing import MinMaxScaler\n",
				"mms = MinMaxScaler()\n",
				"mms.fit(X_train)\n",
				"X_train_mms = mms.transform(X_train)\n",
				"print(\"Min of each col:\", X_train_mms.min(axis=0))"
			]
		},
		{
			"cell_type": "code",
			"execution_count": 761,
			"id": "cbd33a0e",
			"metadata": {},
			"outputs": [
				{
					"name": "stdout",
					"output_type": "stream",
					"text": [
						"Shape: (105, 4)\n"
					]
				}
			],
			"source": [
				"# 23. RobustScaler\n",
				"from sklearn.preprocessing import RobustScaler\n",
				"rs = RobustScaler()\n",
				"X_train_rs = rs.fit_transform(X_train)\n",
				"print(\"Shape:\", X_train_rs.shape)"
			]
		},
		{
			"cell_type": "code",
			"execution_count": 762,
			"id": "07c6bc1a",
			"metadata": {},
			"outputs": [
				{
					"name": "stdout",
					"output_type": "stream",
					"text": [
						"First sample norm: 1.0\n"
					]
				}
			],
			"source": [
				"# 24. Normalizer\n",
				"from sklearn.preprocessing import Normalizer\n",
				"normalizer = Normalizer(norm='l2')\n",
				"X_train_norm = normalizer.fit_transform(X_train)\n",
				"print(\"First sample norm:\", np.linalg.norm(X_train_norm[0]))"
			]
		},
		{
			"cell_type": "code",
			"execution_count": 763,
			"id": "984a1bf5",
			"metadata": {},
			"outputs": [
				{
					"name": "stdout",
					"output_type": "stream",
					"text": [
						"[[1. 1. 0. 0.]\n",
						" [1. 0. 0. 0.]\n",
						" [1. 1. 0. 0.]\n",
						" [1. 1. 0. 0.]\n",
						" [1. 1. 0. 0.]]\n"
					]
				}
			],
			"source": [
				"# 25. Binarizer\n",
				"from sklearn.preprocessing import Binarizer\n",
				"binar = Binarizer(threshold=3.0)\n",
				"X_bin = binar.fit_transform(iris.data)\n",
				"print(X_bin[:5])"
			]
		},
		{
			"cell_type": "code",
			"execution_count": 764,
			"id": "9e50384e",
			"metadata": {},
			"outputs": [
				{
					"name": "stdout",
					"output_type": "stream",
					"text": [
						"Poly shape: (105, 6)\n"
					]
				}
			],
			"source": [
				"# 26. PolynomialFeatures\n",
				"from sklearn.preprocessing import PolynomialFeatures\n",
				"poly = PolynomialFeatures(degree=2)\n",
				"X_poly = poly.fit_transform(X_train[:, :2])\n",
				"print(\"Poly shape:\", X_poly.shape)"
			]
		},
		{
			"cell_type": "code",
			"execution_count": 765,
			"id": "4d98971c",
			"metadata": {},
			"outputs": [
				{
					"name": "stdout",
					"output_type": "stream",
					"text": [
						"[[1. 0. 0.]\n",
						" [0. 1. 0.]\n",
						" [0. 0. 1.]\n",
						" [0. 1. 0.]]\n"
					]
				}
			],
			"source": [
				"# 27. OneHotEncoder\n",
				"from sklearn.preprocessing import OneHotEncoder\n",
				"enc = OneHotEncoder(sparse_output=False)\n",
				"cat_data = np.array([[0],[1],[2],[1]])\n",
				"enc_data = enc.fit_transform(cat_data)\n",
				"print(enc_data)"
			]
		},
		{
			"cell_type": "code",
			"execution_count": 766,
			"id": "b4785dbe",
			"metadata": {},
			"outputs": [
				{
					"name": "stdout",
					"output_type": "stream",
					"text": [
						"Encoded: [0 1 1 2]\n"
					]
				}
			],
			"source": [
				"# 28. LabelEncoder\n",
				"from sklearn.preprocessing import LabelEncoder\n",
				"le = LabelEncoder()\n",
				"labels = np.array(['cat','dog','dog','fish'])\n",
				"encoded = le.fit_transform(labels)\n",
				"print(\"Encoded:\", encoded)"
			]
		},
		{
			"cell_type": "code",
			"execution_count": 767,
			"id": "b093df7f",
			"metadata": {},
			"outputs": [
				{
					"name": "stdout",
					"output_type": "stream",
					"text": [
						"Binarized: [[1 0 0]\n",
						" [0 1 0]\n",
						" [0 1 0]\n",
						" [0 0 1]]\n"
					]
				}
			],
			"source": [
				"# 29. LabelBinarizer\n",
				"from sklearn.preprocessing import LabelBinarizer\n",
				"lb = LabelBinarizer()\n",
				"bin_label = lb.fit_transform(labels)\n",
				"print(\"Binarized:\", bin_label)"
			]
		},
		{
			"cell_type": "code",
			"execution_count": 768,
			"id": "f0ed691b",
			"metadata": {},
			"outputs": [
				{
					"name": "stdout",
					"output_type": "stream",
					"text": [
						"[[1. 1. 1. 2. 2. 1. 2. 1. 0. 2.]]\n"
					]
				}
			],
			"source": [
				"# 30. KBinsDiscretizer\n",
				"from sklearn.preprocessing import KBinsDiscretizer\n",
				"X_kb = X_train[:,0].reshape(-1,1)\n",
				"kbd = KBinsDiscretizer(n_bins=3, encode='ordinal', strategy='uniform')\n",
				"X_kb_disc = kbd.fit_transform(X_kb)\n",
				"print(X_kb_disc[:10].T)"
			]
		},
		{
			"cell_type": "markdown",
			"id": "a9eb5251",
			"metadata": {},
			"source": [
				"## D. 常见模型：线性模型（sklearn.linear_model）"
			]
		},
		{
			"cell_type": "code",
			"execution_count": 769,
			"id": "e4e86e9a",
			"metadata": {},
			"outputs": [
				{
					"name": "stdout",
					"output_type": "stream",
					"text": [
						"Coefficients: [96.54857578 31.38347236 65.22906   ]\n"
					]
				}
			],
			"source": [
				"# 31. LinearRegression\n",
				"from sklearn.linear_model import LinearRegression\n",
				"linreg = LinearRegression()\n",
				"linreg.fit(Xr, yr)\n",
				"print(\"Coefficients:\", linreg.coef_)"
			]
		},
		{
			"cell_type": "code",
			"execution_count": 770,
			"id": "28f6a4aa",
			"metadata": {},
			"outputs": [
				{
					"name": "stdout",
					"output_type": "stream",
					"text": [
						"Ridge coef: [95.53180935 30.97047758 64.68103145]\n"
					]
				}
			],
			"source": [
				"# 32. Ridge\n",
				"from sklearn.linear_model import Ridge\n",
				"ridge = Ridge(alpha=1.0)\n",
				"ridge.fit(Xr, yr)\n",
				"print(\"Ridge coef:\", ridge.coef_)"
			]
		},
		{
			"cell_type": "code",
			"execution_count": 771,
			"id": "40bcd5a3",
			"metadata": {},
			"outputs": [
				{
					"name": "stdout",
					"output_type": "stream",
					"text": [
						"Lasso coef: [96.43679998 31.27432575 65.1405645 ]\n"
					]
				}
			],
			"source": [
				"# 33. Lasso\n",
				"from sklearn.linear_model import Lasso\n",
				"lasso = Lasso(alpha=0.1)\n",
				"lasso.fit(Xr, yr)\n",
				"print(\"Lasso coef:\", lasso.coef_)"
			]
		},
		{
			"cell_type": "code",
			"execution_count": 772,
			"id": "584cb4f6",
			"metadata": {},
			"outputs": [
				{
					"name": "stdout",
					"output_type": "stream",
					"text": [
						"ElasticNet coef: [93.48587805 30.09994723 63.55236022]\n"
					]
				}
			],
			"source": [
				"# 34. ElasticNet\n",
				"from sklearn.linear_model import ElasticNet\n",
				"en = ElasticNet(alpha=0.1, l1_ratio=0.7)\n",
				"en.fit(Xr, yr)\n",
				"print(\"ElasticNet coef:\", en.coef_)"
			]
		},
		{
			"cell_type": "code",
			"execution_count": 773,
			"id": "90315ca5",
			"metadata": {},
			"outputs": [
				{
					"name": "stdout",
					"output_type": "stream",
					"text": [
						"SGDRegressor coef: [96.52020281 31.38977216 65.22262966]\n"
					]
				}
			],
			"source": [
				"# 35. SGDRegressor\n",
				"from sklearn.linear_model import SGDRegressor\n",
				"sgdr = SGDRegressor(max_iter=1000, random_state=42)\n",
				"sgdr.fit(Xr, yr)\n",
				"print(\"SGDRegressor coef:\", sgdr.coef_)"
			]
		},
		{
			"cell_type": "code",
			"execution_count": 774,
			"id": "c00c60e8",
			"metadata": {},
			"outputs": [
				{
					"name": "stdout",
					"output_type": "stream",
					"text": [
						"Logistic score: 1.0\n"
					]
				}
			],
			"source": [
				"# 36. LogisticRegression\n",
				"from sklearn.linear_model import LogisticRegression\n",
				"logreg = LogisticRegression(max_iter=200)\n",
				"logreg.fit(X_train, y_train)\n",
				"print(\"Logistic score:\", logreg.score(X_test, y_test))"
			]
		},
		{
			"cell_type": "code",
			"execution_count": 775,
			"id": "bae7510e",
			"metadata": {},
			"outputs": [
				{
					"name": "stdout",
					"output_type": "stream",
					"text": [
						"SGDClassifier score: 0.8\n"
					]
				}
			],
			"source": [
				"# 37. SGDClassifier\n",
				"from sklearn.linear_model import SGDClassifier\n",
				"sgdc = SGDClassifier(max_iter=1000, random_state=42)\n",
				"sgdc.fit(X_train, y_train)\n",
				"print(\"SGDClassifier score:\", sgdc.score(X_test, y_test))"
			]
		},
		{
			"cell_type": "code",
			"execution_count": 776,
			"id": "4fcf6132",
			"metadata": {},
			"outputs": [
				{
					"name": "stdout",
					"output_type": "stream",
					"text": [
						"Perceptron score: 0.4666666666666667\n"
					]
				}
			],
			"source": [
				"# 38. Perceptron\n",
				"from sklearn.linear_model import Perceptron\n",
				"pct = Perceptron(max_iter=1000, random_state=42)\n",
				"pct.fit(X_train, y_train)\n",
				"print(\"Perceptron score:\", pct.score(X_test, y_test))"
			]
		},
		{
			"cell_type": "code",
			"execution_count": 777,
			"id": "4d2832d2",
			"metadata": {},
			"outputs": [
				{
					"name": "stdout",
					"output_type": "stream",
					"text": [
						"PAC score: 0.8888888888888888\n"
					]
				}
			],
			"source": [
				"# 39. PassiveAggressiveClassifier\n",
				"from sklearn.linear_model import PassiveAggressiveClassifier\n",
				"pac = PassiveAggressiveClassifier(max_iter=1000, random_state=42)\n",
				"pac.fit(X_train, y_train)\n",
				"print(\"PAC score:\", pac.score(X_test, y_test))"
			]
		},
		{
			"cell_type": "code",
			"execution_count": 778,
			"id": "ba3fad2b",
			"metadata": {},
			"outputs": [
				{
					"name": "stdout",
					"output_type": "stream",
					"text": [
						"RANSAC inlier_mask_: [ True  True  True  True  True  True  True  True  True  True]\n"
					]
				}
			],
			"source": [
				"# 40. RANSACRegressor\n",
				"from sklearn.linear_model import RANSACRegressor\n",
				"ransac = RANSACRegressor(estimator=LinearRegression(), random_state=42)\n",
				"ransac.fit(Xr, yr)\n",
				"print(\"RANSAC inlier_mask_:\", ransac.inlier_mask_[:10])"
			]
		},
		{
			"cell_type": "markdown",
			"id": "86ee7e27",
			"metadata": {},
			"source": [
				"## E. SVM（sklearn.svm）"
			]
		},
		{
			"cell_type": "code",
			"execution_count": 779,
			"id": "6748124a",
			"metadata": {},
			"outputs": [
				{
					"name": "stdout",
					"output_type": "stream",
					"text": [
						"SVC score: 1.0\n"
					]
				}
			],
			"source": [
				"# 41. SVC\n",
				"from sklearn.svm import SVC\n",
				"svc = SVC(kernel='rbf', gamma='scale')\n",
				"svc.fit(X_train, y_train)\n",
				"print(\"SVC score:\", svc.score(X_test, y_test))"
			]
		},
		{
			"cell_type": "code",
			"execution_count": 780,
			"id": "6b6858aa",
			"metadata": {},
			"outputs": [
				{
					"name": "stdout",
					"output_type": "stream",
					"text": [
						"LinearSVC score: 1.0\n"
					]
				}
			],
			"source": [
				"# 42. LinearSVC\n",
				"from sklearn.svm import LinearSVC\n",
				"linsvc = LinearSVC(max_iter=5000)\n",
				"linsvc.fit(X_train, y_train)\n",
				"print(\"LinearSVC score:\", linsvc.score(X_test, y_test))"
			]
		},
		{
			"cell_type": "code",
			"execution_count": 781,
			"id": "022cb3df",
			"metadata": {},
			"outputs": [
				{
					"name": "stdout",
					"output_type": "stream",
					"text": [
						"SVR train R^2: 0.8644911750871247\n"
					]
				}
			],
			"source": [
				"# 43. SVR\n",
				"from sklearn.svm import SVR\n",
				"svr = SVR(kernel='linear')\n",
				"svr.fit(Xr, yr)\n",
				"print(\"SVR train R^2:\", svr.score(Xr, yr))"
			]
		},
		{
			"cell_type": "code",
			"execution_count": 782,
			"id": "b7665b01",
			"metadata": {},
			"outputs": [
				{
					"name": "stdout",
					"output_type": "stream",
					"text": [
						"LinearSVR coefs: [61.3682655  17.85130274 44.44703709]\n"
					]
				}
			],
			"source": [
				"# 44. LinearSVR\n",
				"from sklearn.svm import LinearSVR\n",
				"linsvr = LinearSVR(max_iter=1000)\n",
				"linsvr.fit(Xr, yr)\n",
				"print(\"LinearSVR coefs:\", linsvr.coef_)"
			]
		},
		{
			"cell_type": "code",
			"execution_count": 783,
			"id": "f41e93db",
			"metadata": {},
			"outputs": [
				{
					"name": "stdout",
					"output_type": "stream",
					"text": [
						"NuSVC score: 1.0\n"
					]
				}
			],
			"source": [
				"# 45. NuSVC\n",
				"from sklearn.svm import NuSVC\n",
				"nusvc = NuSVC(nu=0.4)\n",
				"nusvc.fit(X_train, y_train)\n",
				"print(\"NuSVC score:\", nusvc.score(X_test, y_test))"
			]
		},
		{
			"cell_type": "code",
			"execution_count": 784,
			"id": "99e39273",
			"metadata": {},
			"outputs": [
				{
					"name": "stdout",
					"output_type": "stream",
					"text": [
						"NuSVR R^2: 0.08415931693050127\n"
					]
				}
			],
			"source": [
				"# 46. NuSVR\n",
				"from sklearn.svm import NuSVR\n",
				"nusvr = NuSVR(nu=0.4)\n",
				"nusvr.fit(Xr, yr)\n",
				"print(\"NuSVR R^2:\", nusvr.score(Xr, yr))"
			]
		},
		{
			"cell_type": "markdown",
			"id": "02f69b54",
			"metadata": {},
			"source": [
				"## F. 邻近算法（sklearn.neighbors）"
			]
		},
		{
			"cell_type": "code",
			"execution_count": 785,
			"id": "8998cbb2",
			"metadata": {},
			"outputs": [
				{
					"name": "stdout",
					"output_type": "stream",
					"text": [
						"KNN score: 1.0\n"
					]
				}
			],
			"source": [
				"# 47. KNeighborsClassifier\n",
				"from sklearn.neighbors import KNeighborsClassifier\n",
				"knn = KNeighborsClassifier(n_neighbors=5)\n",
				"knn.fit(X_train, y_train)\n",
				"print(\"KNN score:\", knn.score(X_test, y_test))"
			]
		},
		{
			"cell_type": "code",
			"execution_count": 786,
			"id": "350610c4",
			"metadata": {},
			"outputs": [
				{
					"name": "stdout",
					"output_type": "stream",
					"text": [
						"KNN reg R^2: 0.9362632355792052\n"
					]
				}
			],
			"source": [
				"# 48. KNeighborsRegressor\n",
				"from sklearn.neighbors import KNeighborsRegressor\n",
				"knnreg = KNeighborsRegressor(n_neighbors=4)\n",
				"knnreg.fit(Xr, yr)\n",
				"print(\"KNN reg R^2:\", knnreg.score(Xr, yr))"
			]
		},
		{
			"cell_type": "code",
			"execution_count": 787,
			"id": "903e4d96",
			"metadata": {},
			"outputs": [
				{
					"name": "stdout",
					"output_type": "stream",
					"text": [
						"RadiusNeighborsClassifier: 1.0\n"
					]
				}
			],
			"source": [
				"# 49. RadiusNeighborsClassifier\n",
				"from sklearn.neighbors import RadiusNeighborsClassifier\n",
				"rnc = RadiusNeighborsClassifier(radius=1.0)\n",
				"rnc.fit(X_train, y_train)\n",
				"print(\"RadiusNeighborsClassifier:\", rnc.score(X_test, y_test))"
			]
		},
		{
			"cell_type": "code",
			"execution_count": 788,
			"id": "47bf2c35",
			"metadata": {},
			"outputs": [
				{
					"name": "stdout",
					"output_type": "stream",
					"text": [
						"RadiusNeighborsRegressor R^2: 0.7756481988137478\n"
					]
				}
			],
			"source": [
				"# 50. RadiusNeighborsRegressor\n",
				"from sklearn.neighbors import RadiusNeighborsRegressor\n",
				"rnr = RadiusNeighborsRegressor(radius=2.0)\n",
				"rnr.fit(Xr, yr)\n",
				"print(\"RadiusNeighborsRegressor R^2:\", rnr.score(Xr, yr))"
			]
		},
		{
			"cell_type": "code",
			"execution_count": 789,
			"id": "c324b8d8",
			"metadata": {},
			"outputs": [
				{
					"name": "stdout",
					"output_type": "stream",
					"text": [
						"Distances: [[0.         0.14142136 0.34641016]\n",
						" [0.         0.33166248 0.36055513]\n",
						" [0.         0.14142136 0.24494897]\n",
						" [0.         0.24494897 0.26457513]\n",
						" [0.         0.67082039 0.70710678]]\n"
					]
				}
			],
			"source": [
				"# 51. NearestNeighbors\n",
				"from sklearn.neighbors import NearestNeighbors\n",
				"nn = NearestNeighbors(n_neighbors=3)\n",
				"nn.fit(X_train)\n",
				"distances, indices = nn.kneighbors(X_train[:5])\n",
				"print(\"Distances:\", distances)"
			]
		},
		{
			"cell_type": "markdown",
			"id": "a8d29f46",
			"metadata": {},
			"source": [
				"## G. 决策树与集成方法（sklearn.tree / sklearn.ensemble）"
			]
		},
		{
			"cell_type": "code",
			"execution_count": 790,
			"id": "ff3bfe35",
			"metadata": {},
			"outputs": [
				{
					"name": "stdout",
					"output_type": "stream",
					"text": [
						"DecisionTree score: 1.0\n"
					]
				}
			],
			"source": [
				"# 52. DecisionTreeClassifier\n",
				"from sklearn.tree import DecisionTreeClassifier\n",
				"dtc = DecisionTreeClassifier(max_depth=3)\n",
				"dtc.fit(X_train, y_train)\n",
				"print(\"DecisionTree score:\", dtc.score(X_test, y_test))"
			]
		},
		{
			"cell_type": "code",
			"execution_count": 791,
			"id": "cb0c03dd",
			"metadata": {},
			"outputs": [
				{
					"name": "stdout",
					"output_type": "stream",
					"text": [
						"DecisionTreeRegressor R^2: 0.830201344230173\n"
					]
				}
			],
			"source": [
				"# 53. DecisionTreeRegressor\n",
				"from sklearn.tree import DecisionTreeRegressor\n",
				"dtr = DecisionTreeRegressor(max_depth=3)\n",
				"dtr.fit(Xr, yr)\n",
				"print(\"DecisionTreeRegressor R^2:\", dtr.score(Xr, yr))"
			]
		},
		{
			"cell_type": "code",
			"execution_count": 792,
			"id": "4e6527b5",
			"metadata": {},
			"outputs": [
				{
					"name": "stdout",
					"output_type": "stream",
					"text": [
						"RandomForest score: 1.0\n"
					]
				}
			],
			"source": [
				"# 54. RandomForestClassifier\n",
				"from sklearn.ensemble import RandomForestClassifier\n",
				"rfc = RandomForestClassifier(n_estimators=50, random_state=42)\n",
				"rfc.fit(X_train, y_train)\n",
				"print(\"RandomForest score:\", rfc.score(X_test, y_test))"
			]
		},
		{
			"cell_type": "code",
			"execution_count": 793,
			"id": "60fe59f9",
			"metadata": {},
			"outputs": [
				{
					"name": "stdout",
					"output_type": "stream",
					"text": [
						"RandomForestRegressor R^2: 0.9840943339147822\n"
					]
				}
			],
			"source": [
				"# 55. RandomForestRegressor\n",
				"from sklearn.ensemble import RandomForestRegressor\n",
				"rfr = RandomForestRegressor(n_estimators=50, random_state=42)\n",
				"rfr.fit(Xr, yr)\n",
				"print(\"RandomForestRegressor R^2:\", rfr.score(Xr, yr))"
			]
		},
		{
			"cell_type": "code",
			"execution_count": 794,
			"id": "a7dbb2c0",
			"metadata": {},
			"outputs": [
				{
					"name": "stdout",
					"output_type": "stream",
					"text": [
						"GBC score: 1.0\n"
					]
				}
			],
			"source": [
				"# 56. GradientBoostingClassifier\n",
				"from sklearn.ensemble import GradientBoostingClassifier\n",
				"gbc = GradientBoostingClassifier(n_estimators=50)\n",
				"gbc.fit(X_train, y_train)\n",
				"print(\"GBC score:\", gbc.score(X_test, y_test))"
			]
		},
		{
			"cell_type": "code",
			"execution_count": 795,
			"id": "facef49d",
			"metadata": {},
			"outputs": [
				{
					"name": "stdout",
					"output_type": "stream",
					"text": [
						"GBR R^2: 0.9946663307233947\n"
					]
				}
			],
			"source": [
				"# 57. GradientBoostingRegressor\n",
				"from sklearn.ensemble import GradientBoostingRegressor\n",
				"gbr = GradientBoostingRegressor(n_estimators=50)\n",
				"gbr.fit(Xr, yr)\n",
				"print(\"GBR R^2:\", gbr.score(Xr, yr))"
			]
		},
		{
			"cell_type": "code",
			"execution_count": 796,
			"id": "0fb6a110",
			"metadata": {},
			"outputs": [
				{
					"name": "stdout",
					"output_type": "stream",
					"text": [
						"AdaBoostClassifier: 1.0\n"
					]
				}
			],
			"source": [
				"# 58. AdaBoostClassifier\n",
				"from sklearn.ensemble import AdaBoostClassifier\n",
				"abc = AdaBoostClassifier(n_estimators=30, random_state=42)\n",
				"abc.fit(X_train, y_train)\n",
				"print(\"AdaBoostClassifier:\", abc.score(X_test, y_test))"
			]
		},
		{
			"cell_type": "code",
			"execution_count": 797,
			"id": "28c21cab",
			"metadata": {},
			"outputs": [
				{
					"name": "stdout",
					"output_type": "stream",
					"text": [
						"AdaBoostRegressor R^2: 0.9291740925965721\n"
					]
				}
			],
			"source": [
				"# 59. AdaBoostRegressor\n",
				"from sklearn.ensemble import AdaBoostRegressor\n",
				"abr = AdaBoostRegressor(n_estimators=30, random_state=42)\n",
				"abr.fit(Xr, yr)\n",
				"print(\"AdaBoostRegressor R^2:\", abr.score(Xr, yr))"
			]
		},
		{
			"cell_type": "code",
			"execution_count": 798,
			"id": "cf12a4d1",
			"metadata": {},
			"outputs": [
				{
					"name": "stdout",
					"output_type": "stream",
					"text": [
						"ExtraTrees score: 1.0\n"
					]
				}
			],
			"source": [
				"# 60. ExtraTreesClassifier\n",
				"from sklearn.ensemble import ExtraTreesClassifier\n",
				"etc = ExtraTreesClassifier(n_estimators=50, random_state=42)\n",
				"etc.fit(X_train, y_train)\n",
				"print(\"ExtraTrees score:\", etc.score(X_test, y_test))"
			]
		},
		{
			"cell_type": "markdown",
			"id": "691bd39e",
			"metadata": {},
			"source": [
				"## H. 聚类（sklearn.cluster）"
			]
		},
		{
			"cell_type": "code",
			"execution_count": 799,
			"id": "d1723c6b",
			"metadata": {},
			"outputs": [
				{
					"name": "stdout",
					"output_type": "stream",
					"text": [
						"KMeans cluster centers:\n",
						" [[ 9.03243933 -7.17843373]\n",
						" [-3.90418761  7.3793979 ]\n",
						" [ 6.48778365 -4.88507349]]\n"
					]
				}
			],
			"source": [
				"# 61. KMeans\n",
				"from sklearn.cluster import KMeans\n",
				"km = KMeans(n_clusters=3, random_state=42)\n",
				"km.fit(Xb)\n",
				"print(\"KMeans cluster centers:\\n\", km.cluster_centers_)"
			]
		},
		{
			"cell_type": "code",
			"execution_count": 800,
			"id": "7d51a33a",
			"metadata": {},
			"outputs": [
				{
					"name": "stdout",
					"output_type": "stream",
					"text": [
						"DBSCAN labels: [-1  0  1  2]\n"
					]
				}
			],
			"source": [
				"# 62. DBSCAN\n",
				"from sklearn.cluster import DBSCAN\n",
				"db = DBSCAN(eps=0.5, min_samples=5)\n",
				"labels_db = db.fit_predict(Xb)\n",
				"print(\"DBSCAN labels:\", np.unique(labels_db))"
			]
		},
		{
			"cell_type": "code",
			"execution_count": 801,
			"id": "acbc894c",
			"metadata": {},
			"outputs": [
				{
					"name": "stdout",
					"output_type": "stream",
					"text": [
						"Agg clusters: [0 1 2]\n"
					]
				}
			],
			"source": [
				"# 63. AgglomerativeClustering\n",
				"from sklearn.cluster import AgglomerativeClustering\n",
				"agg = AgglomerativeClustering(n_clusters=3)\n",
				"labels_agg = agg.fit_predict(Xb)\n",
				"print(\"Agg clusters:\", np.unique(labels_agg))"
			]
		},
		{
			"cell_type": "code",
			"execution_count": 802,
			"id": "68a3962a",
			"metadata": {},
			"outputs": [
				{
					"name": "stdout",
					"output_type": "stream",
					"text": [
						"Birch labels: [0 1 2]\n"
					]
				}
			],
			"source": [
				"# 64. Birch\n",
				"from sklearn.cluster import Birch\n",
				"birch = Birch(n_clusters=3)\n",
				"labels_birch = birch.fit_predict(Xb)\n",
				"print(\"Birch labels:\", np.unique(labels_birch))"
			]
		},
		{
			"cell_type": "code",
			"execution_count": 803,
			"id": "c9a098e9",
			"metadata": {},
			"outputs": [
				{
					"name": "stdout",
					"output_type": "stream",
					"text": [
						"MiniBatchKMeans centers:\n",
						" [[-2.53238857  7.15112872]\n",
						" [ 7.74534816 -5.92275128]\n",
						" [-4.45322961  7.3828208 ]]\n"
					]
				}
			],
			"source": [
				"# 65. MiniBatchKMeans\n",
				"from sklearn.cluster import MiniBatchKMeans\n",
				"mbkm = MiniBatchKMeans(n_clusters=3, batch_size=20, random_state=42)\n",
				"mbkm.fit(Xb)\n",
				"print(\"MiniBatchKMeans centers:\\n\", mbkm.cluster_centers_)"
			]
		},
		{
			"cell_type": "markdown",
			"id": "90055f5f",
			"metadata": {},
			"source": [
				"## I. 高斯过程（sklearn.gaussian_process）"
			]
		},
		{
			"cell_type": "code",
			"execution_count": 804,
			"id": "ea778550",
			"metadata": {},
			"outputs": [
				{
					"name": "stdout",
					"output_type": "stream",
					"text": [
						"GPR score: 1.0\n"
					]
				}
			],
			"source": [
				"# 66. GaussianProcessRegressor\n",
				"from sklearn.gaussian_process import GaussianProcessRegressor\n",
				"from sklearn.gaussian_process.kernels import RBF\n",
				"gpr = GaussianProcessRegressor(kernel=RBF(), random_state=42)\n",
				"X_small = Xr[:20]\n",
				"y_small = yr[:20]\n",
				"gpr.fit(X_small, y_small)\n",
				"print(\"GPR score:\", gpr.score(X_small, y_small))"
			]
		},
		{
			"cell_type": "markdown",
			"id": "c3e0ba33",
			"metadata": {},
			"source": [
				"## J. 朴素贝叶斯（sklearn.naive_bayes）"
			]
		},
		{
			"cell_type": "code",
			"execution_count": 805,
			"id": "6eed8eb6",
			"metadata": {},
			"outputs": [
				{
					"name": "stdout",
					"output_type": "stream",
					"text": [
						"GaussianNB score: 0.9777777777777777\n"
					]
				}
			],
			"source": [
				"# 67. GaussianNB\n",
				"from sklearn.naive_bayes import GaussianNB\n",
				"gnb = GaussianNB()\n",
				"gnb.fit(X_train, y_train)\n",
				"print(\"GaussianNB score:\", gnb.score(X_test, y_test))"
			]
		},
		{
			"cell_type": "code",
			"execution_count": 806,
			"id": "4834fb65",
			"metadata": {},
			"outputs": [
				{
					"name": "stdout",
					"output_type": "stream",
					"text": [
						"MultinomialNB score: 0.9053978853644964\n"
					]
				}
			],
			"source": [
				"# 68. MultinomialNB\n",
				"from sklearn.naive_bayes import MultinomialNB\n",
				"mnb = MultinomialNB()\n",
				"X_digits = digits.data\n",
				"y_digits = digits.target\n",
				"mnb.fit(X_digits, y_digits)\n",
				"print(\"MultinomialNB score:\", mnb.score(X_digits, y_digits))"
			]
		},
		{
			"cell_type": "code",
			"execution_count": 807,
			"id": "c0b7ae45",
			"metadata": {},
			"outputs": [
				{
					"name": "stdout",
					"output_type": "stream",
					"text": [
						"BernoulliNB score: 0.72\n"
					]
				}
			],
			"source": [
				"# 69. BernoulliNB\n",
				"from sklearn.naive_bayes import BernoulliNB\n",
				"bnb = BernoulliNB()\n",
				"X_bin_data = X_bin.astype(int)\n",
				"bnb.fit(X_bin_data, iris.target)\n",
				"print(\"BernoulliNB score:\", bnb.score(X_bin_data, iris.target))"
			]
		},
		{
			"cell_type": "markdown",
			"id": "e0054016",
			"metadata": {},
			"source": [
				"## K. Pipeline（sklearn.pipeline）"
			]
		},
		{
			"cell_type": "code",
			"execution_count": 808,
			"id": "1905f411",
			"metadata": {},
			"outputs": [
				{
					"name": "stdout",
					"output_type": "stream",
					"text": [
						"Pipeline score: 1.0\n"
					]
				}
			],
			"source": [
				"# 70. make_pipeline\n",
				"from sklearn.pipeline import make_pipeline\n",
				"pipe = make_pipeline(StandardScaler(), LogisticRegression())\n",
				"pipe.fit(X_train, y_train)\n",
				"print(\"Pipeline score:\", pipe.score(X_test, y_test))"
			]
		},
		{
			"cell_type": "code",
			"execution_count": 809,
			"id": "a7d327a7",
			"metadata": {},
			"outputs": [
				{
					"name": "stdout",
					"output_type": "stream",
					"text": [
						"Manual Pipeline score: 1.0\n"
					]
				}
			],
			"source": [
				"# 71. Pipeline (手动)\n",
				"from sklearn.pipeline import Pipeline\n",
				"steps = [('scaler', StandardScaler()), ('clf', LogisticRegression())]\n",
				"pipeline = Pipeline(steps)\n",
				"pipeline.fit(X_train, y_train)\n",
				"print(\"Manual Pipeline score:\", pipeline.score(X_test, y_test))"
			]
		},
		{
			"cell_type": "code",
			"execution_count": 810,
			"id": "31193f63",
			"metadata": {},
			"outputs": [
				{
					"name": "stdout",
					"output_type": "stream",
					"text": [
						"Union shape: (150, 6)\n"
					]
				}
			],
			"source": [
				"# 72. FeatureUnion\n",
				"from sklearn.pipeline import FeatureUnion\n",
				"from sklearn.decomposition import PCA\n",
				"pca = PCA(n_components=2)\n",
				"union = FeatureUnion([('pca', pca), ('pass', 'passthrough')])\n",
				"X_union = union.fit_transform(iris.data)\n",
				"print(\"Union shape:\", X_union.shape)"
			]
		},
		{
			"cell_type": "markdown",
			"id": "caad85c5",
			"metadata": {},
			"source": [
				"## L. 特征选择（sklearn.feature_selection）"
			]
		},
		{
			"cell_type": "code",
			"execution_count": 811,
			"id": "a9ab2490",
			"metadata": {},
			"outputs": [
				{
					"name": "stdout",
					"output_type": "stream",
					"text": [
						"SelectKBest shape: (150, 2)\n"
					]
				}
			],
			"source": [
				"# 73. SelectKBest\n",
				"from sklearn.feature_selection import SelectKBest, f_classif\n",
				"skb = SelectKBest(f_classif, k=2)\n",
				"X_skb = skb.fit_transform(iris.data, iris.target)\n",
				"print(\"SelectKBest shape:\", X_skb.shape)"
			]
		},
		{
			"cell_type": "code",
			"execution_count": 812,
			"id": "7899b2ac",
			"metadata": {},
			"outputs": [
				{
					"name": "stdout",
					"output_type": "stream",
					"text": [
						"Selected features mask: [False False  True  True]\n"
					]
				}
			],
			"source": [
				"# 74. RFE - 递归特征消除\n",
				"from sklearn.feature_selection import RFE\n",
				"est = LogisticRegression()\n",
				"rfe = RFE(est, n_features_to_select=2)\n",
				"rfe.fit(X_train, y_train)\n",
				"print(\"Selected features mask:\", rfe.support_)"
			]
		},
		{
			"cell_type": "code",
			"execution_count": 813,
			"id": "f14bd032",
			"metadata": {},
			"outputs": [
				{
					"name": "stdout",
					"output_type": "stream",
					"text": [
						"Feature support: [False False  True  True]\n"
					]
				}
			],
			"source": [
				"# 75. SelectFromModel\n",
				"from sklearn.feature_selection import SelectFromModel\n",
				"sel_model = SelectFromModel(estimator=RandomForestClassifier(n_estimators=10), threshold='median')\n",
				"sel_model.fit(iris.data, iris.target)\n",
				"print(\"Feature support:\", sel_model.get_support())"
			]
		},
		{
			"cell_type": "code",
			"execution_count": 814,
			"id": "ea07ba60",
			"metadata": {},
			"outputs": [
				{
					"name": "stdout",
					"output_type": "stream",
					"text": [
						"VarianceThreshold shape: (150, 2)\n"
					]
				}
			],
			"source": [
				"# 76. VarianceThreshold\n",
				"from sklearn.feature_selection import VarianceThreshold\n",
				"vt = VarianceThreshold(threshold=0.1)\n",
				"X_vt = vt.fit_transform(X_bin)\n",
				"print(\"VarianceThreshold shape:\", X_vt.shape)"
			]
		},
		{
			"cell_type": "markdown",
			"id": "62f57654",
			"metadata": {},
			"source": [
				"## M. PCA / 降维（sklearn.decomposition）"
			]
		},
		{
			"cell_type": "code",
			"execution_count": 815,
			"id": "ba918692",
			"metadata": {},
			"outputs": [
				{
					"name": "stdout",
					"output_type": "stream",
					"text": [
						"PCA explained variance: [0.92461872 0.05306648]\n"
					]
				}
			],
			"source": [
				"# 77. PCA\n",
				"from sklearn.decomposition import PCA\n",
				"pca = PCA(n_components=2)\n",
				"X_pca = pca.fit_transform(iris.data)\n",
				"print(\"PCA explained variance:\", pca.explained_variance_ratio_)"
			]
		},
		{
			"cell_type": "code",
			"execution_count": 816,
			"id": "1a7bc60d",
			"metadata": {},
			"outputs": [
				{
					"name": "stdout",
					"output_type": "stream",
					"text": [
						"KernelPCA shape: (150, 2)\n"
					]
				}
			],
			"source": [
				"# 78. KernelPCA\n",
				"from sklearn.decomposition import KernelPCA\n",
				"kpca = KernelPCA(n_components=2, kernel='rbf')\n",
				"X_kpca = kpca.fit_transform(iris.data)\n",
				"print(\"KernelPCA shape:\", X_kpca.shape)"
			]
		},
		{
			"cell_type": "code",
			"execution_count": 817,
			"id": "79e8d9f4",
			"metadata": {},
			"outputs": [
				{
					"name": "stdout",
					"output_type": "stream",
					"text": [
						"IncrementalPCA shape: (150, 2)\n"
					]
				}
			],
			"source": [
				"# 79. IncrementalPCA\n",
				"from sklearn.decomposition import IncrementalPCA\n",
				"ipca = IncrementalPCA(n_components=2)\n",
				"ipca.fit(iris.data)\n",
				"X_ipca = ipca.transform(iris.data)\n",
				"print(\"IncrementalPCA shape:\", X_ipca.shape)"
			]
		},
		{
			"cell_type": "code",
			"execution_count": 818,
			"id": "1347b86f",
			"metadata": {},
			"outputs": [
				{
					"name": "stdout",
					"output_type": "stream",
					"text": [
						"SparsePCA components shape: (2, 4)\n"
					]
				}
			],
			"source": [
				"# 80. SparsePCA\n",
				"from sklearn.decomposition import SparsePCA\n",
				"spca = SparsePCA(n_components=2, random_state=42)\n",
				"spca.fit(iris.data)\n",
				"print(\"SparsePCA components shape:\", spca.components_.shape)"
			]
		},
		{
			"cell_type": "code",
			"execution_count": 819,
			"id": "07b7dbf5",
			"metadata": {},
			"outputs": [
				{
					"name": "stdout",
					"output_type": "stream",
					"text": [
						"TruncatedSVD shape: (1797, 2)\n"
					]
				}
			],
			"source": [
				"# 81. TruncatedSVD\n",
				"from sklearn.decomposition import TruncatedSVD\n",
				"tsvd = TruncatedSVD(n_components=2)\n",
				"X_tsvd = tsvd.fit_transform(digits.data)\n",
				"print(\"TruncatedSVD shape:\", X_tsvd.shape)"
			]
		},
		{
			"cell_type": "markdown",
			"id": "9e3aedc0",
			"metadata": {},
			"source": [
				"## N. Manifold 学习（sklearn.manifold）"
			]
		},
		{
			"cell_type": "code",
			"execution_count": 820,
			"id": "907dd35c",
			"metadata": {},
			"outputs": [
				{
					"name": "stdout",
					"output_type": "stream",
					"text": [
						"t-SNE shape: (150, 2)\n"
					]
				}
			],
			"source": [
				"# 82. TSNE\n",
				"from sklearn.manifold import TSNE\n",
				"tsne = TSNE(n_components=2, random_state=42)\n",
				"X_tsne = tsne.fit_transform(iris.data)\n",
				"print(\"t-SNE shape:\", X_tsne.shape)"
			]
		},
		{
			"cell_type": "code",
			"execution_count": 821,
			"id": "7a218398",
			"metadata": {},
			"outputs": [
				{
					"name": "stdout",
					"output_type": "stream",
					"text": [
						"LLE shape: (1797, 2)\n"
					]
				}
			],
			"source": [
				"# 83. LocallyLinearEmbedding\n",
				"from sklearn.manifold import LocallyLinearEmbedding\n",
				"lle = LocallyLinearEmbedding(n_components=2, n_neighbors=10)\n",
				"X_lle = lle.fit_transform(digits.data)\n",
				"print(\"LLE shape:\", X_lle.shape)"
			]
		},
		{
			"cell_type": "code",
			"execution_count": 822,
			"id": "44f05801",
			"metadata": {},
			"outputs": [
				{
					"name": "stderr",
					"output_type": "stream",
					"text": [
						"C:\\Users\\minqliu\\AppData\\Local\\Packages\\PythonSoftwareFoundation.Python.3.11_qbz5n2kfra8p0\\LocalCache\\local-packages\\Python311\\site-packages\\sklearn\\manifold\\_isomap.py:384: UserWarning: The number of connected components of the neighbors graph is 2 > 1. Completing the graph to fit Isomap might be slow. Increase the number of neighbors to avoid this issue.\n",
						"  self._fit_transform(X)\n",
						"C:\\Users\\minqliu\\AppData\\Local\\Packages\\PythonSoftwareFoundation.Python.3.11_qbz5n2kfra8p0\\LocalCache\\local-packages\\Python311\\site-packages\\scipy\\sparse\\_index.py:155: SparseEfficiencyWarning: Changing the sparsity structure of a csr_matrix is expensive. lil and dok are more efficient.\n",
						"  self._set_intXint(row, col, x.flat[0])\n"
					]
				},
				{
					"name": "stdout",
					"output_type": "stream",
					"text": [
						"Isomap shape: (1797, 2)\n"
					]
				}
			],
			"source": [
				"# 84. Isomap\n",
				"from sklearn.manifold import Isomap\n",
				"iso = Isomap(n_components=2, n_neighbors=5)\n",
				"X_iso = iso.fit_transform(digits.data)\n",
				"print(\"Isomap shape:\", X_iso.shape)"
			]
		},
		{
			"cell_type": "code",
			"execution_count": 823,
			"id": "bea4b502",
			"metadata": {},
			"outputs": [
				{
					"name": "stdout",
					"output_type": "stream",
					"text": [
						"MDS shape: (150, 2)\n"
					]
				}
			],
			"source": [
				"# 85. MDS\n",
				"from sklearn.manifold import MDS\n",
				"mds = MDS(n_components=2, max_iter=100, n_init=1)\n",
				"X_mds = mds.fit_transform(iris.data)\n",
				"print(\"MDS shape:\", X_mds.shape)"
			]
		},
		{
			"cell_type": "code",
			"execution_count": 824,
			"id": "6aa734a6",
			"metadata": {},
			"outputs": [
				{
					"name": "stdout",
					"output_type": "stream",
					"text": [
						"SpectralEmbedding shape: (150, 2)\n"
					]
				},
				{
					"name": "stderr",
					"output_type": "stream",
					"text": [
						"C:\\Users\\minqliu\\AppData\\Local\\Packages\\PythonSoftwareFoundation.Python.3.11_qbz5n2kfra8p0\\LocalCache\\local-packages\\Python311\\site-packages\\sklearn\\manifold\\_spectral_embedding.py:329: UserWarning: Graph is not fully connected, spectral embedding may not work as expected.\n",
						"  warnings.warn(\n"
					]
				}
			],
			"source": [
				"# 86. SpectralEmbedding\n",
				"from sklearn.manifold import SpectralEmbedding\n",
				"se = SpectralEmbedding(n_components=2)\n",
				"X_se = se.fit_transform(iris.data)\n",
				"print(\"SpectralEmbedding shape:\", X_se.shape)"
			]
		},
		{
			"cell_type": "markdown",
			"id": "f63e7959",
			"metadata": {},
			"source": [
				"## O. 神经网络（sklearn.neural_network）"
			]
		},
		{
			"cell_type": "code",
			"execution_count": 825,
			"id": "caacca20",
			"metadata": {},
			"outputs": [
				{
					"name": "stdout",
					"output_type": "stream",
					"text": [
						"MLPClassifier score: 0.9777777777777777\n"
					]
				},
				{
					"name": "stderr",
					"output_type": "stream",
					"text": [
						"C:\\Users\\minqliu\\AppData\\Local\\Packages\\PythonSoftwareFoundation.Python.3.11_qbz5n2kfra8p0\\LocalCache\\local-packages\\Python311\\site-packages\\sklearn\\neural_network\\_multilayer_perceptron.py:691: ConvergenceWarning: Stochastic Optimizer: Maximum iterations (1000) reached and the optimization hasn't converged yet.\n",
						"  warnings.warn(\n"
					]
				}
			],
			"source": [
				"# 87. MLPClassifier\n",
				"from sklearn.neural_network import MLPClassifier\n",
				"mlp_c = MLPClassifier(hidden_layer_sizes=(10,), max_iter=1000, random_state=42)\n",
				"mlp_c.fit(X_train, y_train)\n",
				"print(\"MLPClassifier score:\", mlp_c.score(X_test, y_test))"
			]
		},
		{
			"cell_type": "code",
			"execution_count": 826,
			"id": "f7effa14",
			"metadata": {},
			"outputs": [
				{
					"name": "stdout",
					"output_type": "stream",
					"text": [
						"MLPRegressor R^2: 0.3831331140632003\n"
					]
				},
				{
					"name": "stderr",
					"output_type": "stream",
					"text": [
						"C:\\Users\\minqliu\\AppData\\Local\\Packages\\PythonSoftwareFoundation.Python.3.11_qbz5n2kfra8p0\\LocalCache\\local-packages\\Python311\\site-packages\\sklearn\\neural_network\\_multilayer_perceptron.py:691: ConvergenceWarning: Stochastic Optimizer: Maximum iterations (1000) reached and the optimization hasn't converged yet.\n",
						"  warnings.warn(\n"
					]
				}
			],
			"source": [
				"# 88. MLPRegressor\n",
				"from sklearn.neural_network import MLPRegressor\n",
				"mlp_r = MLPRegressor(hidden_layer_sizes=(10,), max_iter=1000, random_state=42)\n",
				"mlp_r.fit(Xr, yr)\n",
				"print(\"MLPRegressor R^2:\", mlp_r.score(Xr, yr))"
			]
		},
		{
			"cell_type": "markdown",
			"id": "d6466b60",
			"metadata": {},
			"source": [
				"## P. 校准（sklearn.calibration）"
			]
		},
		{
			"cell_type": "code",
			"execution_count": 827,
			"id": "49a68e5f",
			"metadata": {},
			"outputs": [
				{
					"name": "stdout",
					"output_type": "stream",
					"text": [
						"Calibrated score: 1.0\n"
					]
				}
			],
			"source": [
				"# 89. CalibratedClassifierCV\n",
				"from sklearn.calibration import CalibratedClassifierCV\n",
				"svc_uncl = SVC(probability=False, kernel='linear')\n",
				"cal_clf = CalibratedClassifierCV(svc_uncl, cv=3)\n",
				"cal_clf.fit(X_train, y_train)\n",
				"print(\"Calibrated score:\", cal_clf.score(X_test, y_test))"
			]
		},
		{
			"cell_type": "markdown",
			"id": "1b83c2c5",
			"metadata": {},
			"source": [
				"## Q. 成本敏感学习 / 不平衡处理"
			]
		},
		{
			"cell_type": "code",
			"execution_count": 828,
			"id": "503855ec",
			"metadata": {},
			"outputs": [
				{
					"name": "stdout",
					"output_type": "stream",
					"text": [
						"Class_weight balanced LR score: 1.0\n"
					]
				}
			],
			"source": [
				"# 90. class_weight in LogisticRegression\n",
				"cw_logreg = LogisticRegression(class_weight='balanced', max_iter=200)\n",
				"cw_logreg.fit(X_train, y_train)\n",
				"print(\"Class_weight balanced LR score:\", cw_logreg.score(X_test, y_test))"
			]
		},
		{
			"cell_type": "markdown",
			"id": "6067d3e6",
			"metadata": {},
			"source": [
				"## R. 度量（sklearn.metrics）"
			]
		},
		{
			"cell_type": "code",
			"execution_count": 829,
			"id": "db015087",
			"metadata": {},
			"outputs": [
				{
					"name": "stdout",
					"output_type": "stream",
					"text": [
						"Accuracy: 1.0\n"
					]
				}
			],
			"source": [
				"# 91. accuracy_score\n",
				"from sklearn.metrics import accuracy_score\n",
				"y_pred = logreg.predict(X_test)\n",
				"acc = accuracy_score(y_test, y_pred)\n",
				"print(\"Accuracy:\", acc)"
			]
		},
		{
			"cell_type": "code",
			"execution_count": 830,
			"id": "fb176008",
			"metadata": {},
			"outputs": [
				{
					"name": "stdout",
					"output_type": "stream",
					"text": [
						"Precision(macro): 1.0\n"
					]
				}
			],
			"source": [
				"# 92. precision_score\n",
				"from sklearn.metrics import precision_score\n",
				"prec = precision_score(y_test, y_pred, average='macro')\n",
				"print(\"Precision(macro):\", prec)"
			]
		},
		{
			"cell_type": "code",
			"execution_count": 831,
			"id": "c0e3d506",
			"metadata": {},
			"outputs": [
				{
					"name": "stdout",
					"output_type": "stream",
					"text": [
						"Recall(macro): 1.0\n"
					]
				}
			],
			"source": [
				"# 93. recall_score\n",
				"from sklearn.metrics import recall_score\n",
				"rec = recall_score(y_test, y_pred, average='macro')\n",
				"print(\"Recall(macro):\", rec)"
			]
		},
		{
			"cell_type": "code",
			"execution_count": 832,
			"id": "7e5da9a5",
			"metadata": {},
			"outputs": [
				{
					"name": "stdout",
					"output_type": "stream",
					"text": [
						"F1(macro): 1.0\n"
					]
				}
			],
			"source": [
				"# 94. f1_score\n",
				"from sklearn.metrics import f1_score\n",
				"f1 = f1_score(y_test, y_pred, average='macro')\n",
				"print(\"F1(macro):\", f1)"
			]
		},
		{
			"cell_type": "code",
			"execution_count": 833,
			"id": "ccf2f10c",
			"metadata": {},
			"outputs": [
				{
					"name": "stdout",
					"output_type": "stream",
					"text": [
						"Confusion matrix:\n",
						" [[19  0  0]\n",
						" [ 0 13  0]\n",
						" [ 0  0 13]]\n"
					]
				}
			],
			"source": [
				"# 95. confusion_matrix\n",
				"from sklearn.metrics import confusion_matrix\n",
				"cm = confusion_matrix(y_test, y_pred)\n",
				"print(\"Confusion matrix:\\n\", cm)"
			]
		},
		{
			"cell_type": "code",
			"execution_count": 834,
			"id": "879b218f",
			"metadata": {},
			"outputs": [
				{
					"name": "stdout",
					"output_type": "stream",
					"text": [
						"              precision    recall  f1-score   support\n",
						"\n",
						"           0       1.00      1.00      1.00        19\n",
						"           1       1.00      1.00      1.00        13\n",
						"           2       1.00      1.00      1.00        13\n",
						"\n",
						"    accuracy                           1.00        45\n",
						"   macro avg       1.00      1.00      1.00        45\n",
						"weighted avg       1.00      1.00      1.00        45\n",
						"\n"
					]
				}
			],
			"source": [
				"# 96. classification_report\n",
				"from sklearn.metrics import classification_report\n",
				"cr = classification_report(y_test, y_pred)\n",
				"print(cr)"
			]
		},
		{
			"cell_type": "code",
			"execution_count": 835,
			"id": "08fef9dc",
			"metadata": {},
			"outputs": [
				{
					"name": "stdout",
					"output_type": "stream",
					"text": [
						"FPR: [0.      0.03125 0.40625 0.40625 0.4375 ] TPR: [0.         0.         0.         0.53846154 0.53846154]\n"
					]
				}
			],
			"source": [
				"# 97. roc_curve\n",
				"from sklearn.metrics import roc_curve\n",
				"y_prob = logreg.predict_proba(X_test)[:,1]  # for binary\n",
				"fpr, tpr, thresholds = roc_curve((y_test==2).astype(int), y_prob)\n",
				"print(\"FPR:\", fpr[:5], \"TPR:\", tpr[:5])"
			]
		},
		{
			"cell_type": "code",
			"execution_count": 836,
			"id": "be34cc7e",
			"metadata": {},
			"outputs": [
				{
					"name": "stdout",
					"output_type": "stream",
					"text": [
						"AUC: 0.4375\n"
					]
				}
			],
			"source": [
				"# 98. roc_auc_score\n",
				"from sklearn.metrics import roc_auc_score\n",
				"auc_score = roc_auc_score((y_test==2).astype(int), y_prob)\n",
				"print(\"AUC:\", auc_score)"
			]
		},
		{
			"cell_type": "code",
			"execution_count": 837,
			"id": "0d917ebc",
			"metadata": {},
			"outputs": [
				{
					"name": "stdout",
					"output_type": "stream",
					"text": [
						"MSE: 70.14338798593913\n"
					]
				}
			],
			"source": [
				"# 99. mean_squared_error\n",
				"from sklearn.metrics import mean_squared_error\n",
				"yr_pred = linreg.predict(Xr)\n",
				"mse = mean_squared_error(yr, yr_pred)\n",
				"print(\"MSE:\", mse)"
			]
		},
		{
			"cell_type": "code",
			"execution_count": 838,
			"id": "5e417d78",
			"metadata": {},
			"outputs": [
				{
					"name": "stdout",
					"output_type": "stream",
					"text": [
						"R^2: 0.9952074191473032\n"
					]
				}
			],
			"source": [
				"# 100. r2_score\n",
				"from sklearn.metrics import r2_score\n",
				"r2 = r2_score(yr, yr_pred)\n",
				"print(\"R^2:\", r2)"
			]
		},
		{
			"cell_type": "code",
			"execution_count": 839,
			"id": "e837a403",
			"metadata": {},
			"outputs": [
				{
					"name": "stdout",
					"output_type": "stream",
					"text": [
						"Explained Variance: 0.9952074191473032\n"
					]
				}
			],
			"source": [
				"# 101. explained_variance_score\n",
				"from sklearn.metrics import explained_variance_score\n",
				"evs = explained_variance_score(yr, yr_pred)\n",
				"print(\"Explained Variance:\", evs)"
			]
		},
		{
			"cell_type": "code",
			"execution_count": 840,
			"id": "bb7bcf65",
			"metadata": {},
			"outputs": [
				{
					"name": "stdout",
					"output_type": "stream",
					"text": [
						"MAE: 6.442653364486241\n"
					]
				}
			],
			"source": [
				"# 102. mean_absolute_error\n",
				"from sklearn.metrics import mean_absolute_error\n",
				"mae = mean_absolute_error(yr, yr_pred)\n",
				"print(\"MAE:\", mae)"
			]
		},
		{
			"cell_type": "code",
			"execution_count": 841,
			"id": "71b8cd61",
			"metadata": {},
			"outputs": [
				{
					"name": "stdout",
					"output_type": "stream",
					"text": [
						"MedAE: 5.150110653387886\n"
					]
				}
			],
			"source": [
				"# 103. median_absolute_error\n",
				"from sklearn.metrics import median_absolute_error\n",
				"medae = median_absolute_error(yr, yr_pred)\n",
				"print(\"MedAE:\", medae)"
			]
		},
		{
			"cell_type": "code",
			"execution_count": 842,
			"id": "53cd42b0",
			"metadata": {},
			"outputs": [
				{
					"name": "stdout",
					"output_type": "stream",
					"text": [
						"Max error: 24.651626301416023\n"
					]
				}
			],
			"source": [
				"# 104. max_error\n",
				"from sklearn.metrics import max_error\n",
				"mx_err = max_error(yr, yr_pred)\n",
				"print(\"Max error:\", mx_err)"
			]
		},
		{
			"cell_type": "markdown",
			"id": "bcdea1d2",
			"metadata": {},
			"source": [
				"## S. Semi-supervised（sklearn.semi_supervised）"
			]
		},
		{
			"cell_type": "code",
			"execution_count": 843,
			"id": "a6168d5d",
			"metadata": {},
			"outputs": [
				{
					"name": "stdout",
					"output_type": "stream",
					"text": [
						"LabelPropagation classes: [0]\n"
					]
				}
			],
			"source": [
				"# 105. LabelPropagation\n",
				"from sklearn.semi_supervised import LabelPropagation\n",
				"lp = LabelPropagation()\n",
				"X_semi = iris.data[:20]\n",
				"y_semi = iris.target[:20]\n",
				"y_semi[10:] = -1  # 未标记\n",
				"lp.fit(X_semi, y_semi)\n",
				"print(\"LabelPropagation classes:\", lp.classes_)"
			]
		},
		{
			"cell_type": "code",
			"execution_count": 844,
			"id": "b9cdfeb2",
			"metadata": {},
			"outputs": [
				{
					"name": "stdout",
					"output_type": "stream",
					"text": [
						"LabelSpreading transduction: [0 0 0 0 0 0 0 0 0 0 0 0 0 0 0 0 0 0 0 0]\n"
					]
				}
			],
			"source": [
				"# 106. LabelSpreading\n",
				"from sklearn.semi_supervised import LabelSpreading\n",
				"ls = LabelSpreading()\n",
				"ls.fit(X_semi, y_semi)\n",
				"print(\"LabelSpreading transduction:\", ls.transduction_)"
			]
		},
		{
			"cell_type": "markdown",
			"id": "388c3808",
			"metadata": {},
			"source": [
				"## T. Model persistence（sklearn.externals.joblib / pickle）"
			]
		},
		{
			"cell_type": "code",
			"execution_count": 845,
			"id": "51b1dfd3",
			"metadata": {},
			"outputs": [
				{
					"name": "stdout",
					"output_type": "stream",
					"text": [
						"Model saved/loaded via joblib.\n"
					]
				}
			],
			"source": [
				"# 107. joblib.dump / joblib.load\n",
				"import joblib\n",
				"filename = 'logreg_model.joblib'\n",
				"# joblib.dump(logreg, filename)\n",
				"# loaded_model = joblib.load(filename)\n",
				"print(\"Model saved/loaded via joblib.\")"
			]
		},
		{
			"cell_type": "markdown",
			"id": "5c154faa",
			"metadata": {},
			"source": [
				"## U. Cross decomposition（sklearn.cross_decomposition）"
			]
		},
		{
			"cell_type": "code",
			"execution_count": 846,
			"id": "15d2037c",
			"metadata": {},
			"outputs": [
				{
					"name": "stdout",
					"output_type": "stream",
					"text": [
						"PLSRegression x_rotations: (3, 2)\n"
					]
				}
			],
			"source": [
				"# 108. PLSRegression\n",
				"from sklearn.cross_decomposition import PLSRegression\n",
				"pls = PLSRegression(n_components=2)\n",
				"pls.fit(Xr, yr)\n",
				"print(\"PLSRegression x_rotations:\", pls.x_rotations_.shape)"
			]
		},
		{
			"cell_type": "code",
			"execution_count": 847,
			"id": "46fa8eb8",
			"metadata": {},
			"outputs": [
				{
					"name": "stdout",
					"output_type": "stream",
					"text": [
						"CCA x_weights_: [[0.96250719]\n",
						" [0.27125617]]\n"
					]
				}
			],
			"source": [
				"# 109. CCA (Canonical Correlation Analysis)\n",
				"from sklearn.cross_decomposition import CCA\n",
				"cca = CCA(n_components=1)\n",
				"X_cca = Xr[:, :2]\n",
				"cca.fit(X_cca, yr.reshape(-1,1))\n",
				"print(\"CCA x_weights_:\", cca.x_weights_)"
			]
		},
		{
			"cell_type": "markdown",
			"id": "ed11165a",
			"metadata": {},
			"source": [
				"## V. Feature extraction（sklearn.feature_extraction）"
			]
		},
		{
			"cell_type": "code",
			"execution_count": 848,
			"id": "bde7d44c",
			"metadata": {},
			"outputs": [
				{
					"name": "stdout",
					"output_type": "stream",
					"text": [
						"CountVectorizer vocab: {'this': 4, 'is': 1, 'pen': 2, 'that': 3, 'book': 0}\n"
					]
				}
			],
			"source": [
				"# 110. CountVectorizer (文本)\n",
				"from sklearn.feature_extraction.text import CountVectorizer\n",
				"cv = CountVectorizer()\n",
				"corpus = [\"This is a pen\", \"That is a book\"]\n",
				"X_cv = cv.fit_transform(corpus)\n",
				"print(\"CountVectorizer vocab:\", cv.vocabulary_)"
			]
		},
		{
			"cell_type": "code",
			"execution_count": 849,
			"id": "c7a6e850",
			"metadata": {},
			"outputs": [
				{
					"name": "stdout",
					"output_type": "stream",
					"text": [
						"Tfidf shape: (2, 5)\n"
					]
				}
			],
			"source": [
				"# 111. TfidfVectorizer\n",
				"from sklearn.feature_extraction.text import TfidfVectorizer\n",
				"tv = TfidfVectorizer()\n",
				"X_tv = tv.fit_transform(corpus)\n",
				"print(\"Tfidf shape:\", X_tv.shape)"
			]
		},
		{
			"cell_type": "code",
			"execution_count": 850,
			"id": "af5b62f5",
			"metadata": {},
			"outputs": [
				{
					"name": "stdout",
					"output_type": "stream",
					"text": [
						"[[ 0.          0.          1.          0.          0.          0.\n",
						"   0.          0.          0.          0.        ]\n",
						" [ 0.          0.          0.          0.          0.57735027 -0.57735027\n",
						"   0.          0.57735027  0.          0.        ]]\n"
					]
				}
			],
			"source": [
				"# 112. HashingVectorizer\n",
				"from sklearn.feature_extraction.text import HashingVectorizer\n",
				"hv = HashingVectorizer(n_features=10)\n",
				"X_hv = hv.fit_transform(corpus)\n",
				"print(X_hv.toarray())"
			]
		},
		{
			"cell_type": "code",
			"execution_count": 851,
			"id": "d7f1ac56",
			"metadata": {},
			"outputs": [
				{
					"name": "stdout",
					"output_type": "stream",
					"text": [
						"Feature names: ['blue' 'green' 'red']\n"
					]
				}
			],
			"source": [
				"# 113. DictVectorizer\n",
				"from sklearn.feature_extraction import DictVectorizer\n",
				"dv = DictVectorizer()\n",
				"data_dict = [{'red':2, 'blue':3},{'blue':1,'green':5}]\n",
				"X_dv = dv.fit_transform(data_dict)\n",
				"print(\"Feature names:\", dv.get_feature_names_out())"
			]
		},
		{
			"cell_type": "markdown",
			"id": "6192d4e9",
			"metadata": {},
			"source": [
				"## W. Outlier detection（sklearn.ensemble / sklearn.neighbors）"
			]
		},
		{
			"cell_type": "code",
			"execution_count": 852,
			"id": "e2869d33",
			"metadata": {},
			"outputs": [
				{
					"name": "stdout",
					"output_type": "stream",
					"text": [
						"IsolationForest outlier labels: [-1  1]\n"
					]
				}
			],
			"source": [
				"# 114. IsolationForest\n",
				"from sklearn.ensemble import IsolationForest\n",
				"iso_f = IsolationForest(random_state=42)\n",
				"iso_f.fit(Xb)\n",
				"pred_outliers = iso_f.predict(Xb)\n",
				"print(\"IsolationForest outlier labels:\", np.unique(pred_outliers))"
			]
		},
		{
			"cell_type": "code",
			"execution_count": 853,
			"id": "28b2c505",
			"metadata": {},
			"outputs": [
				{
					"name": "stdout",
					"output_type": "stream",
					"text": [
						"LOF outlier labels: [-1  1]\n"
					]
				}
			],
			"source": [
				"# 115. LocalOutlierFactor\n",
				"from sklearn.neighbors import LocalOutlierFactor\n",
				"lof = LocalOutlierFactor(n_neighbors=5)\n",
				"outlier_labels = lof.fit_predict(Xb)\n",
				"print(\"LOF outlier labels:\", np.unique(outlier_labels))"
			]
		},
		{
			"cell_type": "markdown",
			"id": "d561304c",
			"metadata": {},
			"source": [
				"## X. Impute（sklearn.impute）"
			]
		},
		{
			"cell_type": "code",
			"execution_count": 854,
			"id": "716527ad",
			"metadata": {},
			"outputs": [
				{
					"name": "stdout",
					"output_type": "stream",
					"text": [
						"Imputed first row: [5.84615385 2.4        3.7        1.        ]\n"
					]
				}
			],
			"source": [
				"# 116. SimpleImputer\n",
				"from sklearn.impute import SimpleImputer\n",
				"imp = SimpleImputer(strategy='mean')\n",
				"X_nan = X_train.astype(float)\n",
				"X_nan[0,0] = np.nan\n",
				"X_imp = imp.fit_transform(X_nan)\n",
				"print(\"Imputed first row:\", X_imp[0])"
			]
		},
		{
			"cell_type": "code",
			"execution_count": 855,
			"id": "8bbd1331",
			"metadata": {},
			"outputs": [
				{
					"name": "stdout",
					"output_type": "stream",
					"text": [
						"KNNImputer first row: [5.6 2.4 3.7 1. ]\n"
					]
				}
			],
			"source": [
				"# 117. KNNImputer\n",
				"from sklearn.impute import KNNImputer\n",
				"knnimp = KNNImputer(n_neighbors=2)\n",
				"X_knnimp = knnimp.fit_transform(X_nan)\n",
				"print(\"KNNImputer first row:\", X_knnimp[0])"
			]
		},
		{
			"cell_type": "markdown",
			"id": "db3bce46",
			"metadata": {},
			"source": [
				"## Y. Polynomial / pipeline / etc."
			]
		},
		{
			"cell_type": "code",
			"execution_count": 856,
			"id": "52e3bca8",
			"metadata": {},
			"outputs": [
				{
					"name": "stdout",
					"output_type": "stream",
					"text": [
						"Poly+LR R^2: 0.995715868519225\n"
					]
				}
			],
			"source": [
				"# 118. PolynomialFeatures + LinearRegression pipeline\n",
				"poly_lr = Pipeline([\n",
				"    ('poly', PolynomialFeatures(degree=3)),\n",
				"    ('linreg', LinearRegression())\n",
				"])\n",
				"poly_lr.fit(Xr, yr)\n",
				"print(\"Poly+LR R^2:\", poly_lr.score(Xr, yr))"
			]
		},
		{
			"cell_type": "markdown",
			"id": "dc66e78e",
			"metadata": {},
			"source": [
				"## Z. 更多 metrics（继续 sklearn.metrics）"
			]
		},
		{
			"cell_type": "code",
			"execution_count": 857,
			"id": "abbbf4d5",
			"metadata": {},
			"outputs": [
				{
					"name": "stdout",
					"output_type": "stream",
					"text": [
						"Jaccard score: 1.0\n"
					]
				}
			],
			"source": [
				"# 119. jaccard_score\n",
				"from sklearn.metrics import jaccard_score\n",
				"y_pred_bin = (y_pred == 2).astype(int)\n",
				"y_test_bin = (y_test == 2).astype(int)\n",
				"js = jaccard_score(y_test_bin, y_pred_bin)\n",
				"print(\"Jaccard score:\", js)"
			]
		},
		{
			"cell_type": "code",
			"execution_count": 858,
			"id": "8bf8a270",
			"metadata": {},
			"outputs": [
				{
					"name": "stdout",
					"output_type": "stream",
					"text": [
						"Hinge loss: 0.0\n"
					]
				}
			],
			"source": [
				"# 120. hinge_loss\n",
				"from sklearn.metrics import hinge_loss\n",
				"# hinge loss needs decision_function or raw scores,\n",
				"try:\n",
				"    y_decision = svc.decision_function(X_test)\n",
				"    hl = hinge_loss(y_test, y_decision)\n",
				"    print(\"Hinge loss:\", hl)\n",
				"except:\n",
				"    print(\"Hinge loss not applicable for multi-class by default.\")"
			]
		},
		{
			"cell_type": "markdown",
			"id": "7328f959",
			"metadata": {},
			"source": [
				"（已 120 条，继续以下 80 条）"
			]
		},
		{
			"cell_type": "code",
			"execution_count": 859,
			"id": "118ec25f",
			"metadata": {},
			"outputs": [
				{
					"name": "stdout",
					"output_type": "stream",
					"text": [
						"Cohen Kappa: 1.0\n"
					]
				}
			],
			"source": [
				"# 121. cohen_kappa_score\n",
				"from sklearn.metrics import cohen_kappa_score\n",
				"ck = cohen_kappa_score(y_test, y_pred)\n",
				"print(\"Cohen Kappa:\", ck)"
			]
		},
		{
			"cell_type": "code",
			"execution_count": 860,
			"id": "e2c265bc",
			"metadata": {},
			"outputs": [
				{
					"name": "stdout",
					"output_type": "stream",
					"text": [
						"Log loss: 1.33582102875078\n"
					]
				}
			],
			"source": [
				"# 122. log_loss\n",
				"from sklearn.metrics import log_loss\n",
				"try:\n",
				"    ll = log_loss((y_test==2).astype(int), y_prob)\n",
				"    print(\"Log loss:\", ll)\n",
				"except:\n",
				"    print(\"Log loss error.\")"
			]
		},
		{
			"cell_type": "code",
			"execution_count": 861,
			"id": "6671ef2e",
			"metadata": {},
			"outputs": [
				{
					"name": "stdout",
					"output_type": "stream",
					"text": [
						"Zero-one loss: 0.0\n"
					]
				}
			],
			"source": [
				"# 123. zero_one_loss\n",
				"from sklearn.metrics import zero_one_loss\n",
				"z1 = zero_one_loss(y_test, y_pred)\n",
				"print(\"Zero-one loss:\", z1)"
			]
		},
		{
			"cell_type": "code",
			"execution_count": 862,
			"id": "2fc86040",
			"metadata": {},
			"outputs": [
				{
					"name": "stdout",
					"output_type": "stream",
					"text": [
						"Custom scorer F1: [0.71059908 0.72138952 0.79487179]\n"
					]
				}
			],
			"source": [
				"# 124. make_scorer\n",
				"from sklearn.metrics import make_scorer\n",
				"custom_scorer = make_scorer(f1_score, average='macro')\n",
				"cv_score = cross_val_score(DecisionTreeClassifier(), iris.data, iris.target, scoring=custom_scorer, cv=3)\n",
				"print(\"Custom scorer F1:\", cv_score)"
			]
		},
		{
			"cell_type": "markdown",
			"id": "b72b7bd0",
			"metadata": {},
			"source": [
				"## AA. Dummy estimators（sklearn.dummy）"
			]
		},
		{
			"cell_type": "code",
			"execution_count": 863,
			"id": "6b8b99e0",
			"metadata": {},
			"outputs": [
				{
					"name": "stdout",
					"output_type": "stream",
					"text": [
						"DummyClassifier score: 0.28888888888888886\n"
					]
				}
			],
			"source": [
				"# 125. DummyClassifier\n",
				"from sklearn.dummy import DummyClassifier\n",
				"dc = DummyClassifier(strategy='most_frequent')\n",
				"dc.fit(X_train, y_train)\n",
				"print(\"DummyClassifier score:\", dc.score(X_test, y_test))"
			]
		},
		{
			"cell_type": "code",
			"execution_count": 864,
			"id": "57f569cf",
			"metadata": {},
			"outputs": [
				{
					"name": "stdout",
					"output_type": "stream",
					"text": [
						"DummyRegressor R^2: 0.0\n"
					]
				}
			],
			"source": [
				"# 126. DummyRegressor\n",
				"from sklearn.dummy import DummyRegressor\n",
				"dr = DummyRegressor(strategy='mean')\n",
				"dr.fit(Xr, yr)\n",
				"print(\"DummyRegressor R^2:\", dr.score(Xr, yr))"
			]
		},
		{
			"cell_type": "markdown",
			"id": "2e50bd94",
			"metadata": {},
			"source": [
				"## AB. Discriminant analysis（sklearn.discriminant_analysis）"
			]
		},
		{
			"cell_type": "code",
			"execution_count": 865,
			"id": "6419cc53",
			"metadata": {},
			"outputs": [
				{
					"name": "stdout",
					"output_type": "stream",
					"text": [
						"LDA score: 1.0\n"
					]
				}
			],
			"source": [
				"# 127. LinearDiscriminantAnalysis\n",
				"from sklearn.discriminant_analysis import LinearDiscriminantAnalysis\n",
				"lda = LinearDiscriminantAnalysis()\n",
				"lda.fit(X_train, y_train)\n",
				"print(\"LDA score:\", lda.score(X_test, y_test))"
			]
		},
		{
			"cell_type": "code",
			"execution_count": 866,
			"id": "06d9e7da",
			"metadata": {},
			"outputs": [
				{
					"name": "stdout",
					"output_type": "stream",
					"text": [
						"QDA score: 1.0\n"
					]
				}
			],
			"source": [
				"# 128. QuadraticDiscriminantAnalysis\n",
				"from sklearn.discriminant_analysis import QuadraticDiscriminantAnalysis\n",
				"qda = QuadraticDiscriminantAnalysis()\n",
				"qda.fit(X_train, y_train)\n",
				"print(\"QDA score:\", qda.score(X_test, y_test))"
			]
		},
		{
			"cell_type": "markdown",
			"id": "1c58a485",
			"metadata": {},
			"source": [
				"## AC. Multi-output（sklearn.multioutput）"
			]
		},
		{
			"cell_type": "code",
			"execution_count": 867,
			"id": "dafb7d59",
			"metadata": {},
			"outputs": [
				{
					"name": "stdout",
					"output_type": "stream",
					"text": [
						"MultiOutputRegressor predict: [[-116.88760626 -106.88760626]\n",
						" [ -25.58486373  -15.58486373]]\n"
					]
				}
			],
			"source": [
				"# 129. MultiOutputRegressor\n",
				"from sklearn.multioutput import MultiOutputRegressor\n",
				"mo_reg = MultiOutputRegressor(DecisionTreeRegressor())\n",
				"# Create some multi-output data:\n",
				"Y_multi = np.vstack([yr, yr + 10]).T  # two targets\n",
				"mo_reg.fit(Xr, Y_multi)\n",
				"print(\"MultiOutputRegressor predict:\", mo_reg.predict(Xr[:2]))"
			]
		},
		{
			"cell_type": "code",
			"execution_count": 868,
			"id": "9a22405d",
			"metadata": {},
			"outputs": [
				{
					"name": "stdout",
					"output_type": "stream",
					"text": [
						"MultiOutputClassifier predict: [[0 0]\n",
						" [0 0]]\n"
					]
				}
			],
			"source": [
				"# 130. MultiOutputClassifier\n",
				"from sklearn.multioutput import MultiOutputClassifier\n",
				"Y_multi_class = np.vstack([iris.target, (iris.target>1).astype(int)]).T  # 2-class + binary?\n",
				"mo_clf = MultiOutputClassifier(DecisionTreeClassifier())\n",
				"mo_clf.fit(iris.data, Y_multi_class)\n",
				"print(\"MultiOutputClassifier predict:\", mo_clf.predict(iris.data[:2]))"
			]
		},
		{
			"cell_type": "markdown",
			"id": "de1f785c",
			"metadata": {},
			"source": [
				"## AD. Compose（sklearn.compose）"
			]
		},
		{
			"cell_type": "code",
			"execution_count": 869,
			"id": "5aeb1d2b",
			"metadata": {},
			"outputs": [
				{
					"name": "stdout",
					"output_type": "stream",
					"text": [
						"ColumnTransformer shape: (150, 4)\n"
					]
				}
			],
			"source": [
				"# 131. ColumnTransformer\n",
				"from sklearn.compose import ColumnTransformer\n",
				"ct = ColumnTransformer([\n",
				"    ('scaler', StandardScaler(), [0,1]),\n",
				"    ('minmax', MinMaxScaler(), [2,3])\n",
				"])\n",
				"X_ct = ct.fit_transform(iris.data)\n",
				"print(\"ColumnTransformer shape:\", X_ct.shape)"
			]
		},
		{
			"cell_type": "code",
			"execution_count": 870,
			"id": "d556384f",
			"metadata": {},
			"outputs": [
				{
					"name": "stdout",
					"output_type": "stream",
					"text": [
						"TransformedTargetRegressor R^2: 0.9952074191473032\n"
					]
				}
			],
			"source": [
				"# 132. TransformedTargetRegressor\n",
				"from sklearn.compose import TransformedTargetRegressor\n",
				"ttr = TransformedTargetRegressor(regressor=LinearRegression(), transformer=StandardScaler())\n",
				"ttr.fit(Xr, yr)\n",
				"print(\"TransformedTargetRegressor R^2:\", ttr.score(Xr, yr))"
			]
		},
		{
			"cell_type": "markdown",
			"id": "8116a16c",
			"metadata": {},
			"source": [
				"## AE. Model inspection（sklearn.inspection）"
			]
		},
		{
			"cell_type": "code",
			"execution_count": 871,
			"id": "55793eab",
			"metadata": {},
			"outputs": [
				{
					"name": "stdout",
					"output_type": "stream",
					"text": [
						"Permutation importances: [0.         0.         0.13333333 0.23555556]\n"
					]
				}
			],
			"source": [
				"# 133. permutation_importance\n",
				"from sklearn.inspection import permutation_importance\n",
				"rfc.fit(X_train, y_train)\n",
				"result = permutation_importance(rfc, X_test, y_test, n_repeats=5)\n",
				"print(\"Permutation importances:\", result.importances_mean)"
			]
		},
		{
			"cell_type": "code",
			"execution_count": 872,
			"id": "d6d6064b",
			"metadata": {},
			"outputs": [
				{
					"name": "stdout",
					"output_type": "stream",
					"text": [
						"plot_partial_dependence might differ by version.\n"
					]
				}
			],
			"source": [
				"# 134. plot_partial_dependence (版本差异: sklearn<1.0 -> partial_dependence)\n",
				"try:\n",
				"    from sklearn.inspection import PartialDependenceDisplay\n",
				"    PartialDependenceDisplay.from_estimator(rfc, X_train, [0,1])\n",
				"    import matplotlib.pyplot as plt\n",
				"    plt.show()\n",
				"except:\n",
				"    print(\"plot_partial_dependence might differ by version.\")"
			]
		},
		{
			"cell_type": "markdown",
			"id": "fdf4cd6e",
			"metadata": {},
			"source": [
				"## AF. Linear model illusions"
			]
		},
		{
			"cell_type": "code",
			"execution_count": 873,
			"id": "97cbd0d6",
			"metadata": {},
			"outputs": [
				{
					"name": "stdout",
					"output_type": "stream",
					"text": [
						"BayesianRidge coef: [96.53326541 31.37724385 65.22082444]\n"
					]
				}
			],
			"source": [
				"# 135. BayesianRidge\n",
				"from sklearn.linear_model import BayesianRidge\n",
				"br = BayesianRidge()\n",
				"br.fit(Xr, yr)\n",
				"print(\"BayesianRidge coef:\", br.coef_)"
			]
		},
		{
			"cell_type": "code",
			"execution_count": 874,
			"id": "3884e3e4",
			"metadata": {},
			"outputs": [
				{
					"name": "stdout",
					"output_type": "stream",
					"text": [
						"ARDRegression coef: [96.53897488 31.36039344 65.2184107 ]\n"
					]
				}
			],
			"source": [
				"# 136. ARDRegression\n",
				"from sklearn.linear_model import ARDRegression\n",
				"ard = ARDRegression()\n",
				"ard.fit(Xr, yr)\n",
				"print(\"ARDRegression coef:\", ard.coef_)"
			]
		},
		{
			"cell_type": "markdown",
			"id": "6a4b6592",
			"metadata": {},
			"source": [
				"## AG. Kernel approximation（sklearn.kernel_approximation）"
			]
		},
		{
			"cell_type": "code",
			"execution_count": 875,
			"id": "1e942c65",
			"metadata": {},
			"outputs": [
				{
					"name": "stdout",
					"output_type": "stream",
					"text": [
						"RBFSampler shape: (105, 100)\n"
					]
				}
			],
			"source": [
				"# 137. RBFSampler\n",
				"from sklearn.kernel_approximation import RBFSampler\n",
				"rbf_sampler = RBFSampler(gamma=1, random_state=42)\n",
				"X_features = rbf_sampler.fit_transform(X_train)\n",
				"print(\"RBFSampler shape:\", X_features.shape)"
			]
		},
		{
			"cell_type": "code",
			"execution_count": 876,
			"id": "c12a3af5",
			"metadata": {},
			"outputs": [
				{
					"name": "stdout",
					"output_type": "stream",
					"text": [
						"Nystroem shape: (105, 100)\n"
					]
				}
			],
			"source": [
				"# 138. Nystroem\n",
				"from sklearn.kernel_approximation import Nystroem\n",
				"nys = Nystroem(kernel='rbf', gamma=1, random_state=42)\n",
				"X_nys = nys.fit_transform(X_train)\n",
				"print(\"Nystroem shape:\", X_nys.shape)"
			]
		},
		{
			"cell_type": "markdown",
			"id": "34579508",
			"metadata": {},
			"source": [
				"## AH. Model ensembling with Voting / Stacking"
			]
		},
		{
			"cell_type": "code",
			"execution_count": 877,
			"id": "9dbb9772",
			"metadata": {},
			"outputs": [
				{
					"name": "stdout",
					"output_type": "stream",
					"text": [
						"VotingClassifier score: 1.0\n"
					]
				}
			],
			"source": [
				"# 139. VotingClassifier\n",
				"from sklearn.ensemble import VotingClassifier\n",
				"vote_clf = VotingClassifier(\n",
				"    estimators=[('lr', LogisticRegression()), ('dt', DecisionTreeClassifier())],\n",
				"    voting='hard'\n",
				")\n",
				"vote_clf.fit(X_train, y_train)\n",
				"print(\"VotingClassifier score:\", vote_clf.score(X_test, y_test))"
			]
		},
		{
			"cell_type": "code",
			"execution_count": 878,
			"id": "29ace6f2",
			"metadata": {},
			"outputs": [
				{
					"name": "stdout",
					"output_type": "stream",
					"text": [
						"VotingRegressor R^2: 0.9915916176018827\n"
					]
				}
			],
			"source": [
				"# 140. VotingRegressor\n",
				"from sklearn.ensemble import VotingRegressor\n",
				"vote_reg = VotingRegressor(\n",
				"    estimators=[('lr', LinearRegression()), ('rf', RandomForestRegressor(n_estimators=10))]\n",
				")\n",
				"vote_reg.fit(Xr, yr)\n",
				"print(\"VotingRegressor R^2:\", vote_reg.score(Xr, yr))"
			]
		},
		{
			"cell_type": "code",
			"execution_count": 879,
			"id": "007cb914",
			"metadata": {},
			"outputs": [
				{
					"name": "stdout",
					"output_type": "stream",
					"text": [
						"StackingClassifier score: 1.0\n"
					]
				}
			],
			"source": [
				"# 141. StackingClassifier\n",
				"from sklearn.ensemble import StackingClassifier\n",
				"stack_clf = StackingClassifier(\n",
				"    estimators=[('svc', SVC()), ('gnb', GaussianNB())],\n",
				"    final_estimator=LogisticRegression()\n",
				")\n",
				"stack_clf.fit(X_train, y_train)\n",
				"print(\"StackingClassifier score:\", stack_clf.score(X_test, y_test))"
			]
		},
		{
			"cell_type": "code",
			"execution_count": 880,
			"id": "a3e8a132",
			"metadata": {},
			"outputs": [
				{
					"name": "stdout",
					"output_type": "stream",
					"text": [
						"StackingRegressor R^2: 0.9951322905432562\n"
					]
				}
			],
			"source": [
				"# 142. StackingRegressor\n",
				"from sklearn.ensemble import StackingRegressor\n",
				"stack_reg = StackingRegressor(\n",
				"    estimators=[('lin', LinearRegression()), ('rf', RandomForestRegressor(n_estimators=10))],\n",
				"    final_estimator=Ridge()\n",
				")\n",
				"stack_reg.fit(Xr, yr)\n",
				"print(\"StackingRegressor R^2:\", stack_reg.score(Xr, yr))"
			]
		},
		{
			"cell_type": "markdown",
			"id": "d2b6f99c",
			"metadata": {},
			"source": [
				"## AI. Bagging / Extra stuff"
			]
		},
		{
			"cell_type": "code",
			"execution_count": 881,
			"id": "58c27b8d",
			"metadata": {},
			"outputs": [
				{
					"name": "stdout",
					"output_type": "stream",
					"text": [
						"BaggingClassifier score: 1.0\n"
					]
				}
			],
			"source": [
				"# 143. BaggingClassifier\n",
				"from sklearn.ensemble import BaggingClassifier\n",
				"bag_clf = BaggingClassifier(estimator=DecisionTreeClassifier(), n_estimators=10)\n",
				"bag_clf.fit(X_train, y_train)\n",
				"print(\"BaggingClassifier score:\", bag_clf.score(X_test, y_test))"
			]
		},
		{
			"cell_type": "code",
			"execution_count": 882,
			"id": "8e33022b",
			"metadata": {},
			"outputs": [
				{
					"name": "stdout",
					"output_type": "stream",
					"text": [
						"BaggingRegressor R^2: 0.9818587744980023\n"
					]
				}
			],
			"source": [
				"# 144. BaggingRegressor\n",
				"from sklearn.ensemble import BaggingRegressor\n",
				"bag_reg = BaggingRegressor(estimator=DecisionTreeRegressor(), n_estimators=10)\n",
				"bag_reg.fit(Xr, yr)\n",
				"print(\"BaggingRegressor R^2:\", bag_reg.score(Xr, yr))"
			]
		},
		{
			"cell_type": "markdown",
			"id": "3d1db69c",
			"metadata": {},
			"source": [
				"## AJ. K-Means advanced usage"
			]
		},
		{
			"cell_type": "code",
			"execution_count": 883,
			"id": "0eed152b",
			"metadata": {},
			"outputs": [
				{
					"name": "stdout",
					"output_type": "stream",
					"text": [
						"Inertia: 167.6183892049733\n"
					]
				}
			],
			"source": [
				"# 145. KMeans init='k-means++'\n",
				"km_pp = KMeans(n_clusters=3, init='k-means++', n_init=10)\n",
				"km_pp.fit(Xb)\n",
				"print(\"Inertia:\", km_pp.inertia_)"
			]
		},
		{
			"cell_type": "markdown",
			"id": "b9e2ab49",
			"metadata": {},
			"source": [
				"## AK. Probability calibration"
			]
		},
		{
			"cell_type": "code",
			"execution_count": 884,
			"id": "ad304995",
			"metadata": {},
			"outputs": [
				{
					"data": {
						"image/png": "[encoded data removed]",
						"text/plain": [
							"<Figure size 640x480 with 1 Axes>"
						]
					},
					"metadata": {},
					"output_type": "display_data"
				}
			],
			"source": [
				"# 146. CalibrationDisplay\n",
				"try:\n",
				"    from sklearn.calibration import CalibrationDisplay\n",
				"    y_prob_cal = cal_clf.predict_proba(X_test)[:,1]\n",
				"    disp = CalibrationDisplay.from_predictions((y_test==2).astype(int), y_prob_cal)\n",
				"    import matplotlib.pyplot as plt\n",
				"    plt.show()\n",
				"except:\n",
				"    print(\"CalibrationDisplay might differ by version.\")"
			]
		},
		{
			"cell_type": "markdown",
			"id": "4ac6c94e",
			"metadata": {},
			"source": [
				"## AL. Additional pipeline examples"
			]
		},
		{
			"cell_type": "code",
			"execution_count": 885,
			"id": "7c51133c",
			"metadata": {},
			"outputs": [
				{
					"name": "stdout",
					"output_type": "stream",
					"text": [
						"FeatureUnion shape: (1797, 4)\n"
					]
				}
			],
			"source": [
				"# 147. FeatureUnion with multiple transformations\n",
				"from sklearn.decomposition import PCA, TruncatedSVD\n",
				"fu = FeatureUnion([\n",
				"    ('pca', PCA(n_components=2)),\n",
				"    ('svd', TruncatedSVD(n_components=2))\n",
				"])\n",
				"X_fu = fu.fit_transform(digits.data)\n",
				"print(\"FeatureUnion shape:\", X_fu.shape)"
			]
		},
		{
			"cell_type": "markdown",
			"id": "44a84e30",
			"metadata": {},
			"source": [
				"## AM. Checking partial_fit"
			]
		},
		{
			"cell_type": "code",
			"execution_count": 886,
			"id": "2cc0f8ba",
			"metadata": {},
			"outputs": [
				{
					"name": "stdout",
					"output_type": "stream",
					"text": [
						"SGD partial_fit score: 0.7111111111111111\n"
					]
				}
			],
			"source": [
				"# 148. partial_fit with SGDClassifier\n",
				"sgdc_pf = SGDClassifier(max_iter=1, warm_start=True)\n",
				"for i in range(5):\n",
				"    sgdc_pf.partial_fit(X_train, y_train, classes=np.unique(y_train))\n",
				"print(\"SGD partial_fit score:\", sgdc_pf.score(X_test, y_test))"
			]
		},
		{
			"cell_type": "markdown",
			"id": "f917a175",
			"metadata": {},
			"source": [
				"## AN. Checking hashing / textual"
			]
		},
		{
			"cell_type": "code",
			"execution_count": 887,
			"id": "d2280ad3",
			"metadata": {},
			"outputs": [
				{
					"name": "stdout",
					"output_type": "stream",
					"text": [
						"Text pipeline predict: [0]\n"
					]
				}
			],
			"source": [
				"# 149. Pipeline with HashingVectorizer + SGDClassifier\n",
				"text_pipeline = Pipeline([\n",
				"    ('hv', HashingVectorizer(n_features=10)),\n",
				"    ('sgd', SGDClassifier())\n",
				"])\n",
				"text_corpus = [\"cat sat on mat\", \"dog ate bone\", \"cat eats fish\"]\n",
				"y_text = [0,1,0]\n",
				"text_pipeline.fit(text_corpus, y_text)\n",
				"print(\"Text pipeline predict:\", text_pipeline.predict([\"cat bone\"]))"
			]
		},
		{
			"cell_type": "markdown",
			"id": "474a6e90",
			"metadata": {},
			"source": [
				"## AO. Checking approximate nearest neighbors (not natively in sklearn<1.2, usually external)"
			]
		},
		{
			"cell_type": "markdown",
			"id": "0970dbe7",
			"metadata": {},
			"source": [
				"## AP. Gaussian mixture（sklearn.mixture）"
			]
		},
		{
			"cell_type": "code",
			"execution_count": 888,
			"id": "bd8c31ce",
			"metadata": {},
			"outputs": [
				{
					"name": "stdout",
					"output_type": "stream",
					"text": [
						"GMM means:\n",
						" [[ 9.01682696 -7.2547755 ]\n",
						" [-3.90418761  7.3793979 ]\n",
						" [ 6.60309783 -4.90026427]]\n"
					]
				}
			],
			"source": [
				"# 150. GaussianMixture\n",
				"from sklearn.mixture import GaussianMixture\n",
				"gm = GaussianMixture(n_components=3, random_state=42)\n",
				"gm.fit(Xb)\n",
				"labels_gm = gm.predict(Xb)\n",
				"print(\"GMM means:\\n\", gm.means_)"
			]
		},
		{
			"cell_type": "code",
			"execution_count": 889,
			"id": "415e033a",
			"metadata": {},
			"outputs": [
				{
					"name": "stdout",
					"output_type": "stream",
					"text": [
						"Bayesian GMM weights: [6.62059932e-01 3.36027274e-01 1.60144904e-03 2.66867342e-04\n",
						" 4.44778446e-05]\n"
					]
				}
			],
			"source": [
				"# 151. BayesianGaussianMixture\n",
				"from sklearn.mixture import BayesianGaussianMixture\n",
				"bgm = BayesianGaussianMixture(n_components=5, random_state=42)\n",
				"bgm.fit(Xb)\n",
				"print(\"Bayesian GMM weights:\", bgm.weights_)"
			]
		},
		{
			"cell_type": "markdown",
			"id": "f52d94d6",
			"metadata": {},
			"source": [
				"## AQ. LSH / hashing (not native in older sklearn, might skip)."
			]
		},
		{
			"cell_type": "markdown",
			"id": "65cd670d",
			"metadata": {},
			"source": [
				"## AR. Additional ensemble: HistGradientBoosting"
			]
		},
		{
			"cell_type": "code",
			"execution_count": 890,
			"id": "d274ec8a",
			"metadata": {},
			"outputs": [
				{
					"name": "stdout",
					"output_type": "stream",
					"text": [
						"HistGBClassifier: 1.0\n"
					]
				}
			],
			"source": [
				"# 152. HistGradientBoostingClassifier\n",
				"try:\n",
				"    from sklearn.ensemble import HistGradientBoostingClassifier\n",
				"    hgbc = HistGradientBoostingClassifier(max_iter=50)\n",
				"    hgbc.fit(X_train, y_train)\n",
				"    print(\"HistGBClassifier:\", hgbc.score(X_test, y_test))\n",
				"except ImportError:\n",
				"    print(\"HistGradientBoostingClassifier not available in older versions.\")"
			]
		},
		{
			"cell_type": "code",
			"execution_count": 891,
			"id": "739edb56",
			"metadata": {},
			"outputs": [
				{
					"name": "stdout",
					"output_type": "stream",
					"text": [
						"HistGBRegressor R^2: 0.9304340595069537\n"
					]
				}
			],
			"source": [
				"# 153. HistGradientBoostingRegressor\n",
				"try:\n",
				"    from sklearn.ensemble import HistGradientBoostingRegressor\n",
				"    hgbr = HistGradientBoostingRegressor(max_iter=50)\n",
				"    hgbr.fit(Xr, yr)\n",
				"    print(\"HistGBRegressor R^2:\", hgbr.score(Xr, yr))\n",
				"except ImportError:\n",
				"    print(\"HistGradientBoostingRegressor not available.\")"
			]
		},
		{
			"cell_type": "markdown",
			"id": "541eba22",
			"metadata": {},
			"source": [
				"## AS. Neural Net warm_start for partial_fit (MLP not always partial)."
			]
		},
		{
			"cell_type": "markdown",
			"id": "e376293a",
			"metadata": {},
			"source": [
				"## AT. Rarely used: multi_class partial usage"
			]
		},
		{
			"cell_type": "markdown",
			"id": "b4d32a58",
			"metadata": {},
			"source": [
				"## AU. Checking function approximators"
			]
		},
		{
			"cell_type": "markdown",
			"id": "f15b415b",
			"metadata": {},
			"source": [
				"## AV. Additional metrics"
			]
		},
		{
			"cell_type": "code",
			"execution_count": 892,
			"id": "fdc46302",
			"metadata": {},
			"outputs": [
				{
					"name": "stdout",
					"output_type": "stream",
					"text": [
						"Completeness: 0.8904940084278509\n"
					]
				}
			],
			"source": [
				"# 154. completeness_score (for clustering)\n",
				"from sklearn.metrics import completeness_score\n",
				"comp = completeness_score(yb, labels_birch)\n",
				"print(\"Completeness:\", comp)"
			]
		},
		{
			"cell_type": "code",
			"execution_count": 893,
			"id": "61ac3176",
			"metadata": {},
			"outputs": [
				{
					"name": "stdout",
					"output_type": "stream",
					"text": [
						"Homogeneity: 0.8902483235089378\n"
					]
				}
			],
			"source": [
				"# 155. homogeneity_score\n",
				"from sklearn.metrics import homogeneity_score\n",
				"hom = homogeneity_score(yb, labels_birch)\n",
				"print(\"Homogeneity:\", hom)"
			]
		},
		{
			"cell_type": "code",
			"execution_count": 894,
			"id": "57d83ef4",
			"metadata": {},
			"outputs": [
				{
					"name": "stdout",
					"output_type": "stream",
					"text": [
						"V-measure: 0.890371149020103\n"
					]
				}
			],
			"source": [
				"# 156. v_measure_score\n",
				"from sklearn.metrics import v_measure_score\n",
				"vms = v_measure_score(yb, labels_birch)\n",
				"print(\"V-measure:\", vms)"
			]
		},
		{
			"cell_type": "code",
			"execution_count": 895,
			"id": "f24c55b3",
			"metadata": {},
			"outputs": [
				{
					"name": "stdout",
					"output_type": "stream",
					"text": [
						"Adjusted Rand Score: 0.9132194217076949\n"
					]
				}
			],
			"source": [
				"# 157. adjusted_rand_score\n",
				"from sklearn.metrics import adjusted_rand_score\n",
				"ars = adjusted_rand_score(yb, labels_birch)\n",
				"print(\"Adjusted Rand Score:\", ars)"
			]
		},
		{
			"cell_type": "code",
			"execution_count": 896,
			"id": "2946afb8",
			"metadata": {},
			"outputs": [
				{
					"name": "stdout",
					"output_type": "stream",
					"text": [
						"Silhouette: 0.6733568914363327\n"
					]
				}
			],
			"source": [
				"# 158. silhouette_score\n",
				"from sklearn.metrics import silhouette_score\n",
				"sil = silhouette_score(Xb, labels_birch)\n",
				"print(\"Silhouette:\", sil)"
			]
		},
		{
			"cell_type": "markdown",
			"id": "f7da615d",
			"metadata": {},
			"source": [
				"## AW. advanced sampling"
			]
		},
		{
			"cell_type": "markdown",
			"id": "24612f52",
			"metadata": {},
			"source": [
				"## AX. Checking cluster hierarchy"
			]
		},
		{
			"cell_type": "code",
			"execution_count": 897,
			"id": "c2b93354",
			"metadata": {},
			"outputs": [
				{
					"name": "stdout",
					"output_type": "stream",
					"text": [
						"FeatureAgglomeration shape: (150, 2)\n"
					]
				}
			],
			"source": [
				"# 159. Feature agglomeration (as dimensionality reduction)\n",
				"from sklearn.cluster import FeatureAgglomeration\n",
				"fa = FeatureAgglomeration(n_clusters=2)\n",
				"X_fa = fa.fit_transform(iris.data)\n",
				"print(\"FeatureAgglomeration shape:\", X_fa.shape)"
			]
		},
		{
			"cell_type": "markdown",
			"id": "76df502a",
			"metadata": {},
			"source": [
				"## AY. Clustering evaluation"
			]
		},
		{
			"cell_type": "code",
			"execution_count": 898,
			"id": "dd20731a",
			"metadata": {},
			"outputs": [
				{
					"name": "stdout",
					"output_type": "stream",
					"text": [
						"Calinski-Harabasz: 2119.1057418450077\n"
					]
				}
			],
			"source": [
				"# 160. calinski_harabasz_score\n",
				"from sklearn.metrics import calinski_harabasz_score\n",
				"ch = calinski_harabasz_score(Xb, labels_birch)\n",
				"print(\"Calinski-Harabasz:\", ch)"
			]
		},
		{
			"cell_type": "code",
			"execution_count": 899,
			"id": "53e99717",
			"metadata": {},
			"outputs": [
				{
					"name": "stdout",
					"output_type": "stream",
					"text": [
						"Davies-Bouldin: 0.4512152652102747\n"
					]
				}
			],
			"source": [
				"# 161. davies_bouldin_score\n",
				"from sklearn.metrics import davies_bouldin_score\n",
				"dbs = davies_bouldin_score(Xb, labels_birch)\n",
				"print(\"Davies-Bouldin:\", dbs)"
			]
		},
		{
			"cell_type": "markdown",
			"id": "26cad7f1",
			"metadata": {},
			"source": [
				"## AZ. Model selection metadata"
			]
		},
		{
			"cell_type": "markdown",
			"id": "f40239ec",
			"metadata": {},
			"source": [
				"## BA. Checking partial/functional versions"
			]
		},
		{
			"cell_type": "code",
			"execution_count": 900,
			"id": "3de6cfde",
			"metadata": {},
			"outputs": [
				{
					"name": "stdout",
					"output_type": "stream",
					"text": [
						"[[0.00000000e+00 1.89428235e+00 1.71848896e+01 1.74570472e+01\n",
						"  1.05392112e+00]\n",
						" [1.89428235e+00 1.68587394e-07 1.68374164e+01 1.72114839e+01\n",
						"  8.49678805e-01]\n",
						" [1.71848896e+01 1.68374164e+01 0.00000000e+00 9.89726423e-01\n",
						"  1.70591270e+01]\n",
						" [1.74570472e+01 1.72114839e+01 9.89726423e-01 0.00000000e+00\n",
						"  1.73885733e+01]\n",
						" [1.05392112e+00 8.49678805e-01 1.70591270e+01 1.73885733e+01\n",
						"  0.00000000e+00]]\n"
					]
				}
			],
			"source": [
				"# 162. pairwise_distances\n",
				"from sklearn.metrics import pairwise_distances\n",
				"dist_mat = pairwise_distances(Xb[:5], Xb[:5])\n",
				"print(dist_mat)"
			]
		},
		{
			"cell_type": "code",
			"execution_count": 901,
			"id": "f4fb954d",
			"metadata": {},
			"outputs": [
				{
					"name": "stdout",
					"output_type": "stream",
					"text": [
						"[[1.00000000e+00 1.66268254e-01 7.44703775e-65 6.67890105e-67\n",
						"  5.73857105e-01]\n",
						" [1.66268254e-01 1.00000000e+00 2.74829272e-62 4.71355627e-65\n",
						"  6.96995004e-01]\n",
						" [7.44703775e-65 2.74829272e-62 1.00000000e+00 6.12761679e-01\n",
						"  6.41435872e-64]\n",
						" [6.67890105e-67 4.71355627e-65 6.12761679e-01 1.00000000e+00\n",
						"  2.20201903e-66]\n",
						" [5.73857105e-01 6.96995004e-01 6.41435872e-64 2.20201903e-66\n",
						"  1.00000000e+00]]\n"
					]
				}
			],
			"source": [
				"# 163. pairwise_kernels\n",
				"from sklearn.metrics.pairwise import pairwise_kernels\n",
				"kernel_mat = pairwise_kernels(Xb[:5], Xb[:5], metric='rbf')\n",
				"print(kernel_mat)"
			]
		},
		{
			"cell_type": "markdown",
			"id": "8724f688",
			"metadata": {},
			"source": [
				"## BB. Checking Agg clustering with distance threshold"
			]
		},
		{
			"cell_type": "code",
			"execution_count": 902,
			"id": "df84e81a",
			"metadata": {},
			"outputs": [
				{
					"name": "stdout",
					"output_type": "stream",
					"text": [
						"Labels: [ 0  1  2  3  4  5  6  7  8  9 10 11 12 13 14 15 16 17 18 19]\n"
					]
				}
			],
			"source": [
				"# 164. AgglomerativeClustering w/ distance_threshold\n",
				"agg_dist = AgglomerativeClustering(n_clusters=None, distance_threshold=2.0)\n",
				"labels_agg2 = agg_dist.fit_predict(Xb)\n",
				"print(\"Labels:\", np.unique(labels_agg2))"
			]
		},
		{
			"cell_type": "markdown",
			"id": "a88d8a02",
			"metadata": {},
			"source": [
				"## BC. Checking dendrogram"
			]
		},
		{
			"cell_type": "code",
			"execution_count": 903,
			"id": "1a238269",
			"metadata": {},
			"outputs": [
				{
					"name": "stdout",
					"output_type": "stream",
					"text": [
						"Dendrogram can be plotted if needed.\n"
					]
				}
			],
			"source": [
				"# 165. plot_dendrogram is user-defined or from SciPy\n",
				"try:\n",
				"    from scipy.cluster.hierarchy import dendrogram, linkage\n",
				"    Z = linkage(Xb, 'ward')\n",
				"    # dendrogram(Z)\n",
				"    print(\"Dendrogram can be plotted if needed.\")\n",
				"except:\n",
				"    print(\"scipy not installed?\")"
			]
		},
		{
			"cell_type": "markdown",
			"id": "a1f27670",
			"metadata": {},
			"source": [
				"## BD. Checking partial dependencies (some new approach)."
			]
		},
		{
			"cell_type": "markdown",
			"id": "8ed2ce59",
			"metadata": {},
			"source": [
				"## BE. Linear model specialized"
			]
		},
		{
			"cell_type": "code",
			"execution_count": 904,
			"id": "c7eeabb1",
			"metadata": {},
			"outputs": [
				{
					"name": "stdout",
					"output_type": "stream",
					"text": [
						"HuberRegressor coef: [96.53210111 31.60837266 65.49339666]\n"
					]
				}
			],
			"source": [
				"# 166. HuberRegressor\n",
				"from sklearn.linear_model import HuberRegressor\n",
				"hr = HuberRegressor()\n",
				"hr.fit(Xr, yr)\n",
				"print(\"HuberRegressor coef:\", hr.coef_)"
			]
		},
		{
			"cell_type": "code",
			"execution_count": 905,
			"id": "34ad3ab4",
			"metadata": {},
			"outputs": [
				{
					"name": "stdout",
					"output_type": "stream",
					"text": [
						"QuantileRegressor coef: [0. 0. 0.]\n"
					]
				}
			],
			"source": [
				"# 167. QuantileRegressor (>=0.24)\n",
				"try:\n",
				"    from sklearn.linear_model import QuantileRegressor\n",
				"    qr = QuantileRegressor(quantile=0.5)\n",
				"    qr.fit(Xr, yr)\n",
				"    print(\"QuantileRegressor coef:\", qr.coef_[:5])\n",
				"except:\n",
				"    print(\"QuantileRegressor not available.\")"
			]
		},
		{
			"cell_type": "markdown",
			"id": "26db68d0",
			"metadata": {},
			"source": [
				"## BF. Additional sampling / weighting"
			]
		},
		{
			"cell_type": "markdown",
			"id": "86cfac9f",
			"metadata": {},
			"source": [
				"## BG. Covariance (sklearn.covariance)"
			]
		},
		{
			"cell_type": "code",
			"execution_count": 906,
			"id": "c5a000c8",
			"metadata": {},
			"outputs": [
				{
					"name": "stdout",
					"output_type": "stream",
					"text": [
						"EllipticEnvelope outliers: [-1  1]\n"
					]
				}
			],
			"source": [
				"# 168. EllipticEnvelope\n",
				"from sklearn.covariance import EllipticEnvelope\n",
				"ee = EllipticEnvelope(random_state=42)\n",
				"ee.fit(Xb)\n",
				"pred_ee = ee.predict(Xb)\n",
				"print(\"EllipticEnvelope outliers:\", np.unique(pred_ee))"
			]
		},
		{
			"cell_type": "code",
			"execution_count": 907,
			"id": "63ac82fa",
			"metadata": {},
			"outputs": [
				{
					"name": "stdout",
					"output_type": "stream",
					"text": [
						"Covariance_ shape: (2, 2)\n"
					]
				}
			],
			"source": [
				"# 169. EmpiricalCovariance\n",
				"from sklearn.covariance import EmpiricalCovariance\n",
				"ec = EmpiricalCovariance()\n",
				"ec.fit(Xb)\n",
				"print(\"Covariance_ shape:\", ec.covariance_.shape)"
			]
		},
		{
			"cell_type": "code",
			"execution_count": 908,
			"id": "7b80b02a",
			"metadata": {},
			"outputs": [
				{
					"name": "stdout",
					"output_type": "stream",
					"text": [
						"MinCovDet location_: [ 7.79866688 -6.06650149]\n"
					]
				}
			],
			"source": [
				"# 170. MinCovDet\n",
				"from sklearn.covariance import MinCovDet\n",
				"mcd = MinCovDet(random_state=42)\n",
				"mcd.fit(Xb)\n",
				"print(\"MinCovDet location_:\", mcd.location_)"
			]
		},
		{
			"cell_type": "markdown",
			"id": "e5b5a5f6",
			"metadata": {},
			"source": [
				"## BH. Gaussian random projection (sklearn.random_projection)"
			]
		},
		{
			"cell_type": "code",
			"execution_count": 909,
			"id": "3f54bb8e",
			"metadata": {},
			"outputs": [
				{
					"name": "stdout",
					"output_type": "stream",
					"text": [
						"GaussianRandomProjection shape: (1797, 2)\n"
					]
				}
			],
			"source": [
				"# 171. GaussianRandomProjection\n",
				"from sklearn.random_projection import GaussianRandomProjection\n",
				"grp = GaussianRandomProjection(n_components=2, random_state=42)\n",
				"X_grp = grp.fit_transform(digits.data)\n",
				"print(\"GaussianRandomProjection shape:\", X_grp.shape)"
			]
		},
		{
			"cell_type": "code",
			"execution_count": 910,
			"id": "fe5f491f",
			"metadata": {},
			"outputs": [
				{
					"name": "stdout",
					"output_type": "stream",
					"text": [
						"SparseRandomProjection shape: (1797, 2)\n"
					]
				}
			],
			"source": [
				"# 172. SparseRandomProjection\n",
				"from sklearn.random_projection import SparseRandomProjection\n",
				"srp = SparseRandomProjection(n_components=2, random_state=42)\n",
				"X_srp = srp.fit_transform(digits.data)\n",
				"print(\"SparseRandomProjection shape:\", X_srp.shape)"
			]
		},
		{
			"cell_type": "markdown",
			"id": "af27bcea",
			"metadata": {},
			"source": [
				"## BI. Multi-label classification (via MultiOutputClassifier or external)."
			]
		},
		{
			"cell_type": "markdown",
			"id": "c8158170",
			"metadata": {},
			"source": [
				"## BJ. Checking direct model usage"
			]
		},
		{
			"cell_type": "code",
			"execution_count": 911,
			"id": "1aaf8988",
			"metadata": {},
			"outputs": [
				{
					"name": "stdout",
					"output_type": "stream",
					"text": [
						"PARegressor R^2: 0.9941056166715797\n"
					]
				}
			],
			"source": [
				"# 173. PassiveAggressiveRegressor\n",
				"from sklearn.linear_model import PassiveAggressiveRegressor\n",
				"par = PassiveAggressiveRegressor(max_iter=1000, random_state=42)\n",
				"par.fit(Xr, yr)\n",
				"print(\"PARegressor R^2:\", par.score(Xr, yr))"
			]
		},
		{
			"cell_type": "markdown",
			"id": "23713d41",
			"metadata": {},
			"source": [
				"## BK. Checking Tree Export"
			]
		},
		{
			"cell_type": "code",
			"execution_count": 912,
			"id": "810d52c3",
			"metadata": {},
			"outputs": [
				{
					"name": "stdout",
					"output_type": "stream",
					"text": [
						"digraph Tree {\n",
						"node [shape=box, fontname=\"helvetica\"] ;\n",
						"edge [fontname=\"helvetica\"] ;\n",
						"0 [label=\"x[2] ...\n"
					]
				}
			],
			"source": [
				"# 174. export_graphviz\n",
				"from sklearn.tree import export_graphviz\n",
				"dot_data = export_graphviz(dtc, out_file=None)\n",
				"print(dot_data[:100], \"...\")"
			]
		},
		{
			"cell_type": "markdown",
			"id": "7ef4242a",
			"metadata": {},
			"source": [
				"## BL. Checking partial predict_proba (some have no probability?)."
			]
		},
		{
			"cell_type": "markdown",
			"id": "6c120f59",
			"metadata": {},
			"source": [
				"## BM. Checking cluster warm_start"
			]
		},
		{
			"cell_type": "code",
			"execution_count": 913,
			"id": "f550fbed",
			"metadata": {},
			"outputs": [
				{
					"name": "stdout",
					"output_type": "stream",
					"text": [
						"KMeans warm start inertia: 167.6183892049733\n"
					]
				}
			],
			"source": [
				"# 175. KMeans warm_start\n",
				"km_ws = KMeans(n_clusters=3, n_init=1, init='random')\n",
				"km_ws.fit(Xb)\n",
				"km_ws_copy = KMeans(n_clusters=3, n_init=1)\n",
				"km_ws_copy.cluster_centers_ = km_ws.cluster_centers_\n",
				"km_ws_copy._n_threads = 1  # internal detail\n",
				"km_ws_copy.fit(Xb)\n",
				"print(\"KMeans warm start inertia:\", km_ws_copy.inertia_)"
			]
		},
		{
			"cell_type": "markdown",
			"id": "6053ecb2",
			"metadata": {},
			"source": [
				"## BN. Checking 'scale' function"
			]
		},
		{
			"cell_type": "code",
			"execution_count": 914,
			"id": "d0a5ed04",
			"metadata": {},
			"outputs": [
				{
					"name": "stdout",
					"output_type": "stream",
					"text": [
						"Scaled shape: (105, 4)\n"
					]
				}
			],
			"source": [
				"# 176. scale\n",
				"from sklearn.preprocessing import scale\n",
				"X_scaled = scale(X_train)\n",
				"print(\"Scaled shape:\", X_scaled.shape)"
			]
		},
		{
			"cell_type": "markdown",
			"id": "211253c0",
			"metadata": {},
			"source": [
				"## BO. Checking 'label_binarize'"
			]
		},
		{
			"cell_type": "code",
			"execution_count": 915,
			"id": "36a5855f",
			"metadata": {},
			"outputs": [
				{
					"name": "stdout",
					"output_type": "stream",
					"text": [
						"label_binarize shape: (150, 3)\n"
					]
				}
			],
			"source": [
				"# 177. label_binarize\n",
				"from sklearn.preprocessing import label_binarize\n",
				"y_bi = label_binarize(iris.target, classes=[0,1,2])\n",
				"print(\"label_binarize shape:\", y_bi.shape)"
			]
		},
		{
			"cell_type": "markdown",
			"id": "ef5580c1",
			"metadata": {},
			"source": [
				"## BP. Checking 'KernelCenterer'"
			]
		},
		{
			"cell_type": "code",
			"execution_count": 916,
			"id": "abc7caa4",
			"metadata": {},
			"outputs": [
				{
					"name": "stdout",
					"output_type": "stream",
					"text": [
						"Centered kernel shape: (105, 105)\n"
					]
				}
			],
			"source": [
				"# 178. KernelCenterer\n",
				"from sklearn.preprocessing import KernelCenterer\n",
				"K = pairwise_kernels(X_train, metric='linear')\n",
				"kc = KernelCenterer()\n",
				"Kc = kc.fit_transform(K)\n",
				"print(\"Centered kernel shape:\", Kc.shape)"
			]
		},
		{
			"cell_type": "markdown",
			"id": "1ff3a879",
			"metadata": {},
			"source": [
				"## BQ. Checking 'TfidfTransformer'"
			]
		},
		{
			"cell_type": "code",
			"execution_count": 917,
			"id": "b478a1bf",
			"metadata": {},
			"outputs": [
				{
					"name": "stdout",
					"output_type": "stream",
					"text": [
						"[[0.97300882 0.         0.23076793]\n",
						" [0.         0.57496187 0.81818021]]\n"
					]
				}
			],
			"source": [
				"# 179. TfidfTransformer\n",
				"from sklearn.feature_extraction.text import TfidfTransformer\n",
				"counts = np.array([[3,0,1],[0,2,4]])\n",
				"tfidf_trans = TfidfTransformer()\n",
				"tfidf_mat = tfidf_trans.fit_transform(counts)\n",
				"print(tfidf_mat.toarray())"
			]
		},
		{
			"cell_type": "markdown",
			"id": "d78f7bff",
			"metadata": {},
			"source": [
				"## BR. Checking classification thresholds"
			]
		},
		{
			"cell_type": "code",
			"execution_count": 918,
			"id": "2a5487d9",
			"metadata": {},
			"outputs": [
				{
					"name": "stdout",
					"output_type": "stream",
					"text": [
						"Precision: [0.28888889 0.27272727 0.27906977 0.28571429 0.29268293] Recall: [1.         0.92307692 0.92307692 0.92307692 0.92307692]\n"
					]
				}
			],
			"source": [
				"# 180. precision_recall_curve\n",
				"from sklearn.metrics import precision_recall_curve\n",
				"prec_curve, rec_curve, thr = precision_recall_curve((y_test==2).astype(int), y_prob)\n",
				"print(\"Precision:\", prec_curve[:5], \"Recall:\", rec_curve[:5])"
			]
		},
		{
			"cell_type": "markdown",
			"id": "88201e2e",
			"metadata": {},
			"source": [
				"## BS. Checking partial fit with increment"
			]
		},
		{
			"cell_type": "code",
			"execution_count": 919,
			"id": "8ca03367",
			"metadata": {},
			"outputs": [
				{
					"name": "stdout",
					"output_type": "stream",
					"text": [
						"MLPClassifier partial_fit is limited for some versions.\n"
					]
				}
			],
			"source": [
				"# 181. partial_fit with MLPClassifier? Not implemented.\n",
				"print(\"MLPClassifier partial_fit is limited for some versions.\")"
			]
		},
		{
			"cell_type": "markdown",
			"id": "576df544",
			"metadata": {},
			"source": [
				"## BT. Checking robust_scale function"
			]
		},
		{
			"cell_type": "code",
			"execution_count": 920,
			"id": "7bc8e975",
			"metadata": {},
			"outputs": [
				{
					"name": "stdout",
					"output_type": "stream",
					"text": [
						"robust_scale shape: (105, 4)\n"
					]
				}
			],
			"source": [
				"# 182. robust_scale\n",
				"from sklearn.preprocessing import robust_scale\n",
				"X_robust = robust_scale(X_train)\n",
				"print(\"robust_scale shape:\", X_robust.shape)"
			]
		},
		{
			"cell_type": "markdown",
			"id": "36b84799",
			"metadata": {},
			"source": [
				"## BU. Check 'additive_chi2_kernel'"
			]
		},
		{
			"cell_type": "code",
			"execution_count": 921,
			"id": "e5244964",
			"metadata": {},
			"outputs": [
				{
					"name": "stdout",
					"output_type": "stream",
					"text": [
						"[[-0.         -0.40773379 -0.73790348 -0.29382716 -1.6981713 ]\n",
						" [-0.40773379 -0.         -0.05840871 -0.06890052 -0.49928571]\n",
						" [-0.73790348 -0.05840871 -0.         -0.17693849 -0.22936023]\n",
						" [-0.29382716 -0.06890052 -0.17693849 -0.         -0.66612692]\n",
						" [-1.6981713  -0.49928571 -0.22936023 -0.66612692 -0.        ]]\n"
					]
				}
			],
			"source": [
				"# 183. additive_chi2_kernel\n",
				"from sklearn.metrics.pairwise import additive_chi2_kernel\n",
				"K_add = additive_chi2_kernel(X_train[:5], X_train[:5])\n",
				"print(K_add)"
			]
		},
		{
			"cell_type": "markdown",
			"id": "e80ede56",
			"metadata": {},
			"source": [
				"## BV. Checking Tolerant versions"
			]
		},
		{
			"cell_type": "markdown",
			"id": "4e530cc8",
			"metadata": {},
			"source": [
				"## BW. Minimal example of partial dependence again"
			]
		},
		{
			"cell_type": "markdown",
			"id": "9be6fef5",
			"metadata": {},
			"source": [
				"## BX. Another small cluster usage"
			]
		},
		{
			"cell_type": "code",
			"execution_count": 922,
			"id": "edaf08db",
			"metadata": {},
			"outputs": [
				{
					"name": "stdout",
					"output_type": "stream",
					"text": [
						"SpectralClustering labels:"
					]
				},
				{
					"name": "stdout",
					"output_type": "stream",
					"text": [
						" [0 1 2]\n"
					]
				},
				{
					"name": "stderr",
					"output_type": "stream",
					"text": [
						"C:\\Users\\minqliu\\AppData\\Local\\Packages\\PythonSoftwareFoundation.Python.3.11_qbz5n2kfra8p0\\LocalCache\\local-packages\\Python311\\site-packages\\sklearn\\manifold\\_spectral_embedding.py:329: UserWarning: Graph is not fully connected, spectral embedding may not work as expected.\n",
						"  warnings.warn(\n"
					]
				}
			],
			"source": [
				"# 184. SpectralClustering\n",
				"from sklearn.cluster import SpectralClustering\n",
				"sc = SpectralClustering(n_clusters=3, affinity='nearest_neighbors')\n",
				"labels_sc = sc.fit_predict(Xb)\n",
				"print(\"SpectralClustering labels:\", np.unique(labels_sc))"
			]
		},
		{
			"cell_type": "markdown",
			"id": "759bd159",
			"metadata": {},
			"source": [
				"## BY. Checking classification multi-label usage"
			]
		},
		{
			"cell_type": "code",
			"execution_count": 923,
			"id": "3f96417b",
			"metadata": {},
			"outputs": [
				{
					"name": "stdout",
					"output_type": "stream",
					"text": [
						"ClassifierChain predict: [[0. 0.]\n",
						" [0. 0.]]\n"
					]
				},
				{
					"name": "stderr",
					"output_type": "stream",
					"text": [
						"C:\\Users\\minqliu\\AppData\\Local\\Packages\\PythonSoftwareFoundation.Python.3.11_qbz5n2kfra8p0\\LocalCache\\local-packages\\Python311\\site-packages\\sklearn\\linear_model\\_logistic.py:465: ConvergenceWarning: lbfgs failed to converge (status=1):\n",
						"STOP: TOTAL NO. OF ITERATIONS REACHED LIMIT.\n",
						"\n",
						"Increase the number of iterations (max_iter) or scale the data as shown in:\n",
						"    https://scikit-learn.org/stable/modules/preprocessing.html\n",
						"Please also refer to the documentation for alternative solver options:\n",
						"    https://scikit-learn.org/stable/modules/linear_model.html#logistic-regression\n",
						"  n_iter_i = _check_optimize_result(\n"
					]
				}
			],
			"source": [
				"# 185. ClassifierChain\n",
				"from sklearn.multioutput import ClassifierChain\n",
				"chain = ClassifierChain(LogisticRegression())\n",
				"chain.fit(iris.data, Y_multi_class)\n",
				"print(\"ClassifierChain predict:\", chain.predict(iris.data[:2]))"
			]
		},
		{
			"cell_type": "markdown",
			"id": "a8721b9c",
			"metadata": {},
			"source": [
				"## BZ. Checking data with cluster std or random states"
			]
		},
		{
			"cell_type": "code",
			"execution_count": 924,
			"id": "d82d70f1",
			"metadata": {},
			"outputs": [
				{
					"name": "stdout",
					"output_type": "stream",
					"text": [
						"Blobs shape: (200, 2)\n"
					]
				}
			],
			"source": [
				"# 186. make_blobs with different cluster_std\n",
				"Xb2, yb2 = make_blobs(n_samples=200, centers=2, cluster_std=[1.0,2.5], random_state=42)\n",
				"print(\"Blobs shape:\", Xb2.shape)"
			]
		},
		{
			"cell_type": "markdown",
			"id": "382373eb",
			"metadata": {},
			"source": [
				"## CA. Checking quantile_transform"
			]
		},
		{
			"cell_type": "code",
			"execution_count": 925,
			"id": "7253552e",
			"metadata": {},
			"outputs": [
				{
					"name": "stdout",
					"output_type": "stream",
					"text": [
						"[[0.37037037 0.08888889 0.36904762 0.33333333]\n",
						" [0.69565217 0.28888889 0.72222222 0.6031746 ]\n",
						" [0.73913043 0.63888889 0.83333333 0.77777778]\n",
						" [0.80780781 0.5        0.52614379 0.55555556]\n",
						" [0.93055556 0.9047619  0.93333333 1.        ]]\n"
					]
				}
			],
			"source": [
				"# 187. quantile_transform\n",
				"from sklearn.preprocessing import quantile_transform\n",
				"X_qt = quantile_transform(X_train, n_quantiles=10)\n",
				"print(X_qt[:5])"
			]
		},
		{
			"cell_type": "markdown",
			"id": "2e5a1878",
			"metadata": {},
			"source": [
				"## CB. Checking power_transform"
			]
		},
		{
			"cell_type": "code",
			"execution_count": 926,
			"id": "05b80ef1",
			"metadata": {},
			"outputs": [
				{
					"name": "stdout",
					"output_type": "stream",
					"text": [
						"[[-0.34825696 -1.50883602 -0.16300267 -0.32271504]\n",
						" [ 0.61125973 -0.47676567  0.70658646  0.35354299]\n",
						" [ 0.72119982  0.25031093  0.96772877  0.75903865]\n",
						" [ 0.93517859  0.01204425  0.26277136  0.21833698]\n",
						" [ 1.53402661  1.38650125  1.36910078  1.70456842]]\n"
					]
				}
			],
			"source": [
				"# 188. power_transform\n",
				"from sklearn.preprocessing import power_transform\n",
				"X_pt = power_transform(X_train, method='yeo-johnson')\n",
				"print(X_pt[:5])"
			]
		},
		{
			"cell_type": "markdown",
			"id": "5a369c56",
			"metadata": {},
			"source": [
				"## CC. Checking iterative imputer"
			]
		},
		{
			"cell_type": "code",
			"execution_count": 927,
			"id": "258e41d8",
			"metadata": {},
			"outputs": [
				{
					"name": "stdout",
					"output_type": "stream",
					"text": [
						"IterativeImputer requires newer sklearn.\n"
					]
				}
			],
			"source": [
				"# 189. IterativeImputer\n",
				"try:\n",
				"    from sklearn.impute import IterativeImputer\n",
				"    ii = IterativeImputer(random_state=42)\n",
				"    X_ii = ii.fit_transform(X_nan)\n",
				"    print(X_ii[0])\n",
				"except:\n",
				"    print(\"IterativeImputer requires newer sklearn.\")"
			]
		},
		{
			"cell_type": "markdown",
			"id": "d7a416c5",
			"metadata": {},
			"source": [
				"## CD. Checking final aggregator or new aggregator"
			]
		},
		{
			"cell_type": "markdown",
			"id": "3e8d4bf4",
			"metadata": {},
			"source": [
				"## CE. Post-model interpret with shap or others (not scikit-learn core)."
			]
		},
		{
			"cell_type": "markdown",
			"id": "0f30e591",
			"metadata": {},
			"source": [
				"## CF. We'll finalize with a summary."
			]
		},
		{
			"cell_type": "code",
			"execution_count": 928,
			"id": "283340ea",
			"metadata": {},
			"outputs": [
				{
					"name": "stdout",
					"output_type": "stream",
					"text": [
						"Best params: {'clf__C': 10} Score: 0.9523809523809524\n"
					]
				}
			],
			"source": [
				"# 190. Entire flow example: pipeline + gridsearch\n",
				"pl = Pipeline([\n",
				"    ('scaler', StandardScaler()),\n",
				"    ('clf', LogisticRegression())\n",
				"])\n",
				"param_grid = {'clf__C':[0.1,1,10]}\n",
				"gs_ex = GridSearchCV(pl, param_grid, cv=3)\n",
				"gs_ex.fit(X_train, y_train)\n",
				"print(\"Best params:\", gs_ex.best_params_, \"Score:\", gs_ex.best_score_)"
			]
		},
		{
			"cell_type": "code",
			"execution_count": 929,
			"id": "e19ee724",
			"metadata": {},
			"outputs": [
				{
					"name": "stdout",
					"output_type": "stream",
					"text": [
						"SVC poly score: 0.9777777777777777\n"
					]
				}
			],
			"source": [
				"# 191. Checking SVC poly kernel\n",
				"svc_poly = SVC(kernel='poly', degree=3)\n",
				"svc_poly.fit(X_train, y_train)\n",
				"print(\"SVC poly score:\", svc_poly.score(X_test, y_test))"
			]
		},
		{
			"cell_type": "code",
			"execution_count": 930,
			"id": "d1e8b57d",
			"metadata": {},
			"outputs": [
				{
					"name": "stderr",
					"output_type": "stream",
					"text": [
						"C:\\Users\\minqliu\\AppData\\Local\\Packages\\PythonSoftwareFoundation.Python.3.11_qbz5n2kfra8p0\\LocalCache\\local-packages\\Python311\\site-packages\\sklearn\\linear_model\\_sag.py:348: ConvergenceWarning: The max_iter was reached which means the coef_ did not converge\n",
						"  warnings.warn(\n"
					]
				},
				{
					"name": "stdout",
					"output_type": "stream",
					"text": [
						"LR L1 score: 1.0\n"
					]
				}
			],
			"source": [
				"# 192. Checking L1 penalty in LogisticRegression\n",
				"try:\n",
				"    lr_l1 = LogisticRegression(penalty='l1', solver='saga', max_iter=1000)\n",
				"    lr_l1.fit(X_train, y_train)\n",
				"    print(\"LR L1 score:\", lr_l1.score(X_test, y_test))\n",
				"except:\n",
				"    print(\"L1 not supported or saga solver needed.\")"
			]
		},
		{
			"cell_type": "code",
			"execution_count": 931,
			"id": "aa49cc4c",
			"metadata": {},
			"outputs": [
				{
					"name": "stdout",
					"output_type": "stream",
					"text": [
						"Bagging SVC: 1.0\n"
					]
				}
			],
			"source": [
				"# 193. Checking Bagging + SVC\n",
				"bag_svc = BaggingClassifier(estimator=SVC(), n_estimators=5)\n",
				"bag_svc.fit(X_train, y_train)\n",
				"print(\"Bagging SVC:\", bag_svc.score(X_test, y_test))"
			]
		},
		{
			"cell_type": "code",
			"execution_count": 932,
			"id": "ad1603fe",
			"metadata": {},
			"outputs": [
				{
					"name": "stdout",
					"output_type": "stream",
					"text": [
						"Multinomial LR: 1.0\n"
					]
				},
				{
					"name": "stderr",
					"output_type": "stream",
					"text": [
						"C:\\Users\\minqliu\\AppData\\Local\\Packages\\PythonSoftwareFoundation.Python.3.11_qbz5n2kfra8p0\\LocalCache\\local-packages\\Python311\\site-packages\\sklearn\\linear_model\\_logistic.py:1247: FutureWarning: 'multi_class' was deprecated in version 1.5 and will be removed in 1.7. From then on, it will always use 'multinomial'. Leave it to its default value to avoid this warning.\n",
						"  warnings.warn(\n"
					]
				}
			],
			"source": [
				"# 194. Checking multi_class='multinomial' in LogisticRegression\n",
				"lr_multi = LogisticRegression(multi_class='multinomial', solver='lbfgs', max_iter=200)\n",
				"lr_multi.fit(X_train, y_train)\n",
				"print(\"Multinomial LR:\", lr_multi.score(X_test, y_test))"
			]
		},
		{
			"cell_type": "markdown",
			"id": "1894fd33",
			"metadata": {},
			"source": [
				"## CG. Large scale partial fits"
			]
		},
		{
			"cell_type": "code",
			"execution_count": 933,
			"id": "35b88be9",
			"metadata": {},
			"outputs": [
				{
					"name": "stdout",
					"output_type": "stream",
					"text": [
						"MultinomialNB partial_fit final score: 0.7673900946021146\n"
					]
				}
			],
			"source": [
				"# 195. partial_fit with MultinomialNB\n",
				"multi_nb = MultinomialNB()\n",
				"for i in range(5):\n",
				"    multi_nb.partial_fit(X_digits[i*50:(i+1)*50], y_digits[i*50:(i+1)*50],\n",
				"                        classes=np.unique(y_digits))\n",
				"print(\"MultinomialNB partial_fit final score:\", multi_nb.score(X_digits, y_digits))"
			]
		},
		{
			"cell_type": "markdown",
			"id": "1cdcbf8d",
			"metadata": {},
			"source": [
				"## CH. Another advanced pipeline usage"
			]
		},
		{
			"cell_type": "code",
			"execution_count": 934,
			"id": "480bb735",
			"metadata": {},
			"outputs": [
				{
					"name": "stdout",
					"output_type": "stream",
					"text": [
						"Union+SVC score: 1.0\n"
					]
				}
			],
			"source": [
				"# 196. Checking Union + pipeline\n",
				"transformer = FeatureUnion([\n",
				"    ('pca', PCA(n_components=2)),\n",
				"    ('select_best', SelectKBest(k=2))\n",
				"])\n",
				"pipe2 = Pipeline([\n",
				"    ('union', transformer),\n",
				"    ('clf', SVC())\n",
				"])\n",
				"pipe2.fit(X_train, y_train)\n",
				"print(\"Union+SVC score:\", pipe2.score(X_test, y_test))"
			]
		},
		{
			"cell_type": "markdown",
			"id": "e8f7e8e9",
			"metadata": {},
			"source": [
				"## CI. Another advanced metric usage"
			]
		},
		{
			"cell_type": "code",
			"execution_count": 935,
			"id": "adf412c4",
			"metadata": {},
			"outputs": [
				{
					"name": "stdout",
					"output_type": "stream",
					"text": [
						"Avg precision: 0.2646047797958967\n"
					]
				}
			],
			"source": [
				"# 197. average_precision_score\n",
				"from sklearn.metrics import average_precision_score\n",
				"aps = average_precision_score((y_test==2).astype(int), y_prob)\n",
				"print(\"Avg precision:\", aps)"
			]
		},
		{
			"cell_type": "markdown",
			"id": "e2d203fb",
			"metadata": {},
			"source": [
				"## CJ. Checking def classification metrics"
			]
		},
		{
			"cell_type": "markdown",
			"id": "e720e8b6",
			"metadata": {},
			"source": [
				"## CK. Another advanced usage in pipeline"
			]
		},
		{
			"cell_type": "code",
			"execution_count": 936,
			"id": "8999a4ea",
			"metadata": {},
			"outputs": [
				{
					"name": "stdout",
					"output_type": "stream",
					"text": [
						"CT Pipeline score: 1.0\n"
					]
				}
			],
			"source": [
				"# 198. ColumnTransformer in pipeline\n",
				"ct_pipe = Pipeline([\n",
				"    ('ct', ColumnTransformer([\n",
				"        ('scale', StandardScaler(), [0,1]),\n",
				"        ('pass', 'passthrough', [2,3])\n",
				"    ])),\n",
				"    ('clf', DecisionTreeClassifier())\n",
				"])\n",
				"ct_pipe.fit(iris.data, iris.target)\n",
				"print(\"CT Pipeline score:\", ct_pipe.score(iris.data, iris.target))"
			]
		},
		{
			"cell_type": "markdown",
			"id": "910f9854",
			"metadata": {},
			"source": [
				"## CL. Final checks"
			]
		},
		{
			"cell_type": "code",
			"execution_count": 937,
			"id": "3ea6b29b",
			"metadata": {},
			"outputs": [
				{
					"name": "stdout",
					"output_type": "stream",
					"text": [
						"Clone pipeline score: 1.0\n"
					]
				}
			],
			"source": [
				"# 199. pipeline clone\n",
				"from sklearn.base import clone\n",
				"pipe_clone = clone(pipeline)\n",
				"pipe_clone.fit(X_train, y_train)\n",
				"print(\"Clone pipeline score:\", pipe_clone.score(X_test, y_test))"
			]
		},
		{
			"cell_type": "code",
			"execution_count": 938,
			"id": "0c574dfa",
			"metadata": {},
			"outputs": [
				{
					"name": "stdout",
					"output_type": "stream",
					"text": [
						"All 200 scikit-learn examples done.\n"
					]
				}
			],
			"source": [
				"# 200. End of 200 examples!\n",
				"print(\"All 200 scikit-learn examples done.\")"
			]
		}
	],
	"metadata": {
		"kernelspec": {
			"display_name": "Python 3",
			"language": "python",
			"name": "python3"
		},
		"language_info": {
			"codemirror_mode": {
				"name": "ipython",
				"version": 3
			},
			"file_extension": ".py",
			"mimetype": "text/x-python",
			"name": "python",
			"nbconvert_exporter": "python",
			"pygments_lexer": "ipython3",
			"version": "3.11.9"
		}
	},
	"nbformat": 4,
	"nbformat_minor": 5
}
